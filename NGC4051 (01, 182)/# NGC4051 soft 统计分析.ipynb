{
 "cells": [
  {
   "cell_type": "code",
   "execution_count": 1,
   "metadata": {},
   "outputs": [],
   "source": [
    "import numpy as np\n",
    "import math\n",
    "import matplotlib.pyplot as plt\n",
    "from scipy.fftpack import fft,ifft\n",
    "import pandas as pd\n",
    "from scipy.optimize import minimize\n",
    "from scipy.optimize import basinhopping\n",
    "from iminuit import Minuit\n",
    "\n",
    "import emcee\n",
    "from pprint import pprint\n",
    "import time\n",
    "from multiprocessing import Pool\n",
    "\n",
    "import random"
   ]
  },
  {
   "cell_type": "markdown",
   "metadata": {},
   "source": [
    "## 2001 统计分析"
   ]
  },
  {
   "cell_type": "code",
   "execution_count": 2,
   "metadata": {},
   "outputs": [],
   "source": [
    "# 似然函数 p; D = -2 ln p\n",
    "\n",
    "def twi_minus_loglikelihood_01(log_A,log_f_b,alpha_H,log_poisson):\n",
    "    alpha_L = 1.0\n",
    "    \n",
    "    perdata01 = pd.read_csv(\"perlist01_s.csv\")\n",
    "    f = perdata01['f']\n",
    "    per = perdata01['per']\n",
    "            \n",
    "    model = []\n",
    "    f_length = len(f)\n",
    "    for i in range(f_length):\n",
    "        model.append(((f[i]**(-alpha_L))/(1+(f[i]/(10**log_f_b))**(alpha_H-alpha_L)))*(10**log_A)+(10**log_poisson))\n",
    "     \n",
    "    \n",
    "    length = len(perdata01)\n",
    "    minus_log_p = 0\n",
    "    for i in range(length):\n",
    "        minus_log_p += (per[i]/model[i]+math.log(model[i]))\n",
    "    \n",
    "    \n",
    "    D = 2*minus_log_p\n",
    "    # print (D)\n",
    "    return D"
   ]
  },
  {
   "cell_type": "code",
   "execution_count": 3,
   "metadata": {},
   "outputs": [
    {
     "data": {
      "text/html": [
       "<hr>"
      ]
     },
     "metadata": {},
     "output_type": "display_data"
    },
    {
     "data": {
      "text/html": [
       "<table>\n",
       "    <tr>\n",
       "        <td title=\"Minimum value of function\">FCN = -1236.9677578079807</td>\n",
       "        <td title=\"Total number of call to FCN so far\">TOTAL NCALL = 159</td>\n",
       "        <td title=\"Number of call in last migrad\">NCALLS = 159</td>\n",
       "    </tr>\n",
       "    <tr>\n",
       "        <td title=\"Estimated distance to minimum\">EDM = 1.989476009735364e-06</td>\n",
       "        <td title=\"Maximum EDM definition of convergence\">GOAL EDM = 1e-05</td>\n",
       "        <td title=\"Error def. Amount of increase in FCN to be defined as 1 standard deviation\">\n",
       "        UP = 1.0</td>\n",
       "    </tr>\n",
       "</table>\n",
       "<table>\n",
       "    <tr>\n",
       "        <td align=\"center\" title=\"Validity of the migrad call\">Valid</td>\n",
       "        <td align=\"center\" title=\"Validity of parameters\">Valid Param</td>\n",
       "        <td align=\"center\" title=\"Is Covariance matrix accurate?\">Accurate Covar</td>\n",
       "        <td align=\"center\" title=\"Positive definiteness of covariance matrix\">PosDef</td>\n",
       "        <td align=\"center\" title=\"Was covariance matrix made posdef by adding diagonal element\">Made PosDef</td>\n",
       "    </tr>\n",
       "    <tr>\n",
       "        <td align=\"center\" style=\"background-color:#92CCA6\">True</td>\n",
       "        <td align=\"center\" style=\"background-color:#92CCA6\">True</td>\n",
       "        <td align=\"center\" style=\"background-color:#92CCA6\">True</td>\n",
       "        <td align=\"center\" style=\"background-color:#92CCA6\">True</td>\n",
       "        <td align=\"center\" style=\"background-color:#92CCA6\">False</td>\n",
       "    </tr>\n",
       "    <tr>\n",
       "        <td align=\"center\" title=\"Was last hesse call fail?\">Hesse Fail</td>\n",
       "        <td align=\"center\" title=\"Validity of covariance\">HasCov</td>\n",
       "        <td align=\"center\" title=\"Is EDM above goal EDM?\">Above EDM</td>\n",
       "        <td align=\"center\"></td>\n",
       "        <td align=\"center\" title=\"Did last migrad call reach max call limit?\">Reach calllim</td>\n",
       "    </tr>\n",
       "    <tr>\n",
       "        <td align=\"center\" style=\"background-color:#92CCA6\">False</td>\n",
       "        <td align=\"center\" style=\"background-color:#92CCA6\">True</td>\n",
       "        <td align=\"center\" style=\"background-color:#92CCA6\">False</td>\n",
       "        <td align=\"center\"></td>\n",
       "        <td align=\"center\" style=\"background-color:#92CCA6\">False</td>\n",
       "    </tr>\n",
       "</table>"
      ]
     },
     "metadata": {},
     "output_type": "display_data"
    },
    {
     "data": {
      "text/html": [
       "<table>\n",
       "    <tr>\n",
       "        <td><a href=\"#\" onclick=\"$('#ckFBMvudRD').toggle()\">+</a></td>\n",
       "        <td title=\"Variable name\">Name</td>\n",
       "        <td title=\"Value of parameter\">Value</td>\n",
       "        <td title=\"Hesse error\">Hesse Error</td>\n",
       "        <td title=\"Minos lower error\">Minos Error-</td>\n",
       "        <td title=\"Minos upper error\">Minos Error+</td>\n",
       "        <td title=\"Lower limit of the parameter\">Limit-</td>\n",
       "        <td title=\"Upper limit of the parameter\">Limit+</td>\n",
       "        <td title=\"Is the parameter fixed in the fit\">Fixed?</td>\n",
       "    </tr>\n",
       "    <tr>\n",
       "        <td>0</td>\n",
       "        <td>log_A</td>\n",
       "        <td>-2.29215</td>\n",
       "        <td>0.158339</td>\n",
       "        <td></td>\n",
       "        <td></td>\n",
       "        <td>-3</td>\n",
       "        <td>-1</td>\n",
       "        <td>No</td>\n",
       "    </tr>\n",
       "    <tr>\n",
       "        <td>1</td>\n",
       "        <td>log_f_b</td>\n",
       "        <td>-3.86704</td>\n",
       "        <td>0.136486</td>\n",
       "        <td></td>\n",
       "        <td></td>\n",
       "        <td>-5</td>\n",
       "        <td>-2</td>\n",
       "        <td>No</td>\n",
       "    </tr>\n",
       "    <tr>\n",
       "        <td>2</td>\n",
       "        <td>alpha_H</td>\n",
       "        <td>3.3068</td>\n",
       "        <td>0.348349</td>\n",
       "        <td></td>\n",
       "        <td></td>\n",
       "        <td>1</td>\n",
       "        <td>5</td>\n",
       "        <td>No</td>\n",
       "    </tr>\n",
       "    <tr>\n",
       "        <td>3</td>\n",
       "        <td>poisson</td>\n",
       "        <td>0.168015</td>\n",
       "        <td>0.00554297</td>\n",
       "        <td></td>\n",
       "        <td></td>\n",
       "        <td>0</td>\n",
       "        <td>2</td>\n",
       "        <td>No</td>\n",
       "    </tr>\n",
       "</table>\n",
       "<pre id=\"ckFBMvudRD\" style=\"display:none;\">\n",
       "<textarea rows=\"14\" cols=\"50\" onclick=\"this.select()\" readonly>\n",
       "\\begin{tabular}{|c|r|r|r|r|r|r|r|c|}\n",
       "\\hline\n",
       " & Name & Value & Hesse Error & Minos Error- & Minos Error+ & Limit- & Limit+ & Fixed?\\\\\n",
       "\\hline\n",
       "0 & $log_{A}$ & -2.29215 & 0.158339 &  &  & -3.0 & -1 & No\\\\\n",
       "\\hline\n",
       "1 & log $f_{b}$ & -3.86704 & 0.136486 &  &  & -5.0 & -2 & No\\\\\n",
       "\\hline\n",
       "2 & $\\alpha_{H}$ & 3.3068 & 0.348349 &  &  & 1.0 & 5 & No\\\\\n",
       "\\hline\n",
       "3 & poisson & 0.168015 & 0.00554297 &  &  & 0.0 & 2 & No\\\\\n",
       "\\hline\n",
       "\\end{tabular}\n",
       "</textarea>\n",
       "</pre>"
      ]
     },
     "metadata": {},
     "output_type": "display_data"
    },
    {
     "data": {
      "text/html": [
       "<hr>"
      ]
     },
     "metadata": {},
     "output_type": "display_data"
    },
    {
     "name": "stdout",
     "output_type": "stream",
     "text": [
      "-1236.9677578079807\n"
     ]
    }
   ],
   "source": [
    "m01=Minuit(twi_minus_loglikelihood_01,log_A=math.log(0.005,10),log_f_b=math.log(1.7E-4,10),alpha_H=3.8,log_poisson=0.0,\n",
    "         error_log_A=0.1,error_log_f_b=0.1,error_alpha_H=0.01,error_log_poisson=0.1,\n",
    "         limit_log_A=(-3,0), limit_log_f_b=(-7,-2),limit_alpha_H=(1.0,5.0),limit_log_poisson=(0,3),\n",
    "         errordef=1)\n",
    "\n",
    "m01.migrad()\n",
    "\n",
    "pprint(m01.fval)"
   ]
  },
  {
   "cell_type": "code",
   "execution_count": 4,
   "metadata": {},
   "outputs": [
    {
     "name": "stdout",
     "output_type": "stream",
     "text": [
      "T_R = 13.695484867237228\n",
      "T_SSE = 1073.8175500319135\n"
     ]
    }
   ],
   "source": [
    "perdata01 = pd.read_csv(\"perlist01_s.csv\")\n",
    "f_01 = perdata01['f']\n",
    "per_01 = perdata01['per']\n",
    "\n",
    "alpha_L = 1.0\n",
    "log_A,log_f_b,alpha_H,log_poisson = m01.values[0],m01.values[1],m01.values[2],m01.values[3]\n",
    "\n",
    "model_01 = []\n",
    "R_obs_01 = []\n",
    "T_SSE_obs_01 = 0\n",
    "f_length_01 = len(f_01)\n",
    "for i in range(f_length_01):\n",
    "    model_01.append(((f_01[i]**(-alpha_L))/(1+(f_01[i]/(10**log_f_b))**(alpha_H-alpha_L)))*(10**log_A)+(10**log_poisson))\n",
    "    R_obs_01.append(2*per_01[i]/model_01[i])\n",
    "    T_SSE_obs_01 += (((per_01[i]-model_01[i])/model_01[i])**2)\n",
    "    \n",
    "# 两个统计量\n",
    "T_R_obs_01 = max(R_obs_01)\n",
    "print (\"T_R =\", T_R_obs_01)\n",
    "print (\"T_SSE =\", T_SSE_obs_01)"
   ]
  },
  {
   "cell_type": "code",
   "execution_count": 5,
   "metadata": {},
   "outputs": [],
   "source": [
    "# 5000条光变曲线\n",
    "\n",
    "df = 0.01/f_length_01\n",
    "N = 2*f_length_01\n",
    "counts_list=[None for i in range(5000)]\n",
    "for a in range(5000): \n",
    "    omega = []\n",
    "    POW = []\n",
    "    DFT = []\n",
    "    fr = []\n",
    "    fi = []\n",
    "    f1 = []\n",
    "    for j in range(1,N+1):\n",
    "        omega.append(j*df)\n",
    "        POW.append(((omega[-1]**(-alpha_L))/(1+(omega[-1]/(10**log_f_b))**(alpha_H-alpha_L)))*(10**log_A)+(10**log_poisson))\n",
    "        DFT.append(complex(np.sqrt(POW[-1]*0.5),np.sqrt(POW[-1]*0.5)))\n",
    "        s1=np.random.normal(loc=0.0, scale=1.0, size=None)\n",
    "        s2=np.random.normal(loc=0.0, scale=1.0, size=None)\n",
    "        fr.append((DFT[-1].real)*s1)\n",
    "        fi.append((DFT[-1].imag)*s2)\n",
    "        f1.append(complex(fr[-1],fi[-1]))\n",
    "    counts = ifft(f1)\n",
    "    counts_list[a] = counts\n",
    "    \n",
    "    \n",
    "#周期图\n",
    "per_list=[None for i in range(5000)]\n",
    "TR_list=[]\n",
    "TSSE_list=[]\n",
    "n_TR = 0\n",
    "n_TSSE = 0\n",
    "\n",
    "for a in range(5000):\n",
    "    dft = fft(counts_list[a])\n",
    "    dft1 = dft[0:f_length_01]\n",
    "    per_simu = (abs(dft1)**2)\n",
    "    per_list[a] = per_simu\n",
    "    R_simu = []\n",
    "    T_SSE_simu = 0\n",
    "    for i in range(f_length_01):\n",
    "        R_simu.append(2*per_simu[i]/model_01[i])\n",
    "        T_SSE_simu += (((per_simu[i]-model_01[i])/model_01[i])**2)\n",
    "    TR_list.append(max(R_simu))\n",
    "    TSSE_list.append(T_SSE_simu)\n",
    "    if TR_list[-1]>T_R_obs_01:\n",
    "        n_TR += 1\n",
    "    if TSSE_list[-1]>T_SSE_obs_01:\n",
    "        n_TSSE += 1"
   ]
  },
  {
   "cell_type": "code",
   "execution_count": 6,
   "metadata": {},
   "outputs": [
    {
     "data": {
      "image/png": "[encoded data removed]",
      "text/plain": [
       "<Figure size 720x576 with 1 Axes>"
      ]
     },
     "metadata": {
      "needs_background": "light"
     },
     "output_type": "display_data"
    }
   ],
   "source": [
    "pc = n_TR/5000\n",
    "p_TR = (\"%.2f\" % pc)\n",
    "fig = plt.figure(figsize=(10,8))\n",
    "ax = fig.add_subplot(111)\n",
    "plt.hist(TR_list, bins=20, density=True, color=\"b\", edgecolor='k')\n",
    "plt.axvline(T_R_obs_01, color=\"r\", linewidth=2)\n",
    "plt.text(0.9, 0.9,'p=%s'%p_TR, color='red', ha='center', transform=ax.transAxes, fontsize=20)\n",
    "ax.set_xlabel(\"$T_R\\ statistic$\",fontsize=15)\n",
    "ax.set_ylabel(\"Density\",fontsize=15)\n",
    "plt.show()"
   ]
  },
  {
   "cell_type": "code",
   "execution_count": 7,
   "metadata": {},
   "outputs": [
    {
     "data": {
      "image/png": "[encoded data removed]",
      "text/plain": [
       "<Figure size 720x576 with 1 Axes>"
      ]
     },
     "metadata": {
      "needs_background": "light"
     },
     "output_type": "display_data"
    }
   ],
   "source": [
    "pc = n_TSSE/5000\n",
    "p_TSSE = (\"%.2f\" % pc)\n",
    "fig = plt.figure(figsize=(10,8))\n",
    "ax = fig.add_subplot(111)\n",
    "plt.hist(TSSE_list, bins=20, density=True, color=\"b\", edgecolor='k')\n",
    "plt.axvline(T_SSE_obs_01, color=\"r\", linewidth=2)\n",
    "plt.text(0.9, 0.9,'p=%s'%p_TSSE, color='red', ha='center', transform=ax.transAxes, fontsize=20)\n",
    "ax.set_xlabel(\"$T_{SSE}\\ statistic$\",fontsize=15)\n",
    "ax.set_ylabel(\"Density\",fontsize=15)\n",
    "plt.show()"
   ]
  },
  {
   "cell_type": "markdown",
   "metadata": {},
   "source": [
    "##  2018(2) 统计分析"
   ]
  },
  {
   "cell_type": "code",
   "execution_count": 8,
   "metadata": {},
   "outputs": [],
   "source": [
    "# 似然函数 p; D = -2 ln p\n",
    "\n",
    "def twi_minus_loglikelihood_182(log_A,log_f_b,alpha_H,log_poisson):\n",
    "    alpha_L = 1.0\n",
    "    \n",
    "    perdata182 = pd.read_csv(\"perlist182_s.csv\")\n",
    "    f = perdata182['f']\n",
    "    per = perdata182['per']\n",
    "            \n",
    "    model = []\n",
    "    f_length = len(f)\n",
    "    for i in range(f_length):\n",
    "        model.append(((f[i]**(-alpha_L))/(1+(f[i]/(10**log_f_b))**(alpha_H-alpha_L)))*(10**log_A)+(10**log_poisson))\n",
    "     \n",
    "    \n",
    "    length = len(perdata182)\n",
    "    minus_log_p = 0\n",
    "    for i in range(length):\n",
    "        minus_log_p += (per[i]/model[i]+math.log(model[i]))\n",
    "    \n",
    "    \n",
    "    D = 2*minus_log_p\n",
    "    # print (D)\n",
    "    return D"
   ]
  },
  {
   "cell_type": "code",
   "execution_count": 9,
   "metadata": {},
   "outputs": [
    {
     "data": {
      "text/html": [
       "<hr>"
      ]
     },
     "metadata": {},
     "output_type": "display_data"
    },
    {
     "data": {
      "text/html": [
       "<table>\n",
       "    <tr>\n",
       "        <td title=\"Minimum value of function\">FCN = 3227.1304151883483</td>\n",
       "        <td title=\"Total number of call to FCN so far\">TOTAL NCALL = 284</td>\n",
       "        <td title=\"Number of call in last migrad\">NCALLS = 284</td>\n",
       "    </tr>\n",
       "    <tr>\n",
       "        <td title=\"Estimated distance to minimum\">EDM = 1.974205590084926e-05</td>\n",
       "        <td title=\"Maximum EDM definition of convergence\">GOAL EDM = 1e-05</td>\n",
       "        <td title=\"Error def. Amount of increase in FCN to be defined as 1 standard deviation\">\n",
       "        UP = 1.0</td>\n",
       "    </tr>\n",
       "</table>\n",
       "<table>\n",
       "    <tr>\n",
       "        <td align=\"center\" title=\"Validity of the migrad call\">Valid</td>\n",
       "        <td align=\"center\" title=\"Validity of parameters\">Valid Param</td>\n",
       "        <td align=\"center\" title=\"Is Covariance matrix accurate?\">Accurate Covar</td>\n",
       "        <td align=\"center\" title=\"Positive definiteness of covariance matrix\">PosDef</td>\n",
       "        <td align=\"center\" title=\"Was covariance matrix made posdef by adding diagonal element\">Made PosDef</td>\n",
       "    </tr>\n",
       "    <tr>\n",
       "        <td align=\"center\" style=\"background-color:#92CCA6\">True</td>\n",
       "        <td align=\"center\" style=\"background-color:#92CCA6\">True</td>\n",
       "        <td align=\"center\" style=\"background-color:#92CCA6\">True</td>\n",
       "        <td align=\"center\" style=\"background-color:#92CCA6\">True</td>\n",
       "        <td align=\"center\" style=\"background-color:#92CCA6\">False</td>\n",
       "    </tr>\n",
       "    <tr>\n",
       "        <td align=\"center\" title=\"Was last hesse call fail?\">Hesse Fail</td>\n",
       "        <td align=\"center\" title=\"Validity of covariance\">HasCov</td>\n",
       "        <td align=\"center\" title=\"Is EDM above goal EDM?\">Above EDM</td>\n",
       "        <td align=\"center\"></td>\n",
       "        <td align=\"center\" title=\"Did last migrad call reach max call limit?\">Reach calllim</td>\n",
       "    </tr>\n",
       "    <tr>\n",
       "        <td align=\"center\" style=\"background-color:#92CCA6\">False</td>\n",
       "        <td align=\"center\" style=\"background-color:#92CCA6\">True</td>\n",
       "        <td align=\"center\" style=\"background-color:#92CCA6\">False</td>\n",
       "        <td align=\"center\"></td>\n",
       "        <td align=\"center\" style=\"background-color:#92CCA6\">False</td>\n",
       "    </tr>\n",
       "</table>"
      ]
     },
     "metadata": {},
     "output_type": "display_data"
    },
    {
     "data": {
      "text/html": [
       "<table>\n",
       "    <tr>\n",
       "        <td><a href=\"#\" onclick=\"$('#iYILiaTguS').toggle()\">+</a></td>\n",
       "        <td title=\"Variable name\">Name</td>\n",
       "        <td title=\"Value of parameter\">Value</td>\n",
       "        <td title=\"Hesse error\">Hesse Error</td>\n",
       "        <td title=\"Minos lower error\">Minos Error-</td>\n",
       "        <td title=\"Minos upper error\">Minos Error+</td>\n",
       "        <td title=\"Lower limit of the parameter\">Limit-</td>\n",
       "        <td title=\"Upper limit of the parameter\">Limit+</td>\n",
       "        <td title=\"Is the parameter fixed in the fit\">Fixed?</td>\n",
       "    </tr>\n",
       "    <tr>\n",
       "        <td>0</td>\n",
       "        <td>log_A</td>\n",
       "        <td>-1.14163</td>\n",
       "        <td>0.383623</td>\n",
       "        <td></td>\n",
       "        <td></td>\n",
       "        <td>-3</td>\n",
       "        <td>-1</td>\n",
       "        <td>No</td>\n",
       "    </tr>\n",
       "    <tr>\n",
       "        <td>1</td>\n",
       "        <td>log_f_b</td>\n",
       "        <td>-4.65901</td>\n",
       "        <td>0.406627</td>\n",
       "        <td></td>\n",
       "        <td></td>\n",
       "        <td>-6</td>\n",
       "        <td>-2</td>\n",
       "        <td>No</td>\n",
       "    </tr>\n",
       "    <tr>\n",
       "        <td>2</td>\n",
       "        <td>alpha_H</td>\n",
       "        <td>2.57255</td>\n",
       "        <td>0.273953</td>\n",
       "        <td></td>\n",
       "        <td></td>\n",
       "        <td>1</td>\n",
       "        <td>5</td>\n",
       "        <td>No</td>\n",
       "    </tr>\n",
       "    <tr>\n",
       "        <td>3</td>\n",
       "        <td>poisson</td>\n",
       "        <td>1.62531</td>\n",
       "        <td>0.0551025</td>\n",
       "        <td></td>\n",
       "        <td></td>\n",
       "        <td>0</td>\n",
       "        <td>15</td>\n",
       "        <td>No</td>\n",
       "    </tr>\n",
       "</table>\n",
       "<pre id=\"iYILiaTguS\" style=\"display:none;\">\n",
       "<textarea rows=\"14\" cols=\"50\" onclick=\"this.select()\" readonly>\n",
       "\\begin{tabular}{|c|r|r|r|r|r|r|r|c|}\n",
       "\\hline\n",
       " & Name & Value & Hesse Error & Minos Error- & Minos Error+ & Limit- & Limit+ & Fixed?\\\\\n",
       "\\hline\n",
       "0 & $log_{A}$ & -1.14163 & 0.383623 &  &  & -3.0 & -1 & No\\\\\n",
       "\\hline\n",
       "1 & log $f_{b}$ & -4.65901 & 0.406627 &  &  & -6.0 & -2 & No\\\\\n",
       "\\hline\n",
       "2 & $\\alpha_{H}$ & 2.57255 & 0.273953 &  &  & 1.0 & 5 & No\\\\\n",
       "\\hline\n",
       "3 & poisson & 1.62531 & 0.0551025 &  &  & 0.0 & 15 & No\\\\\n",
       "\\hline\n",
       "\\end{tabular}\n",
       "</textarea>\n",
       "</pre>"
      ]
     },
     "metadata": {},
     "output_type": "display_data"
    },
    {
     "data": {
      "text/html": [
       "<hr>"
      ]
     },
     "metadata": {},
     "output_type": "display_data"
    },
    {
     "name": "stdout",
     "output_type": "stream",
     "text": [
      "3227.1304151883483\n"
     ]
    }
   ],
   "source": [
    "m182=Minuit(twi_minus_loglikelihood_182,log_A=math.log(0.005,10),log_f_b=math.log(1.7E-4,10),alpha_H=3.8,log_poisson=0.0,\n",
    "         error_log_A=0.1,error_log_f_b=0.1,error_alpha_H=0.01,error_log_poisson=0.1,\n",
    "         limit_log_A=(-3,1), limit_log_f_b=(-7,-2),limit_alpha_H=(1.0,5.0),limit_log_poisson=(0,3),\n",
    "         errordef=1)\n",
    "\n",
    "m182.migrad()\n",
    "\n",
    "pprint(m182.fval)"
   ]
  },
  {
   "cell_type": "code",
   "execution_count": 10,
   "metadata": {},
   "outputs": [
    {
     "name": "stdout",
     "output_type": "stream",
     "text": [
      "T_R = 18.175589125275483\n",
      "T_SSE = 1107.6046051560836\n"
     ]
    }
   ],
   "source": [
    "perdata182 = pd.read_csv(\"perlist182_s.csv\")\n",
    "f_182 = perdata182['f']\n",
    "per_182 = perdata182['per']\n",
    "\n",
    "alpha_L = 1.0\n",
    "log_A,log_f_b,alpha_H,log_poisson = m182.values[0],m182.values[1],m182.values[2],m182.values[3]\n",
    "\n",
    "model_182 = []\n",
    "R_obs_182 = []\n",
    "T_SSE_obs_182 = 0\n",
    "f_length_182 = len(f_182)\n",
    "for i in range(f_length_182):\n",
    "    model_182.append(((f_182[i]**(-alpha_L))/(1+(f_182[i]/(10**log_f_b))**(alpha_H-alpha_L)))*(10**log_A)+(10**log_poisson))\n",
    "    R_obs_182.append(2*per_182[i]/model_182[i])\n",
    "    T_SSE_obs_182 += (((per_182[i]-model_182[i])/model_182[i])**2)\n",
    "    \n",
    "# 两个统计量\n",
    "T_R_obs_182 = max(R_obs_182)\n",
    "print (\"T_R =\", T_R_obs_182)\n",
    "print (\"T_SSE =\", T_SSE_obs_182)"
   ]
  },
  {
   "cell_type": "code",
   "execution_count": 11,
   "metadata": {},
   "outputs": [],
   "source": [
    "# 5000条光变曲线\n",
    "\n",
    "df = 0.01/f_length_182\n",
    "N = 2*f_length_182\n",
    "counts_list=[None for i in range(5000)]\n",
    "for a in range(5000): \n",
    "    omega = []\n",
    "    POW = []\n",
    "    DFT = []\n",
    "    fr = []\n",
    "    fi = []\n",
    "    f1 = []\n",
    "    for j in range(1,N+1):\n",
    "        omega.append(j*df)\n",
    "        POW.append(((omega[-1]**(-alpha_L))/(1+(omega[-1]/(10**log_f_b))**(alpha_H-alpha_L)))*(10**log_A)+(10**log_poisson))\n",
    "        DFT.append(complex(np.sqrt(POW[-1]*0.5),np.sqrt(POW[-1]*0.5)))\n",
    "        s1=np.random.normal(loc=0.0, scale=1.0, size=None)\n",
    "        s2=np.random.normal(loc=0.0, scale=1.0, size=None)\n",
    "        fr.append((DFT[-1].real)*s1)\n",
    "        fi.append((DFT[-1].imag)*s2)\n",
    "        f1.append(complex(fr[-1],fi[-1]))\n",
    "    counts = ifft(f1)\n",
    "    counts_list[a] = counts\n",
    "    \n",
    "    \n",
    "#周期图\n",
    "per_list=[None for i in range(5000)]\n",
    "TR_list=[]\n",
    "TSSE_list=[]\n",
    "n_TR = 0\n",
    "n_TSSE = 0\n",
    "\n",
    "for a in range(5000):\n",
    "    dft = fft(counts_list[a])\n",
    "    dft1 = dft[0:f_length_182]\n",
    "    per_simu = (abs(dft1)**2)\n",
    "    per_list[a] = per_simu\n",
    "    R_simu = []\n",
    "    T_SSE_simu = 0\n",
    "    for i in range(f_length_182):\n",
    "        R_simu.append(2*per_simu[i]/model_182[i])\n",
    "        T_SSE_simu += (((per_simu[i]-model_182[i])/model_182[i])**2)\n",
    "    TR_list.append(max(R_simu))\n",
    "    TSSE_list.append(T_SSE_simu)\n",
    "    if TR_list[-1]>T_R_obs_182:\n",
    "        n_TR += 1\n",
    "    if TSSE_list[-1]>T_SSE_obs_182:\n",
    "        n_TSSE += 1"
   ]
  },
  {
   "cell_type": "code",
   "execution_count": 12,
   "metadata": {},
   "outputs": [
    {
     "data": {
      "image/png": "[encoded data removed]",
      "text/plain": [
       "<Figure size 720x576 with 1 Axes>"
      ]
     },
     "metadata": {
      "needs_background": "light"
     },
     "output_type": "display_data"
    }
   ],
   "source": [
    "pc = n_TR/5000\n",
    "p_TR = (\"%.2f\" % pc)\n",
    "fig = plt.figure(figsize=(10,8))\n",
    "ax = fig.add_subplot(111)\n",
    "plt.hist(TR_list, bins=20, density=True, color=\"b\", edgecolor='k')\n",
    "plt.axvline(T_R_obs_182, color=\"r\", linewidth=2)\n",
    "plt.text(0.9, 0.9,'p=%s'%p_TR, color='red', ha='center', transform=ax.transAxes, fontsize=20)\n",
    "ax.set_xlabel(\"$T_R\\ statistic$\",fontsize=15)\n",
    "ax.set_ylabel(\"Density\",fontsize=15)\n",
    "plt.show()"
   ]
  },
  {
   "cell_type": "code",
   "execution_count": 13,
   "metadata": {},
   "outputs": [
    {
     "data": {
      "image/png": "[encoded data removed]",
      "text/plain": [
       "<Figure size 720x576 with 1 Axes>"
      ]
     },
     "metadata": {
      "needs_background": "light"
     },
     "output_type": "display_data"
    }
   ],
   "source": [
    "pc = n_TSSE/5000\n",
    "p_TSSE = (\"%.2f\" % pc)\n",
    "fig = plt.figure(figsize=(10,8))\n",
    "ax = fig.add_subplot(111)\n",
    "plt.hist(TSSE_list, bins=20, density=True, color=\"b\", edgecolor='k')\n",
    "plt.axvline(T_SSE_obs_182, color=\"r\", linewidth=2)\n",
    "plt.text(0.9, 0.9,'p=%s'%p_TSSE, color='red', ha='center', transform=ax.transAxes, fontsize=20)\n",
    "ax.set_xlabel(\"$T_{SSE}\\ statistic$\",fontsize=15)\n",
    "ax.set_ylabel(\"Density\",fontsize=15)\n",
    "plt.show()"
   ]
  },
  {
   "cell_type": "code",
   "execution_count": null,
   "metadata": {},
   "outputs": [],
   "source": []
  }
 ],
 "metadata": {
  "kernelspec": {
   "display_name": "Python 3",
   "language": "python",
   "name": "python3"
  },
  "language_info": {
   "codemirror_mode": {
    "name": "ipython",
    "version": 3
   },
   "file_extension": ".py",
   "mimetype": "text/x-python",
   "name": "python",
   "nbconvert_exporter": "python",
   "pygments_lexer": "ipython3",
   "version": "3.7.0"
  }
 },
 "nbformat": 4,
 "nbformat_minor": 2
}
