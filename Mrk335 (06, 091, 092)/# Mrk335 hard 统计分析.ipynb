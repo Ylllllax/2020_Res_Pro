{
 "cells": [
  {
   "cell_type": "code",
   "execution_count": 1,
   "metadata": {},
   "outputs": [],
   "source": [
    "import numpy as np\n",
    "import math\n",
    "import matplotlib.pyplot as plt\n",
    "from scipy.fftpack import fft,ifft\n",
    "import pandas as pd\n",
    "from scipy.optimize import minimize\n",
    "from scipy.optimize import basinhopping\n",
    "from iminuit import Minuit\n",
    "\n",
    "import emcee\n",
    "from pprint import pprint\n",
    "import time\n",
    "from multiprocessing import Pool\n",
    "\n",
    "import random"
   ]
  },
  {
   "cell_type": "markdown",
   "metadata": {},
   "source": [
    "## 2006 统计分析"
   ]
  },
  {
   "cell_type": "code",
   "execution_count": 2,
   "metadata": {},
   "outputs": [],
   "source": [
    "# 似然函数 p; D = -2 ln p\n",
    "\n",
    "def twi_minus_loglikelihood_06(log_A,log_f_b,alpha_H,log_poisson):\n",
    "    alpha_L = 1.0\n",
    "    \n",
    "    perdata06 = pd.read_csv(\"perlist06_h.csv\")\n",
    "    f = perdata06['f']\n",
    "    per = perdata06['per']\n",
    "            \n",
    "    model = []\n",
    "    f_length = len(f)\n",
    "    for i in range(f_length):\n",
    "        model.append(((f[i]**(-alpha_L))/(1+(f[i]/(10**log_f_b))**(alpha_H-alpha_L)))*(10**log_A)+(10**log_poisson))\n",
    "     \n",
    "    \n",
    "    length = len(perdata06)\n",
    "    minus_log_p = 0\n",
    "    for i in range(length):\n",
    "        minus_log_p += (per[i]/model[i]+math.log(model[i]))\n",
    "    \n",
    "    \n",
    "    D = 2*minus_log_p\n",
    "    # print (D)\n",
    "    return D"
   ]
  },
  {
   "cell_type": "code",
   "execution_count": 3,
   "metadata": {},
   "outputs": [
    {
     "data": {
      "text/html": [
       "<hr>"
      ]
     },
     "metadata": {},
     "output_type": "display_data"
    },
    {
     "data": {
      "text/html": [
       "<table>\n",
       "    <tr>\n",
       "        <td title=\"Minimum value of function\">FCN = -1236.9677578079807</td>\n",
       "        <td title=\"Total number of call to FCN so far\">TOTAL NCALL = 159</td>\n",
       "        <td title=\"Number of call in last migrad\">NCALLS = 159</td>\n",
       "    </tr>\n",
       "    <tr>\n",
       "        <td title=\"Estimated distance to minimum\">EDM = 1.989476009735364e-06</td>\n",
       "        <td title=\"Maximum EDM definition of convergence\">GOAL EDM = 1e-05</td>\n",
       "        <td title=\"Error def. Amount of increase in FCN to be defined as 1 standard deviation\">\n",
       "        UP = 1.0</td>\n",
       "    </tr>\n",
       "</table>\n",
       "<table>\n",
       "    <tr>\n",
       "        <td align=\"center\" title=\"Validity of the migrad call\">Valid</td>\n",
       "        <td align=\"center\" title=\"Validity of parameters\">Valid Param</td>\n",
       "        <td align=\"center\" title=\"Is Covariance matrix accurate?\">Accurate Covar</td>\n",
       "        <td align=\"center\" title=\"Positive definiteness of covariance matrix\">PosDef</td>\n",
       "        <td align=\"center\" title=\"Was covariance matrix made posdef by adding diagonal element\">Made PosDef</td>\n",
       "    </tr>\n",
       "    <tr>\n",
       "        <td align=\"center\" style=\"background-color:#92CCA6\">True</td>\n",
       "        <td align=\"center\" style=\"background-color:#92CCA6\">True</td>\n",
       "        <td align=\"center\" style=\"background-color:#92CCA6\">True</td>\n",
       "        <td align=\"center\" style=\"background-color:#92CCA6\">True</td>\n",
       "        <td align=\"center\" style=\"background-color:#92CCA6\">False</td>\n",
       "    </tr>\n",
       "    <tr>\n",
       "        <td align=\"center\" title=\"Was last hesse call fail?\">Hesse Fail</td>\n",
       "        <td align=\"center\" title=\"Validity of covariance\">HasCov</td>\n",
       "        <td align=\"center\" title=\"Is EDM above goal EDM?\">Above EDM</td>\n",
       "        <td align=\"center\"></td>\n",
       "        <td align=\"center\" title=\"Did last migrad call reach max call limit?\">Reach calllim</td>\n",
       "    </tr>\n",
       "    <tr>\n",
       "        <td align=\"center\" style=\"background-color:#92CCA6\">False</td>\n",
       "        <td align=\"center\" style=\"background-color:#92CCA6\">True</td>\n",
       "        <td align=\"center\" style=\"background-color:#92CCA6\">False</td>\n",
       "        <td align=\"center\"></td>\n",
       "        <td align=\"center\" style=\"background-color:#92CCA6\">False</td>\n",
       "    </tr>\n",
       "</table>"
      ]
     },
     "metadata": {},
     "output_type": "display_data"
    },
    {
     "data": {
      "text/html": [
       "<table>\n",
       "    <tr>\n",
       "        <td><a href=\"#\" onclick=\"$('#ckFBMvudRD').toggle()\">+</a></td>\n",
       "        <td title=\"Variable name\">Name</td>\n",
       "        <td title=\"Value of parameter\">Value</td>\n",
       "        <td title=\"Hesse error\">Hesse Error</td>\n",
       "        <td title=\"Minos lower error\">Minos Error-</td>\n",
       "        <td title=\"Minos upper error\">Minos Error+</td>\n",
       "        <td title=\"Lower limit of the parameter\">Limit-</td>\n",
       "        <td title=\"Upper limit of the parameter\">Limit+</td>\n",
       "        <td title=\"Is the parameter fixed in the fit\">Fixed?</td>\n",
       "    </tr>\n",
       "    <tr>\n",
       "        <td>0</td>\n",
       "        <td>log_A</td>\n",
       "        <td>-2.29215</td>\n",
       "        <td>0.158339</td>\n",
       "        <td></td>\n",
       "        <td></td>\n",
       "        <td>-3</td>\n",
       "        <td>-1</td>\n",
       "        <td>No</td>\n",
       "    </tr>\n",
       "    <tr>\n",
       "        <td>1</td>\n",
       "        <td>log_f_b</td>\n",
       "        <td>-3.86704</td>\n",
       "        <td>0.136486</td>\n",
       "        <td></td>\n",
       "        <td></td>\n",
       "        <td>-5</td>\n",
       "        <td>-2</td>\n",
       "        <td>No</td>\n",
       "    </tr>\n",
       "    <tr>\n",
       "        <td>2</td>\n",
       "        <td>alpha_H</td>\n",
       "        <td>3.3068</td>\n",
       "        <td>0.348349</td>\n",
       "        <td></td>\n",
       "        <td></td>\n",
       "        <td>1</td>\n",
       "        <td>5</td>\n",
       "        <td>No</td>\n",
       "    </tr>\n",
       "    <tr>\n",
       "        <td>3</td>\n",
       "        <td>poisson</td>\n",
       "        <td>0.168015</td>\n",
       "        <td>0.00554297</td>\n",
       "        <td></td>\n",
       "        <td></td>\n",
       "        <td>0</td>\n",
       "        <td>2</td>\n",
       "        <td>No</td>\n",
       "    </tr>\n",
       "</table>\n",
       "<pre id=\"ckFBMvudRD\" style=\"display:none;\">\n",
       "<textarea rows=\"14\" cols=\"50\" onclick=\"this.select()\" readonly>\n",
       "\\begin{tabular}{|c|r|r|r|r|r|r|r|c|}\n",
       "\\hline\n",
       " & Name & Value & Hesse Error & Minos Error- & Minos Error+ & Limit- & Limit+ & Fixed?\\\\\n",
       "\\hline\n",
       "0 & $log_{A}$ & -2.29215 & 0.158339 &  &  & -3.0 & -1 & No\\\\\n",
       "\\hline\n",
       "1 & log $f_{b}$ & -3.86704 & 0.136486 &  &  & -5.0 & -2 & No\\\\\n",
       "\\hline\n",
       "2 & $\\alpha_{H}$ & 3.3068 & 0.348349 &  &  & 1.0 & 5 & No\\\\\n",
       "\\hline\n",
       "3 & poisson & 0.168015 & 0.00554297 &  &  & 0.0 & 2 & No\\\\\n",
       "\\hline\n",
       "\\end{tabular}\n",
       "</textarea>\n",
       "</pre>"
      ]
     },
     "metadata": {},
     "output_type": "display_data"
    },
    {
     "data": {
      "text/html": [
       "<hr>"
      ]
     },
     "metadata": {},
     "output_type": "display_data"
    },
    {
     "name": "stdout",
     "output_type": "stream",
     "text": [
      "-1236.9677578079807\n"
     ]
    }
   ],
   "source": [
    "m06=Minuit(twi_minus_loglikelihood_06,log_A=math.log(0.005,10),log_f_b=math.log(1.7E-4,10),alpha_H=3.8,log_poisson=0.0,\n",
    "         error_log_A=0.1,error_log_f_b=0.1,error_alpha_H=0.06,error_log_poisson=0.1,\n",
    "         limit_log_A=(-3,-1), limit_log_f_b=(-5,-2),limit_alpha_H=(1.0,5.0),limit_log_poisson=(0,3),\n",
    "         errordef=1)\n",
    "\n",
    "m06.migrad()\n",
    "\n",
    "pprint(m06.fval)"
   ]
  },
  {
   "cell_type": "code",
   "execution_count": 4,
   "metadata": {},
   "outputs": [
    {
     "name": "stdout",
     "output_type": "stream",
     "text": [
      "T_R = 13.695484867237228\n",
      "T_SSE = 1073.8175500319135\n"
     ]
    }
   ],
   "source": [
    "perdata06 = pd.read_csv(\"perlist06_h.csv\")\n",
    "f_06 = perdata06['f']\n",
    "per_06 = perdata06['per']\n",
    "\n",
    "alpha_L = 1.0\n",
    "log_A,log_f_b,alpha_H,log_poisson = m06.values[0],m06.values[1],m06.values[2],m06.values[3]\n",
    "\n",
    "model_06 = []\n",
    "R_obs_06 = []\n",
    "T_SSE_obs_06 = 0\n",
    "f_length_06 = len(f_06)\n",
    "for i in range(f_length_06):\n",
    "    model_06.append(((f_06[i]**(-alpha_L))/(1+(f_06[i]/(10**log_f_b))**(alpha_H-alpha_L)))*(10**log_A)+(10**log_poisson))\n",
    "    R_obs_06.append(2*per_06[i]/model_06[i])\n",
    "    T_SSE_obs_06 += (((per_06[i]-model_06[i])/model_06[i])**2)\n",
    "    \n",
    "# 两个统计量\n",
    "T_R_obs_06 = max(R_obs_06)\n",
    "print (\"T_R =\", T_R_obs_06)\n",
    "print (\"T_SSE =\", T_SSE_obs_06)"
   ]
  },
  {
   "cell_type": "code",
   "execution_count": 5,
   "metadata": {},
   "outputs": [],
   "source": [
    "# 5000条光变曲线\n",
    "\n",
    "df = 0.01/f_length_06\n",
    "N = 2*f_length_06\n",
    "counts_list=[None for i in range(5000)]\n",
    "for a in range(5000): \n",
    "    omega = []\n",
    "    POW = []\n",
    "    DFT = []\n",
    "    fr = []\n",
    "    fi = []\n",
    "    f1 = []\n",
    "    for j in range(1,N+1):\n",
    "        omega.append(j*df)\n",
    "        POW.append(((omega[-1]**(-alpha_L))/(1+(omega[-1]/(10**log_f_b))**(alpha_H-alpha_L)))*(10**log_A)+(10**log_poisson))\n",
    "        DFT.append(complex(np.sqrt(POW[-1]*0.5),np.sqrt(POW[-1]*0.5)))\n",
    "        s1=np.random.normal(loc=0.0, scale=1.0, size=None)\n",
    "        s2=np.random.normal(loc=0.0, scale=1.0, size=None)\n",
    "        fr.append((DFT[-1].real)*s1)\n",
    "        fi.append((DFT[-1].imag)*s2)\n",
    "        f1.append(complex(fr[-1],fi[-1]))\n",
    "    counts = ifft(f1)\n",
    "    counts_list[a] = counts\n",
    "    \n",
    "    \n",
    "#周期图\n",
    "per_list=[None for i in range(5000)]\n",
    "TR_list=[]\n",
    "TSSE_list=[]\n",
    "n_TR = 0\n",
    "n_TSSE = 0\n",
    "\n",
    "for a in range(5000):\n",
    "    dft = fft(counts_list[a])\n",
    "    dft1 = dft[0:f_length_06]\n",
    "    per_simu = (abs(dft1)**2)\n",
    "    per_list[a] = per_simu\n",
    "    R_simu = []\n",
    "    T_SSE_simu = 0\n",
    "    for i in range(f_length_06):\n",
    "        R_simu.append(2*per_simu[i]/model_06[i])\n",
    "        T_SSE_simu += (((per_simu[i]-model_06[i])/model_06[i])**2)\n",
    "    TR_list.append(max(R_simu))\n",
    "    TSSE_list.append(T_SSE_simu)\n",
    "    if TR_list[-1]>T_R_obs_06:\n",
    "        n_TR += 1\n",
    "    if TSSE_list[-1]>T_SSE_obs_06:\n",
    "        n_TSSE += 1"
   ]
  },
  {
   "cell_type": "code",
   "execution_count": 6,
   "metadata": {},
   "outputs": [
    {
     "data": {
      "image/png": "[encoded data removed]",
      "text/plain": [
       "<Figure size 720x576 with 1 Axes>"
      ]
     },
     "metadata": {
      "needs_background": "light"
     },
     "output_type": "display_data"
    }
   ],
   "source": [
    "pc = n_TR/5000\n",
    "p_TR = (\"%.2f\" % pc)\n",
    "fig = plt.figure(figsize=(10,8))\n",
    "ax = fig.add_subplot(111)\n",
    "plt.hist(TR_list, bins=20, density=True, color=\"b\", edgecolor='k')\n",
    "plt.axvline(T_R_obs_06, color=\"r\", linewidth=2)\n",
    "plt.text(0.9, 0.9,'p=%s'%p_TR, color='red', ha='center', transform=ax.transAxes, fontsize=20)\n",
    "ax.set_xlabel(\"$T_R\\ statistic$\",fontsize=15)\n",
    "ax.set_ylabel(\"Density\",fontsize=15)\n",
    "plt.show()"
   ]
  },
  {
   "cell_type": "code",
   "execution_count": 7,
   "metadata": {},
   "outputs": [
    {
     "data": {
      "image/png": "[encoded data removed]",
      "text/plain": [
       "<Figure size 720x576 with 1 Axes>"
      ]
     },
     "metadata": {
      "needs_background": "light"
     },
     "output_type": "display_data"
    }
   ],
   "source": [
    "pc = n_TSSE/5000\n",
    "p_TSSE = (\"%.2f\" % pc)\n",
    "fig = plt.figure(figsize=(10,8))\n",
    "ax = fig.add_subplot(111)\n",
    "plt.hist(TSSE_list, bins=20, density=True, color=\"b\", edgecolor='k')\n",
    "plt.axvline(T_SSE_obs_06, color=\"r\", linewidth=2)\n",
    "plt.text(0.9, 0.9,'p=%s'%p_TSSE, color='red', ha='center', transform=ax.transAxes, fontsize=20)\n",
    "ax.set_xlabel(\"$T_{SSE}\\ statistic$\",fontsize=15)\n",
    "ax.set_ylabel(\"Density\",fontsize=15)\n",
    "plt.show()"
   ]
  },
  {
   "cell_type": "markdown",
   "metadata": {},
   "source": [
    "## 2009(1) 统计分析"
   ]
  },
  {
   "cell_type": "code",
   "execution_count": 8,
   "metadata": {},
   "outputs": [],
   "source": [
    "# 似然函数 p; D = -2 ln p\n",
    "\n",
    "def twi_minus_loglikelihood_091(log_A,log_f_b,alpha_H,log_poisson):\n",
    "    alpha_L = 1.0\n",
    "    \n",
    "    perdata091 = pd.read_csv(\"perlist091_h.csv\")\n",
    "    f = perdata091['f']\n",
    "    per = perdata091['per']\n",
    "            \n",
    "    model = []\n",
    "    f_length = len(f)\n",
    "    for i in range(f_length):\n",
    "        model.append(((f[i]**(-alpha_L))/(1+(f[i]/(10**log_f_b))**(alpha_H-alpha_L)))*(10**log_A)+(10**log_poisson))\n",
    "     \n",
    "    \n",
    "    length = len(perdata091)\n",
    "    minus_log_p = 0\n",
    "    for i in range(length):\n",
    "        minus_log_p += (per[i]/model[i]+math.log(model[i]))\n",
    "    \n",
    "    \n",
    "    D = 2*minus_log_p\n",
    "    # print (D)\n",
    "    return D"
   ]
  },
  {
   "cell_type": "code",
   "execution_count": 9,
   "metadata": {},
   "outputs": [
    {
     "data": {
      "text/html": [
       "<hr>"
      ]
     },
     "metadata": {},
     "output_type": "display_data"
    },
    {
     "data": {
      "text/html": [
       "<table>\n",
       "    <tr>\n",
       "        <td title=\"Minimum value of function\">FCN = 3227.1304151883483</td>\n",
       "        <td title=\"Total number of call to FCN so far\">TOTAL NCALL = 284</td>\n",
       "        <td title=\"Number of call in last migrad\">NCALLS = 284</td>\n",
       "    </tr>\n",
       "    <tr>\n",
       "        <td title=\"Estimated distance to minimum\">EDM = 1.974205590084926e-05</td>\n",
       "        <td title=\"Maximum EDM definition of convergence\">GOAL EDM = 1e-05</td>\n",
       "        <td title=\"Error def. Amount of increase in FCN to be defined as 1 standard deviation\">\n",
       "        UP = 1.0</td>\n",
       "    </tr>\n",
       "</table>\n",
       "<table>\n",
       "    <tr>\n",
       "        <td align=\"center\" title=\"Validity of the migrad call\">Valid</td>\n",
       "        <td align=\"center\" title=\"Validity of parameters\">Valid Param</td>\n",
       "        <td align=\"center\" title=\"Is Covariance matrix accurate?\">Accurate Covar</td>\n",
       "        <td align=\"center\" title=\"Positive definiteness of covariance matrix\">PosDef</td>\n",
       "        <td align=\"center\" title=\"Was covariance matrix made posdef by adding diagonal element\">Made PosDef</td>\n",
       "    </tr>\n",
       "    <tr>\n",
       "        <td align=\"center\" style=\"background-color:#92CCA6\">True</td>\n",
       "        <td align=\"center\" style=\"background-color:#92CCA6\">True</td>\n",
       "        <td align=\"center\" style=\"background-color:#92CCA6\">True</td>\n",
       "        <td align=\"center\" style=\"background-color:#92CCA6\">True</td>\n",
       "        <td align=\"center\" style=\"background-color:#92CCA6\">False</td>\n",
       "    </tr>\n",
       "    <tr>\n",
       "        <td align=\"center\" title=\"Was last hesse call fail?\">Hesse Fail</td>\n",
       "        <td align=\"center\" title=\"Validity of covariance\">HasCov</td>\n",
       "        <td align=\"center\" title=\"Is EDM above goal EDM?\">Above EDM</td>\n",
       "        <td align=\"center\"></td>\n",
       "        <td align=\"center\" title=\"Did last migrad call reach max call limit?\">Reach calllim</td>\n",
       "    </tr>\n",
       "    <tr>\n",
       "        <td align=\"center\" style=\"background-color:#92CCA6\">False</td>\n",
       "        <td align=\"center\" style=\"background-color:#92CCA6\">True</td>\n",
       "        <td align=\"center\" style=\"background-color:#92CCA6\">False</td>\n",
       "        <td align=\"center\"></td>\n",
       "        <td align=\"center\" style=\"background-color:#92CCA6\">False</td>\n",
       "    </tr>\n",
       "</table>"
      ]
     },
     "metadata": {},
     "output_type": "display_data"
    },
    {
     "data": {
      "text/html": [
       "<table>\n",
       "    <tr>\n",
       "        <td><a href=\"#\" onclick=\"$('#iYILiaTguS').toggle()\">+</a></td>\n",
       "        <td title=\"Variable name\">Name</td>\n",
       "        <td title=\"Value of parameter\">Value</td>\n",
       "        <td title=\"Hesse error\">Hesse Error</td>\n",
       "        <td title=\"Minos lower error\">Minos Error-</td>\n",
       "        <td title=\"Minos upper error\">Minos Error+</td>\n",
       "        <td title=\"Lower limit of the parameter\">Limit-</td>\n",
       "        <td title=\"Upper limit of the parameter\">Limit+</td>\n",
       "        <td title=\"Is the parameter fixed in the fit\">Fixed?</td>\n",
       "    </tr>\n",
       "    <tr>\n",
       "        <td>0</td>\n",
       "        <td>log_A</td>\n",
       "        <td>-1.14163</td>\n",
       "        <td>0.383623</td>\n",
       "        <td></td>\n",
       "        <td></td>\n",
       "        <td>-3</td>\n",
       "        <td>-1</td>\n",
       "        <td>No</td>\n",
       "    </tr>\n",
       "    <tr>\n",
       "        <td>1</td>\n",
       "        <td>log_f_b</td>\n",
       "        <td>-4.65901</td>\n",
       "        <td>0.406627</td>\n",
       "        <td></td>\n",
       "        <td></td>\n",
       "        <td>-6</td>\n",
       "        <td>-2</td>\n",
       "        <td>No</td>\n",
       "    </tr>\n",
       "    <tr>\n",
       "        <td>2</td>\n",
       "        <td>alpha_H</td>\n",
       "        <td>2.57255</td>\n",
       "        <td>0.273953</td>\n",
       "        <td></td>\n",
       "        <td></td>\n",
       "        <td>1</td>\n",
       "        <td>5</td>\n",
       "        <td>No</td>\n",
       "    </tr>\n",
       "    <tr>\n",
       "        <td>3</td>\n",
       "        <td>poisson</td>\n",
       "        <td>1.62531</td>\n",
       "        <td>0.0551025</td>\n",
       "        <td></td>\n",
       "        <td></td>\n",
       "        <td>0</td>\n",
       "        <td>15</td>\n",
       "        <td>No</td>\n",
       "    </tr>\n",
       "</table>\n",
       "<pre id=\"iYILiaTguS\" style=\"display:none;\">\n",
       "<textarea rows=\"14\" cols=\"50\" onclick=\"this.select()\" readonly>\n",
       "\\begin{tabular}{|c|r|r|r|r|r|r|r|c|}\n",
       "\\hline\n",
       " & Name & Value & Hesse Error & Minos Error- & Minos Error+ & Limit- & Limit+ & Fixed?\\\\\n",
       "\\hline\n",
       "0 & $log_{A}$ & -1.14163 & 0.383623 &  &  & -3.0 & -1 & No\\\\\n",
       "\\hline\n",
       "1 & log $f_{b}$ & -4.65901 & 0.406627 &  &  & -6.0 & -2 & No\\\\\n",
       "\\hline\n",
       "2 & $\\alpha_{H}$ & 2.57255 & 0.273953 &  &  & 1.0 & 5 & No\\\\\n",
       "\\hline\n",
       "3 & poisson & 1.62531 & 0.0551025 &  &  & 0.0 & 15 & No\\\\\n",
       "\\hline\n",
       "\\end{tabular}\n",
       "</textarea>\n",
       "</pre>"
      ]
     },
     "metadata": {},
     "output_type": "display_data"
    },
    {
     "data": {
      "text/html": [
       "<hr>"
      ]
     },
     "metadata": {},
     "output_type": "display_data"
    },
    {
     "name": "stdout",
     "output_type": "stream",
     "text": [
      "3227.1304151883483\n"
     ]
    }
   ],
   "source": [
    "m091=Minuit(twi_minus_loglikelihood_091,log_A=math.log(0.005,10),log_f_b=math.log(1.7E-4,10),alpha_H=3.8,log_poisson=0.0,\n",
    "         error_log_A=0.1,error_log_f_b=0.1,error_alpha_H=0.06,error_log_poisson=0.1,\n",
    "         limit_log_A=(-3,-1), limit_log_f_b=(-6,-2),limit_alpha_H=(1.0,5.0),limit_log_poisson=(0,3),\n",
    "         errordef=1)\n",
    "\n",
    "m091.migrad()\n",
    "\n",
    "pprint(m091.fval)"
   ]
  },
  {
   "cell_type": "code",
   "execution_count": 10,
   "metadata": {},
   "outputs": [
    {
     "name": "stdout",
     "output_type": "stream",
     "text": [
      "T_R = 18.175589125275483\n",
      "T_SSE = 1107.6046051560836\n"
     ]
    }
   ],
   "source": [
    "perdata091 = pd.read_csv(\"perlist091_h.csv\")\n",
    "f_091 = perdata091['f']\n",
    "per_091 = perdata091['per']\n",
    "\n",
    "alpha_L = 1.0\n",
    "log_A,log_f_b,alpha_H,log_poisson = m091.values[0],m091.values[1],m091.values[2],m091.values[3]\n",
    "\n",
    "model_091 = []\n",
    "R_obs_091 = []\n",
    "T_SSE_obs_091 = 0\n",
    "f_length_091 = len(f_091)\n",
    "for i in range(f_length_091):\n",
    "    model_091.append(((f_091[i]**(-alpha_L))/(1+(f_091[i]/(10**log_f_b))**(alpha_H-alpha_L)))*(10**log_A)+(10**log_poisson))\n",
    "    R_obs_091.append(2*per_091[i]/model_091[i])\n",
    "    T_SSE_obs_091 += (((per_091[i]-model_091[i])/model_091[i])**2)\n",
    "    \n",
    "# 两个统计量\n",
    "T_R_obs_091 = max(R_obs_091)\n",
    "print (\"T_R =\", T_R_obs_091)\n",
    "print (\"T_SSE =\", T_SSE_obs_091)"
   ]
  },
  {
   "cell_type": "code",
   "execution_count": 11,
   "metadata": {},
   "outputs": [],
   "source": [
    "# 5000条光变曲线\n",
    "\n",
    "df = 0.01/f_length_091\n",
    "N = 2*f_length_091\n",
    "counts_list=[None for i in range(5000)]\n",
    "for a in range(5000): \n",
    "    omega = []\n",
    "    POW = []\n",
    "    DFT = []\n",
    "    fr = []\n",
    "    fi = []\n",
    "    f1 = []\n",
    "    for j in range(1,N+1):\n",
    "        omega.append(j*df)\n",
    "        POW.append(((omega[-1]**(-alpha_L))/(1+(omega[-1]/(10**log_f_b))**(alpha_H-alpha_L)))*(10**log_A)+(10**log_poisson))\n",
    "        DFT.append(complex(np.sqrt(POW[-1]*0.5),np.sqrt(POW[-1]*0.5)))\n",
    "        s1=np.random.normal(loc=0.0, scale=1.0, size=None)\n",
    "        s2=np.random.normal(loc=0.0, scale=1.0, size=None)\n",
    "        fr.append((DFT[-1].real)*s1)\n",
    "        fi.append((DFT[-1].imag)*s2)\n",
    "        f1.append(complex(fr[-1],fi[-1]))\n",
    "    counts = ifft(f1)\n",
    "    counts_list[a] = counts\n",
    "    \n",
    "    \n",
    "#周期图\n",
    "per_list=[None for i in range(5000)]\n",
    "TR_list=[]\n",
    "TSSE_list=[]\n",
    "n_TR = 0\n",
    "n_TSSE = 0\n",
    "\n",
    "for a in range(5000):\n",
    "    dft = fft(counts_list[a])\n",
    "    dft1 = dft[0:f_length_091]\n",
    "    per_simu = (abs(dft1)**2)\n",
    "    per_list[a] = per_simu\n",
    "    R_simu = []\n",
    "    T_SSE_simu = 0\n",
    "    for i in range(f_length_091):\n",
    "        R_simu.append(2*per_simu[i]/model_091[i])\n",
    "        T_SSE_simu += (((per_simu[i]-model_091[i])/model_091[i])**2)\n",
    "    TR_list.append(max(R_simu))\n",
    "    TSSE_list.append(T_SSE_simu)\n",
    "    if TR_list[-1]>T_R_obs_091:\n",
    "        n_TR += 1\n",
    "    if TSSE_list[-1]>T_SSE_obs_091:\n",
    "        n_TSSE += 1"
   ]
  },
  {
   "cell_type": "code",
   "execution_count": 12,
   "metadata": {},
   "outputs": [
    {
     "data": {
      "image/png": "[encoded data removed]",
      "text/plain": [
       "<Figure size 720x576 with 1 Axes>"
      ]
     },
     "metadata": {
      "needs_background": "light"
     },
     "output_type": "display_data"
    }
   ],
   "source": [
    "pc = n_TR/5000\n",
    "p_TR = (\"%.2f\" % pc)\n",
    "fig = plt.figure(figsize=(10,8))\n",
    "ax = fig.add_subplot(111)\n",
    "plt.hist(TR_list, bins=20, density=True, color=\"b\", edgecolor='k')\n",
    "plt.axvline(T_R_obs_091, color=\"r\", linewidth=2)\n",
    "plt.text(0.9, 0.9,'p=%s'%p_TR, color='red', ha='center', transform=ax.transAxes, fontsize=20)\n",
    "ax.set_xlabel(\"$T_R\\ statistic$\",fontsize=15)\n",
    "ax.set_ylabel(\"Density\",fontsize=15)\n",
    "plt.show()"
   ]
  },
  {
   "cell_type": "code",
   "execution_count": 13,
   "metadata": {},
   "outputs": [
    {
     "data": {
      "image/png": "[encoded data removed]",
      "text/plain": [
       "<Figure size 720x576 with 1 Axes>"
      ]
     },
     "metadata": {
      "needs_background": "light"
     },
     "output_type": "display_data"
    }
   ],
   "source": [
    "pc = n_TSSE/5000\n",
    "p_TSSE = (\"%.2f\" % pc)\n",
    "fig = plt.figure(figsize=(10,8))\n",
    "ax = fig.add_subplot(111)\n",
    "plt.hist(TSSE_list, bins=20, density=True, color=\"b\", edgecolor='k')\n",
    "plt.axvline(T_SSE_obs_091, color=\"r\", linewidth=2)\n",
    "plt.text(0.9, 0.9,'p=%s'%p_TSSE, color='red', ha='center', transform=ax.transAxes, fontsize=20)\n",
    "ax.set_xlabel(\"$T_{SSE}\\ statistic$\",fontsize=15)\n",
    "ax.set_ylabel(\"Density\",fontsize=15)\n",
    "plt.show()"
   ]
  },
  {
   "cell_type": "markdown",
   "metadata": {},
   "source": [
    "## 2009(2) 统计分析"
   ]
  },
  {
   "cell_type": "code",
   "execution_count": 14,
   "metadata": {},
   "outputs": [],
   "source": [
    "# 似然函数 p; D = -2 ln p\n",
    "\n",
    "def twi_minus_loglikelihood_092(log_A,log_f_b,alpha_H,log_poisson):\n",
    "    alpha_L = 1.0\n",
    "    \n",
    "    perdata092 = pd.read_csv(\"perlist092_h.csv\")\n",
    "    f = perdata092['f']\n",
    "    per = perdata092['per']\n",
    "            \n",
    "    model = []\n",
    "    f_length = len(f)\n",
    "    for i in range(f_length):\n",
    "        model.append(((f[i]**(-alpha_L))/(1+(f[i]/(10**log_f_b))**(alpha_H-alpha_L)))*(10**log_A)+(10**log_poisson))\n",
    "     \n",
    "    \n",
    "    length = len(perdata092)\n",
    "    minus_log_p = 0\n",
    "    for i in range(length):\n",
    "        minus_log_p += (per[i]/model[i]+math.log(model[i]))\n",
    "    \n",
    "    \n",
    "    D = 2*minus_log_p\n",
    "    # print (D)\n",
    "    return D"
   ]
  },
  {
   "cell_type": "code",
   "execution_count": 15,
   "metadata": {},
   "outputs": [
    {
     "data": {
      "text/html": [
       "<hr>"
      ]
     },
     "metadata": {},
     "output_type": "display_data"
    },
    {
     "data": {
      "text/html": [
       "<table>\n",
       "    <tr>\n",
       "        <td title=\"Minimum value of function\">FCN = 2866.814680072467</td>\n",
       "        <td title=\"Total number of call to FCN so far\">TOTAL NCALL = 485</td>\n",
       "        <td title=\"Number of call in last migrad\">NCALLS = 485</td>\n",
       "    </tr>\n",
       "    <tr>\n",
       "        <td title=\"Estimated distance to minimum\">EDM = 1.2374386978136725e-05</td>\n",
       "        <td title=\"Maximum EDM definition of convergence\">GOAL EDM = 1e-05</td>\n",
       "        <td title=\"Error def. Amount of increase in FCN to be defined as 1 standard deviation\">\n",
       "        UP = 1.0</td>\n",
       "    </tr>\n",
       "</table>\n",
       "<table>\n",
       "    <tr>\n",
       "        <td align=\"center\" title=\"Validity of the migrad call\">Valid</td>\n",
       "        <td align=\"center\" title=\"Validity of parameters\">Valid Param</td>\n",
       "        <td align=\"center\" title=\"Is Covariance matrix accurate?\">Accurate Covar</td>\n",
       "        <td align=\"center\" title=\"Positive definiteness of covariance matrix\">PosDef</td>\n",
       "        <td align=\"center\" title=\"Was covariance matrix made posdef by adding diagonal element\">Made PosDef</td>\n",
       "    </tr>\n",
       "    <tr>\n",
       "        <td align=\"center\" style=\"background-color:#92CCA6\">True</td>\n",
       "        <td align=\"center\" style=\"background-color:#92CCA6\">True</td>\n",
       "        <td align=\"center\" style=\"background-color:#92CCA6\">True</td>\n",
       "        <td align=\"center\" style=\"background-color:#92CCA6\">True</td>\n",
       "        <td align=\"center\" style=\"background-color:#92CCA6\">False</td>\n",
       "    </tr>\n",
       "    <tr>\n",
       "        <td align=\"center\" title=\"Was last hesse call fail?\">Hesse Fail</td>\n",
       "        <td align=\"center\" title=\"Validity of covariance\">HasCov</td>\n",
       "        <td align=\"center\" title=\"Is EDM above goal EDM?\">Above EDM</td>\n",
       "        <td align=\"center\"></td>\n",
       "        <td align=\"center\" title=\"Did last migrad call reach max call limit?\">Reach calllim</td>\n",
       "    </tr>\n",
       "    <tr>\n",
       "        <td align=\"center\" style=\"background-color:#92CCA6\">False</td>\n",
       "        <td align=\"center\" style=\"background-color:#92CCA6\">True</td>\n",
       "        <td align=\"center\" style=\"background-color:#92CCA6\">False</td>\n",
       "        <td align=\"center\"></td>\n",
       "        <td align=\"center\" style=\"background-color:#92CCA6\">False</td>\n",
       "    </tr>\n",
       "</table>"
      ]
     },
     "metadata": {},
     "output_type": "display_data"
    },
    {
     "data": {
      "text/html": [
       "<table>\n",
       "    <tr>\n",
       "        <td><a href=\"#\" onclick=\"$('#dYYxITmwTl').toggle()\">+</a></td>\n",
       "        <td title=\"Variable name\">Name</td>\n",
       "        <td title=\"Value of parameter\">Value</td>\n",
       "        <td title=\"Hesse error\">Hesse Error</td>\n",
       "        <td title=\"Minos lower error\">Minos Error-</td>\n",
       "        <td title=\"Minos upper error\">Minos Error+</td>\n",
       "        <td title=\"Lower limit of the parameter\">Limit-</td>\n",
       "        <td title=\"Upper limit of the parameter\">Limit+</td>\n",
       "        <td title=\"Is the parameter fixed in the fit\">Fixed?</td>\n",
       "    </tr>\n",
       "    <tr>\n",
       "        <td>0</td>\n",
       "        <td>log_A</td>\n",
       "        <td>-1.14123</td>\n",
       "        <td>0.540303</td>\n",
       "        <td></td>\n",
       "        <td></td>\n",
       "        <td>-3</td>\n",
       "        <td>0</td>\n",
       "        <td>No</td>\n",
       "    </tr>\n",
       "    <tr>\n",
       "        <td>1</td>\n",
       "        <td>log_f_b</td>\n",
       "        <td>-4.59535</td>\n",
       "        <td>0.466385</td>\n",
       "        <td></td>\n",
       "        <td></td>\n",
       "        <td>-8</td>\n",
       "        <td>-2</td>\n",
       "        <td>No</td>\n",
       "    </tr>\n",
       "    <tr>\n",
       "        <td>2</td>\n",
       "        <td>alpha_H</td>\n",
       "        <td>2.82848</td>\n",
       "        <td>0.410763</td>\n",
       "        <td></td>\n",
       "        <td></td>\n",
       "        <td>1</td>\n",
       "        <td>5</td>\n",
       "        <td>No</td>\n",
       "    </tr>\n",
       "    <tr>\n",
       "        <td>3</td>\n",
       "        <td>poisson</td>\n",
       "        <td>1.96454</td>\n",
       "        <td>0.0726113</td>\n",
       "        <td></td>\n",
       "        <td></td>\n",
       "        <td>0</td>\n",
       "        <td>15</td>\n",
       "        <td>No</td>\n",
       "    </tr>\n",
       "</table>\n",
       "<pre id=\"dYYxITmwTl\" style=\"display:none;\">\n",
       "<textarea rows=\"14\" cols=\"50\" onclick=\"this.select()\" readonly>\n",
       "\\begin{tabular}{|c|r|r|r|r|r|r|r|c|}\n",
       "\\hline\n",
       " & Name & Value & Hesse Error & Minos Error- & Minos Error+ & Limit- & Limit+ & Fixed?\\\\\n",
       "\\hline\n",
       "0 & $log_{A}$ & -1.14123 & 0.540303 &  &  & -3.0 & 0 & No\\\\\n",
       "\\hline\n",
       "1 & log $f_{b}$ & -4.59535 & 0.466385 &  &  & -8.0 & -2 & No\\\\\n",
       "\\hline\n",
       "2 & $\\alpha_{H}$ & 2.82848 & 0.410763 &  &  & 1.0 & 5 & No\\\\\n",
       "\\hline\n",
       "3 & poisson & 1.96454 & 0.0726113 &  &  & 0.0 & 15 & No\\\\\n",
       "\\hline\n",
       "\\end{tabular}\n",
       "</textarea>\n",
       "</pre>"
      ]
     },
     "metadata": {},
     "output_type": "display_data"
    },
    {
     "data": {
      "text/html": [
       "<hr>"
      ]
     },
     "metadata": {},
     "output_type": "display_data"
    },
    {
     "name": "stdout",
     "output_type": "stream",
     "text": [
      "2866.814680072467\n"
     ]
    }
   ],
   "source": [
    "m092=Minuit(twi_minus_loglikelihood_092,log_A=math.log(0.005,10),log_f_b=math.log(1.7E-4,10),alpha_H=3.8,log_poisson=0.0,\n",
    "         error_log_A=0.1,error_log_f_b=0.1,error_alpha_H=0.06,error_log_poisson=0.1,\n",
    "         limit_log_A=(-3,0), limit_log_f_b=(-8,-2),limit_alpha_H=(1.0,5.0),limit_log_poisson=(0,3),\n",
    "         errordef=1)\n",
    "\n",
    "m092.migrad()\n",
    "\n",
    "pprint(m092.fval)"
   ]
  },
  {
   "cell_type": "code",
   "execution_count": 16,
   "metadata": {},
   "outputs": [
    {
     "name": "stdout",
     "output_type": "stream",
     "text": [
      "T_R = 18.46308405054842\n",
      "T_SSE = 875.8268570568063\n"
     ]
    }
   ],
   "source": [
    "perdata092 = pd.read_csv(\"perlist092_h.csv\")\n",
    "f_092 = perdata092['f']\n",
    "per_092 = perdata092['per']\n",
    "\n",
    "alpha_L = 1.0\n",
    "log_A,log_f_b,alpha_H,log_poisson = m092.values[0],m092.values[1],m092.values[2],m092.values[3]\n",
    "\n",
    "model_092 = []\n",
    "R_obs_092 = []\n",
    "T_SSE_obs_092 = 0\n",
    "f_length_092 = len(f_092)\n",
    "for i in range(f_length_092):\n",
    "    model_092.append(((f_092[i]**(-alpha_L))/(1+(f_092[i]/(10**log_f_b))**(alpha_H-alpha_L)))*(10**log_A)+(10**log_poisson))\n",
    "    R_obs_092.append(2*per_092[i]/model_092[i])\n",
    "    T_SSE_obs_092 += (((per_092[i]-model_092[i])/model_092[i])**2)\n",
    "    \n",
    "# 两个统计量\n",
    "T_R_obs_092 = max(R_obs_092)\n",
    "print (\"T_R =\", T_R_obs_092)\n",
    "print (\"T_SSE =\", T_SSE_obs_092)"
   ]
  },
  {
   "cell_type": "code",
   "execution_count": 17,
   "metadata": {},
   "outputs": [],
   "source": [
    "# 5000条光变曲线\n",
    "\n",
    "df = 0.01/f_length_092\n",
    "N = 2*f_length_092\n",
    "counts_list=[None for i in range(5000)]\n",
    "for a in range(5000): \n",
    "    omega = []\n",
    "    POW = []\n",
    "    DFT = []\n",
    "    fr = []\n",
    "    fi = []\n",
    "    f1 = []\n",
    "    for j in range(1,N+1):\n",
    "        omega.append(j*df)\n",
    "        POW.append(((omega[-1]**(-alpha_L))/(1+(omega[-1]/(10**log_f_b))**(alpha_H-alpha_L)))*(10**log_A)+(10**log_poisson))\n",
    "        DFT.append(complex(np.sqrt(POW[-1]*0.5),np.sqrt(POW[-1]*0.5)))\n",
    "        s1=np.random.normal(loc=0.0, scale=1.0, size=None)\n",
    "        s2=np.random.normal(loc=0.0, scale=1.0, size=None)\n",
    "        fr.append((DFT[-1].real)*s1)\n",
    "        fi.append((DFT[-1].imag)*s2)\n",
    "        f1.append(complex(fr[-1],fi[-1]))\n",
    "    counts = ifft(f1)\n",
    "    counts_list[a] = counts\n",
    "    \n",
    "    \n",
    "#周期图\n",
    "per_list=[None for i in range(5000)]\n",
    "TR_list=[]\n",
    "TSSE_list=[]\n",
    "n_TR = 0\n",
    "n_TSSE = 0\n",
    "\n",
    "for a in range(5000):\n",
    "    dft = fft(counts_list[a])\n",
    "    dft1 = dft[0:f_length_092]\n",
    "    per_simu = (abs(dft1)**2)\n",
    "    per_list[a] = per_simu\n",
    "    R_simu = []\n",
    "    T_SSE_simu = 0\n",
    "    for i in range(f_length_092):\n",
    "        R_simu.append(2*per_simu[i]/model_092[i])\n",
    "        T_SSE_simu += (((per_simu[i]-model_092[i])/model_092[i])**2)\n",
    "    TR_list.append(max(R_simu))\n",
    "    TSSE_list.append(T_SSE_simu)\n",
    "    if TR_list[-1]>T_R_obs_092:\n",
    "        n_TR += 1\n",
    "    if TSSE_list[-1]>T_SSE_obs_092:\n",
    "        n_TSSE += 1"
   ]
  },
  {
   "cell_type": "code",
   "execution_count": 18,
   "metadata": {},
   "outputs": [
    {
     "data": {
      "image/png": "[encoded data removed]",
      "text/plain": [
       "<Figure size 720x576 with 1 Axes>"
      ]
     },
     "metadata": {
      "needs_background": "light"
     },
     "output_type": "display_data"
    }
   ],
   "source": [
    "pc = n_TR/5000\n",
    "p_TR = (\"%.2f\" % pc)\n",
    "fig = plt.figure(figsize=(10,8))\n",
    "ax = fig.add_subplot(111)\n",
    "plt.hist(TR_list, bins=20, density=True, color=\"b\", edgecolor='k')\n",
    "plt.axvline(T_R_obs_092, color=\"r\", linewidth=2)\n",
    "plt.text(0.9, 0.9,'p=%s'%p_TR, color='red', ha='center', transform=ax.transAxes, fontsize=20)\n",
    "ax.set_xlabel(\"$T_R\\ statistic$\",fontsize=15)\n",
    "ax.set_ylabel(\"Density\",fontsize=15)\n",
    "plt.show()"
   ]
  },
  {
   "cell_type": "code",
   "execution_count": 19,
   "metadata": {},
   "outputs": [
    {
     "data": {
      "image/png": "[encoded data removed]",
      "text/plain": [
       "<Figure size 720x576 with 1 Axes>"
      ]
     },
     "metadata": {
      "needs_background": "light"
     },
     "output_type": "display_data"
    }
   ],
   "source": [
    "pc = n_TSSE/5000\n",
    "p_TSSE = (\"%.2f\" % pc)\n",
    "fig = plt.figure(figsize=(10,8))\n",
    "ax = fig.add_subplot(111)\n",
    "plt.hist(TSSE_list, bins=20, density=True, color=\"b\", edgecolor='k')\n",
    "plt.axvline(T_SSE_obs_092, color=\"r\", linewidth=2)\n",
    "plt.text(0.9, 0.9,'p=%s'%p_TSSE, color='red', ha='center', transform=ax.transAxes, fontsize=20)\n",
    "ax.set_xlabel(\"$T_{SSE}\\ statistic$\",fontsize=15)\n",
    "ax.set_ylabel(\"Density\",fontsize=15)\n",
    "plt.show()"
   ]
  },
  {
   "cell_type": "code",
   "execution_count": null,
   "metadata": {},
   "outputs": [],
   "source": []
  }
 ],
 "metadata": {
  "kernelspec": {
   "display_name": "Python 3",
   "language": "python",
   "name": "python3"
  },
  "language_info": {
   "codemirror_mode": {
    "name": "ipython",
    "version": 3
   },
   "file_extension": ".py",
   "mimetype": "text/x-python",
   "name": "python",
   "nbconvert_exporter": "python",
   "pygments_lexer": "ipython3",
   "version": "3.7.0"
  }
 },
 "nbformat": 4,
 "nbformat_minor": 2
}
