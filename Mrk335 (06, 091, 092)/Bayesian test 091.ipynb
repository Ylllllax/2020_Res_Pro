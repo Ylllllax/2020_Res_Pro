{
 "cells": [
  {
   "cell_type": "code",
   "execution_count": 1,
   "metadata": {},
   "outputs": [],
   "source": [
    "import numpy as np\n",
    "import math\n",
    "import matplotlib.pyplot as plt\n",
    "from scipy.fftpack import fft,ifft\n",
    "import pandas as pd\n",
    "from scipy.optimize import minimize\n",
    "from iminuit import Minuit\n",
    "from scipy.optimize import basinhopping\n",
    "from scipy.optimize import curve_fit"
   ]
  },
  {
   "cell_type": "code",
   "execution_count": 2,
   "metadata": {},
   "outputs": [],
   "source": [
    "def twi_minus_loglikelihood(parameter):\n",
    "    A,f_b,alpha_H,poisson = parameter\n",
    "    alpha_L = 1.0\n",
    "    \n",
    "    perdata091 = pd.read_csv(\"perlist091.csv\")\n",
    "    f = perdata091['f']\n",
    "    per = perdata091['per']\n",
    "            \n",
    "    model = []\n",
    "    f_length = len(f)\n",
    "    for i in range(f_length):\n",
    "        model.append(((f[i]**(-alpha_L))/(1+(f[i]/f_b)**(alpha_H-alpha_L)))*A+poisson)\n",
    "     \n",
    "    \n",
    "    length = len(perdata091)\n",
    "    minus_log_p = 0\n",
    "    for i in range(length):\n",
    "        minus_log_p += (per[i]/model[i]+math.log(model[i]))\n",
    "    \n",
    "    \n",
    "    D = 2*minus_log_p\n",
    "    print (D)\n",
    "    return D"
   ]
  },
  {
   "cell_type": "code",
   "execution_count": 3,
   "metadata": {
    "scrolled": true
   },
   "outputs": [
    {
     "name": "stdout",
     "output_type": "stream",
     "text": [
      "4223.4452608304\n",
      "4223.444996981547\n",
      "4223.4357686042595\n",
      "4223.445261343074\n",
      "4223.445232271292\n",
      "5388.6162430046925\n",
      "5388.616366751528\n",
      "5388.620096978149\n",
      "5388.6162334243145\n",
      "5388.616244713019\n",
      "3728.168770768006\n",
      "3728.1688199728123\n",
      "3728.1732224462075\n",
      "3728.1687706182515\n",
      "3728.1687659751165\n",
      "3490.0591125438964\n",
      "3490.0591074114463\n",
      "3490.050202623373\n",
      "3490.059113098424\n",
      "3490.0591069307147\n",
      "3648.410176647902\n",
      "3648.4102116811373\n",
      "3648.4159286602594\n",
      "3648.410176391191\n",
      "3648.410171864203\n",
      "3497.1230159942306\n",
      "3497.1230233640435\n",
      "3497.128669758673\n",
      "3497.1230159163188\n",
      "3497.1230106932658\n",
      "3490.0591125438964\n",
      "3490.0591074114463\n",
      "3490.050202623373\n",
      "3490.059113098424\n",
      "3490.0591069307147\n",
      "3636.0609695363387\n",
      "3636.061003705217\n",
      "3636.0673054265612\n",
      "3636.060969163079\n",
      "3636.060965369923\n",
      "3495.6948350605094\n",
      "3495.6948428190667\n",
      "3495.700787007104\n",
      "3495.6948349618046\n",
      "3495.694829860717\n",
      "3486.1547891016153\n",
      "3486.154789387004\n",
      "3486.1545090454483\n",
      "3486.154789330657\n",
      "3486.1547836604655\n",
      "3454.033582060195\n",
      "3454.0335825983107\n",
      "3454.0339425901516\n",
      "3454.0335822352868\n",
      "3454.0335777968685\n",
      "3409.4193854888345\n",
      "3409.419376351407\n",
      "3409.344927937654\n",
      "3409.419386996408\n",
      "3409.4193840202006\n",
      "3416.590887360709\n",
      "3416.590886825508\n",
      "3416.5894223449227\n",
      "3416.590887546772\n",
      "3416.590884584234\n",
      "3391.8528856519674\n",
      "3391.8528803128193\n",
      "3391.811020615327\n",
      "3391.8528865112203\n",
      "3391.852884726503\n",
      "3524.4673251920285\n",
      "3524.4673455048173\n",
      "3524.5374159570756\n",
      "3524.4673193470885\n",
      "3524.4673265094107\n",
      "3383.1304499737207\n",
      "3383.1304505916064\n",
      "3383.1362740749596\n",
      "3383.130449633232\n",
      "3383.1304496069406\n",
      "3382.9048381619764\n",
      "3382.9048381797897\n",
      "3382.906810540261\n",
      "3382.9048379334777\n",
      "3382.90483778748\n",
      "3382.8677100219234\n",
      "3382.8677096511797\n",
      "3382.866947578933\n",
      "3382.867709851817\n",
      "3382.8677096992037\n",
      "3382.8610660418226\n",
      "3382.8610657855697\n",
      "3382.8611553770365\n",
      "3382.861065853622\n",
      "3382.861065705421\n",
      "3382.861094533785\n",
      "3382.8610942657324\n",
      "3382.8610974417843\n",
      "3382.8610943476\n",
      "3382.861094198259\n",
      "3382.861062504138\n",
      "3382.861062245264\n",
      "3382.8611327229423\n",
      "3382.8610623163836\n",
      "3382.861062167928\n"
     ]
    }
   ],
   "source": [
    "bnds=(0.001,0.1),(1.0E-5,1.0E-3),(1.5,5.0),(0,2)\n",
    "minimizer_kwargs = {\"bounds\":(bnds)}\n",
    "x0=[0.005,1.7E-4,3.8,0.8]\n",
    "x0_array=np.array(x0)\n",
    "m = minimize(twi_minus_loglikelihood,x0_array,method = 'L-BFGS-B', bounds=bnds)\n",
    "\n",
    "# m = basinhopping(twi_minus_loglikelihood,x0_array,minimizer_kwargs=minimizer_kwargs)"
   ]
  },
  {
   "cell_type": "code",
   "execution_count": 4,
   "metadata": {},
   "outputs": [
    {
     "name": "stdout",
     "output_type": "stream",
     "text": [
      "      fun: 3382.861062504138\n",
      " hess_inv: <4x4 LbfgsInvHessProduct with dtype=float64>\n",
      "      jac: array([ -25.88740244, 7021.8804467 ,  -18.77542672,  -33.62097232])\n",
      "  message: b'CONVERGENCE: REL_REDUCTION_OF_F_<=_FACTR*EPSMCH'\n",
      "     nfev: 105\n",
      "      nit: 11\n",
      "   status: 0\n",
      "  success: True\n",
      "        x: array([7.33780009e-02, 1.07552880e-05, 2.14431610e+00, 1.66383631e+00])\n"
     ]
    }
   ],
   "source": [
    "print (m)\n",
    "\n",
    "# L-BFGS-B  3382.861062504138\n",
    "# TNC       3383.9870159092543\n",
    "# SLSQP     3386.486771335871"
   ]
  },
  {
   "cell_type": "code",
   "execution_count": 5,
   "metadata": {},
   "outputs": [
    {
     "data": {
      "image/png": "[encoded data removed]",
      "text/plain": [
       "<Figure size 720x576 with 1 Axes>"
      ]
     },
     "metadata": {
      "needs_background": "light"
     },
     "output_type": "display_data"
    }
   ],
   "source": [
    "perdata091 = pd.read_csv(\"perlist091.csv\")\n",
    "f = perdata091['f']\n",
    "per = perdata091['per']\n",
    "\n",
    "alpha_L = 1.0\n",
    "parameter = m.x\n",
    "A,f_b,alpha_H,poisson = parameter\n",
    "\n",
    "model = []\n",
    "f_length = len(f)\n",
    "for i in range(f_length):\n",
    "    model.append(((f[i]**(-alpha_L))/(1+(f[i]/f_b)**(alpha_H-alpha_L)))*A+poisson)\n",
    "    \n",
    "plt.figure(figsize=(10,8))\n",
    "plt.loglog()\n",
    "plt.step(f, per, color=\"b\", alpha=0.5, linewidth=1)\n",
    "plt.plot(f, model, color=\"r\", linewidth=1)\n",
    "plt.xlabel(\"frequency\",fontsize=13)\n",
    "plt.ylabel(\"power\",fontsize=13)\n",
    "plt.show()"
   ]
  },
  {
   "cell_type": "code",
   "execution_count": 6,
   "metadata": {},
   "outputs": [],
   "source": [
    "def twi_minus_loglikelihood_nobreak(parameter):\n",
    "    A,alpha,poisson = parameter\n",
    "    alpha_L = 1.0\n",
    "    \n",
    "    perdata091 = pd.read_csv(\"perlist091.csv\")\n",
    "    f = perdata091['f']\n",
    "    per = perdata091['per']\n",
    "            \n",
    "    model = []\n",
    "    f_length = len(f)\n",
    "    for i in range(f_length):\n",
    "        model.append((f[i]**(-alpha))*A+poisson)\n",
    "     \n",
    "    \n",
    "    length = len(perdata091)\n",
    "    minus_log_p = 0\n",
    "    for i in range(length):\n",
    "        minus_log_p += (per[i]/model[i]+math.log(model[i]))\n",
    "    \n",
    "    \n",
    "    D = 2*minus_log_p\n",
    "    print (D)\n",
    "    return D"
   ]
  },
  {
   "cell_type": "code",
   "execution_count": 7,
   "metadata": {
    "scrolled": true
   },
   "outputs": [
    {
     "name": "stdout",
     "output_type": "stream",
     "text": [
      "3878.6469091285862\n",
      "3878.894949481129\n",
      "3878.646928773937\n",
      "3878.646905611762\n",
      "11748.930681894251\n",
      "11746.754528555768\n",
      "11748.930679496038\n",
      "11748.930640190274\n",
      "3773.3878238158018\n",
      "3773.600386128835\n",
      "3773.3878403632953\n",
      "3773.387820088871\n",
      "5658.415651737677\n",
      "5513.752646725734\n",
      "5658.415491148926\n",
      "5658.415639567904\n",
      "3555.1412693960006\n",
      "3555.27107365712\n",
      "3555.141276411052\n",
      "3555.141264678494\n",
      "5390.559597062523\n",
      "5260.453440918902\n",
      "5390.559452999393\n",
      "5390.5595854107005\n",
      "3497.919589888039\n",
      "3497.9332849540974\n",
      "3497.9195909014393\n",
      "3497.9195847469314\n",
      "3463.4279998490597\n",
      "3463.371184020691\n",
      "3463.427997544069\n",
      "3463.427995821127\n",
      "3445.4181129372855\n",
      "3445.345917160359\n",
      "3445.4181059556036\n",
      "3445.41811059664\n",
      "3434.8568818627687\n",
      "3434.876719126898\n",
      "3434.856885110661\n",
      "3434.85688041688\n",
      "3422.616278429493\n",
      "3422.6159030730378\n",
      "3422.6162775935354\n",
      "3422.616277282365\n",
      "3422.459193079473\n",
      "3422.456941888806\n",
      "3422.459191770691\n",
      "3422.459191990495\n",
      "3422.3917744496493\n",
      "3422.3897775352675\n",
      "3422.3917731762576\n",
      "3422.3917733873463\n",
      "3422.18676235449\n",
      "3422.186248811796\n",
      "3422.186761350011\n",
      "3422.186761418757\n",
      "3422.1725754150193\n",
      "3422.1724531511363\n",
      "3422.17257449421\n",
      "3422.172574510093\n",
      "3422.1714527157096\n",
      "3422.171442444979\n",
      "3422.171451819088\n",
      "3422.171451820632\n",
      "3422.17143139493\n",
      "3422.171431365651\n",
      "3422.1714305006303\n",
      "3422.1714305006044\n",
      "3422.1714304329125\n",
      "3422.1714306308395\n",
      "3422.171429538654\n",
      "3422.1714295386264\n"
     ]
    }
   ],
   "source": [
    "bnds=(0.0000001,0.1),(1.0,5.0),(0,2)\n",
    "minimizer_kwargs = {\"bounds\":(bnds)}\n",
    "x1=[1.0E-5,2.0,1.0]\n",
    "x1_array=np.array(x1)\n",
    "n = minimize(twi_minus_loglikelihood_nobreak,x1_array,method = 'L-BFGS-B', bounds=bnds)"
   ]
  },
  {
   "cell_type": "code",
   "execution_count": 8,
   "metadata": {},
   "outputs": [
    {
     "name": "stdout",
     "output_type": "stream",
     "text": [
      "      fun: 3422.1714304329125\n",
      " hess_inv: <3x3 LbfgsInvHessProduct with dtype=float64>\n",
      "      jac: array([ 19.79269655, -89.42583918, -89.42861314])\n",
      "  message: b'CONVERGENCE: REL_REDUCTION_OF_F_<=_FACTR*EPSMCH'\n",
      "     nfev: 72\n",
      "      nit: 14\n",
      "   status: 0\n",
      "  success: True\n",
      "        x: array([3.03478388e-05, 1.53466353e+00, 1.46533653e+00])\n"
     ]
    }
   ],
   "source": [
    "print (n)\n",
    "\n",
    "# L-BFGS-B  3422.1714304329125\n",
    "# TNC       3654.471250218961"
   ]
  },
  {
   "cell_type": "code",
   "execution_count": 9,
   "metadata": {},
   "outputs": [
    {
     "data": {
      "image/png": "[encoded data removed]",
      "text/plain": [
       "<Figure size 720x576 with 1 Axes>"
      ]
     },
     "metadata": {
      "needs_background": "light"
     },
     "output_type": "display_data"
    }
   ],
   "source": [
    "parameter2 = n.x\n",
    "A,alpha,poisson = parameter2\n",
    "\n",
    "model2 = []\n",
    "f_length = len(f)\n",
    "for i in range(f_length):\n",
    "    model2.append((f[i]**(-alpha))*A+poisson)\n",
    "    \n",
    "plt.figure(figsize=(10,8))\n",
    "plt.loglog()\n",
    "plt.step(f, per, color=\"b\", alpha=0.5, linewidth=1)\n",
    "plt.plot(f, model2, color=\"r\", linewidth=1)\n",
    "plt.xlabel(\"frequency\",fontsize=13)\n",
    "plt.ylabel(\"power\",fontsize=13)\n",
    "plt.show()"
   ]
  },
  {
   "cell_type": "code",
   "execution_count": null,
   "metadata": {},
   "outputs": [],
   "source": []
  }
 ],
 "metadata": {
  "kernelspec": {
   "display_name": "Python 3",
   "language": "python",
   "name": "python3"
  },
  "language_info": {
   "codemirror_mode": {
    "name": "ipython",
    "version": 3
   },
   "file_extension": ".py",
   "mimetype": "text/x-python",
   "name": "python",
   "nbconvert_exporter": "python",
   "pygments_lexer": "ipython3",
   "version": "3.7.0"
  }
 },
 "nbformat": 4,
 "nbformat_minor": 2
}
