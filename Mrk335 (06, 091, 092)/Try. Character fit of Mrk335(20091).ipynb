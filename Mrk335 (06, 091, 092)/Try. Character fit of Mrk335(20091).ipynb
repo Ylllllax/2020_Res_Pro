{
 "cells": [
  {
   "cell_type": "code",
   "execution_count": 1,
   "metadata": {},
   "outputs": [],
   "source": [
    "import numpy as np\n",
    "import math\n",
    "import matplotlib.pyplot as plt\n",
    "from scipy.fftpack import fft,ifft\n",
    "import pandas as pd\n",
    "from scipy.optimize import minimize\n",
    "import gc"
   ]
  },
  {
   "cell_type": "code",
   "execution_count": 2,
   "metadata": {},
   "outputs": [],
   "source": [
    "# N=20取bin的函数\n",
    "\n",
    "def databin_20(lst):\n",
    "    result = [[]]    \n",
    "    length = len(lst)\n",
    "    n = 0\n",
    "    for i in range(length):\n",
    "        result[-1].append(math.log(lst[i],10))\n",
    "        n = n+1\n",
    "        if n ==50:\n",
    "            n = 0\n",
    "            result.append([])\n",
    "    result.pop()\n",
    "    output=[]\n",
    "    for j in range(len(result)):\n",
    "        output.append(np.mean(result[j])) \n",
    "    return output\n",
    "\n",
    "def databin_20_std(lst):\n",
    "    result = [[]]\n",
    "    length = len(lst)\n",
    "    n = 0\n",
    "    for i in range(length):\n",
    "        result[-1].append(math.log(lst[i],10))\n",
    "        n = n+1\n",
    "        if n == 50:\n",
    "            n = 0\n",
    "            result.append([]) \n",
    "    result.pop()\n",
    "    output=[]\n",
    "    for j in range(len(result)):\n",
    "        output.append(np.std(result[j]))\n",
    "    return output\n"
   ]
  },
  {
   "cell_type": "code",
   "execution_count": 3,
   "metadata": {},
   "outputs": [
    {
     "data": {
      "text/plain": [
       "'\\npnum = np.arange(len(counts))\\nt = [i*dt for i in pnum]\\n\\n\\nplt.figure(figsize=(10,8))\\nplt.plot(t,counts,\\'b\\')\\nplt.xlabel(\"time\")\\nplt.ylabel(\"counts\")\\nplt.title(\"lightcurve\")\\nplt.show() \\n'"
      ]
     },
     "execution_count": 3,
     "metadata": {},
     "output_type": "execute_result"
    }
   ],
   "source": [
    "#光变曲线\n",
    "\n",
    "# 提取数据长度\n",
    "data = pd.read_csv(\"0.3_10_tb30(091).csv\")  \n",
    "counts_data = data['RATE']\n",
    "dt=30\n",
    "mean_x_data = np.mean(counts_data)\n",
    "\n",
    "N=len(counts_data)\n",
    "N_randomlc=len(counts_data)\n",
    "\n",
    "omega = []\n",
    "POW = []\n",
    "DFT = []\n",
    "fr = []\n",
    "fi = []\n",
    "f1 = []\n",
    "f2 = []\n",
    "p = []\n",
    "f = []\n",
    "\n",
    "\n",
    "counts_list=[None for i in range(500)]\n",
    "\n",
    "# 500条光变曲线\n",
    "for a in range(500):\n",
    "    f_b=1.7E-4\n",
    "    alpha_H=3.8\n",
    "    alpha_L=1.0\n",
    "    for j in range(1,int(N_randomlc)+1):\n",
    "        omega.append(j/(N_randomlc*dt))\n",
    "        POW.append(((omega[-1]**(-alpha_L))/(1+(omega[-1]/f_b)**(alpha_H-alpha_L)))*0.005)\n",
    "        DFT.append(complex(np.sqrt(POW[-1]),np.sqrt(POW[-1])))\n",
    "        s1=np.random.normal(loc=0.0, scale=1.0, size=None)\n",
    "        s2=np.random.normal(loc=0.0, scale=1.0, size=None)\n",
    "        fr.append((DFT[-1].real)*s1)\n",
    "        fi.append((DFT[-1].imag)*s2)\n",
    "        f1.append(complex(fr[-1],fi[-1]))\n",
    "    counts = ifft(f1)\n",
    "    counts_list[a]=counts\n",
    "    gc.collect()\n",
    "\n",
    "\n",
    "\n",
    "\n",
    "\n",
    "'''\n",
    "pnum = np.arange(len(counts))\n",
    "t = [i*dt for i in pnum]\n",
    "\n",
    "\n",
    "plt.figure(figsize=(10,8))\n",
    "plt.plot(t,counts,'b')\n",
    "plt.xlabel(\"time\")\n",
    "plt.ylabel(\"counts\")\n",
    "plt.title(\"lightcurve\")\n",
    "plt.show() \n",
    "'''"
   ]
  },
  {
   "cell_type": "code",
   "execution_count": 4,
   "metadata": {},
   "outputs": [
    {
     "data": {
      "image/png": "[encoded data removed]",
      "text/plain": [
       "<Figure size 720x576 with 1 Axes>"
      ]
     },
     "metadata": {
      "needs_background": "light"
     },
     "output_type": "display_data"
    }
   ],
   "source": [
    "#周期图\n",
    "\n",
    "per_list=[None for i in range(500)]\n",
    "\n",
    "for a in range(500):\n",
    "    nf = N/2\n",
    "    df = 1/(dt*N)\n",
    "    F_a = np.arange(1,nf+1)\n",
    "    F = [i*df for i in F_a]\n",
    "    F1 = F[0:int(nf)]\n",
    "    mean_x = np.mean(counts_list[a])\n",
    "    x_new  = [i-mean_x for i in counts_list[a]]\n",
    "    dft   = fft(counts_list[a])\n",
    "    dft_1 = dft[1:int(nf)+1]\n",
    "    per = (abs(dft_1)**2)\n",
    "\n",
    "    per_list[a] = per\n",
    "\n",
    "\n",
    "# 500条周期图取 mean,std\n",
    "per_everypoint_list=[]\n",
    "for i in range(int(nf)):\n",
    "    per_everypoint_list.append([])\n",
    "ADM=[]\n",
    "ADM_std=[]\n",
    "for m in range(int(nf)):\n",
    "    for n in range(500):\n",
    "        per_everypoint_list[m].append(per_list[n][m])\n",
    "        \n",
    "for m in range(int(nf)):\n",
    "    ADM.append(np.mean(per_everypoint_list[m]))\n",
    "    ADM_std.append(np.std(per_everypoint_list[m]))    \n",
    "\n",
    "    \n",
    "# ADM取bin\n",
    "ADM_binned=databin_20(ADM)\n",
    "ADM_binned_std=databin_20_std(ADM)\n",
    "F1_binned=databin_20(F1)\n",
    "ADM_times_f_binned = np.array(F1_binned)+np.array(ADM_binned)\n",
    "\n",
    "\n",
    "POW1=POW[0:int(nf)]\n",
    "P_TIMES_F = np.multiply(np.array(F1),np.array(POW1))\n",
    "F1_log = [math.log(i,10) for i in F1]\n",
    "PTF_log = [math.log(i,10) for i in P_TIMES_F]\n",
    "\n",
    "\n",
    "plt.figure(figsize=(10,8))\n",
    "plt.plot(F1_log,PTF_log,color=\"b\",linewidth=1)\n",
    "plt.scatter(F1_binned,ADM_times_f_binned,color=\"r\",linewidth=1)    \n",
    "plt.xlabel(\"log frequency\")\n",
    "plt.ylabel(\"log power*frequency\")\n",
    "plt.title(\"power density spectrum\")\n",
    "plt.show()"
   ]
  },
  {
   "cell_type": "code",
   "execution_count": 5,
   "metadata": {},
   "outputs": [
    {
     "data": {
      "image/png": "[encoded data removed]",
      "text/plain": [
       "<Figure size 720x576 with 1 Axes>"
      ]
     },
     "metadata": {
      "needs_background": "light"
     },
     "output_type": "display_data"
    }
   ],
   "source": [
    "# 加上泊松项？\n",
    "\n",
    "ADM_with_poisson = [i+2/mean_x_data for i in ADM]\n",
    "ADM_binned_ps = databin_20(ADM_with_poisson)\n",
    "F1_binned = databin_20(F1)\n",
    "ADM_times_f_b_ps = np.array(F1_binned)+np.array(ADM_binned_ps)\n",
    "\n",
    "\n",
    "POW1=POW[0:int(nf)]\n",
    "POW_ps = [i+2/mean_x_data for i in POW1]\n",
    "PTF_ps = np.multiply(np.array(F1),np.array(POW_ps))\n",
    "F1_log = [math.log(i,10) for i in F1]\n",
    "PTF_ps_log = [math.log(i,10) for i in PTF_ps]\n",
    "\n",
    "\n",
    "\n",
    "\n",
    "plt.figure(figsize=(10,8))\n",
    "plt.plot(F1_log,PTF_ps_log,color=\"b\",linewidth=1)\n",
    "plt.scatter(F1_binned,ADM_times_f_b_ps,color=\"r\",linewidth=1)  \n",
    "plt.xlabel(\"log frequency\")\n",
    "plt.ylabel(\"log power*frequency\")\n",
    "plt.title(\"power density spectrum\")\n",
    "plt.show()"
   ]
  },
  {
   "cell_type": "code",
   "execution_count": 6,
   "metadata": {},
   "outputs": [
    {
     "data": {
      "image/png": "[encoded data removed]",
      "text/plain": [
       "<Figure size 720x576 with 1 Axes>"
      ]
     },
     "metadata": {
      "needs_background": "light"
     },
     "output_type": "display_data"
    }
   ],
   "source": [
    "# 从数据得到参考周期图\n",
    "\n",
    "data = pd.read_csv(\"0.3_10_tb30(091).csv\")  \n",
    "data['RATE'] = data['RATE'].fillna(data['RATE'].mean())\n",
    "\n",
    "\n",
    "dt=30\n",
    "counts_data = data['RATE']\n",
    "N=len(counts_data)\n",
    "pnum = np.arange(len(counts_data))\n",
    "t = [i*dt for i in pnum]\n",
    "\n",
    "\n",
    "nf = N/2\n",
    "df = 1/(dt*N)\n",
    "mean_x = np.mean(counts_data)\n",
    "dft = fft(counts_data)\n",
    "dft1= dft[1:int(nf)+1]\n",
    "per_data = (abs(dft1)**2)*2*dt/((mean_x**2)*N)\n",
    "p_times_f_data = np.multiply(np.array(F1),np.array(per_data))\n",
    "\n",
    "\n",
    "# 数据分bin\n",
    "per_data_binned = databin_20(per_data)\n",
    "per_data_b_std = databin_20_std(per_data)\n",
    "p_times_f_data_b = np.array(F1_binned)+np.array(per_data_binned)\n",
    "\n",
    "\n",
    "\n",
    "plt.figure(figsize=(10,8))\n",
    "plt.scatter(F1_binned,p_times_f_data_b,color=\"r\",linewidth=1) \n",
    "plt.errorbar(F1_binned,p_times_f_data_b,yerr=per_data_b_std, fmt='.r')\n",
    "plt.plot(F1_log,PTF_ps_log,color=\"b\",linewidth=1) \n",
    "plt.xlabel(\"log frequency\")\n",
    "plt.ylabel(\"log power*frequency\")\n",
    "plt.show()"
   ]
  },
  {
   "cell_type": "code",
   "execution_count": 7,
   "metadata": {},
   "outputs": [
    {
     "name": "stdout",
     "output_type": "stream",
     "text": [
      "5.298282519718358\n"
     ]
    }
   ],
   "source": [
    "# chi2 =（每一点500平均值 - 每一点数据得到）/ 每一点的500标准差  求和\n",
    "\n",
    "chi2=0\n",
    "for i in range(len(ADM_binned_ps)):\n",
    "    chi2 = chi2+(((ADM_binned_ps[i]-per_data_binned[i])/per_data_b_std[i])**2)\n",
    "\n",
    "print (chi2)\n"
   ]
  },
  {
   "cell_type": "code",
   "execution_count": 8,
   "metadata": {},
   "outputs": [],
   "source": [
    "def chi2_of_model(A):\n",
    "    data = pd.read_csv(\"0.3_10_tb30(091).csv\")\n",
    "    data['RATE'] = data['RATE'].fillna(data['RATE'].mean())\n",
    "    counts_data = data['RATE']\n",
    "    dt=30\n",
    "    mean_x_data = np.mean(counts_data)\n",
    "    N=len(counts_data)\n",
    "    N_randomlc=len(counts_data)\n",
    "    \n",
    "    omega = []\n",
    "    POW = []\n",
    "    DFT = []\n",
    "    fr = []\n",
    "    fi = []\n",
    "    f1 = []\n",
    "    f2 = []\n",
    "    p = []\n",
    "    f = []\n",
    "    \n",
    "    counts_list=[None for i in range(500)]\n",
    "    \n",
    "    \n",
    "    # 500条光变曲线\n",
    "    for a in range(500): \n",
    "        f_b=1.7E-4\n",
    "        alpha_H=3.8\n",
    "        alpha_L=1.0\n",
    "        for j in range(1,int(N_randomlc)+1):\n",
    "            omega.append(j/(N_randomlc*dt))\n",
    "            POW.append(((omega[-1]**(-alpha_L))/(1+(omega[-1]/f_b)**(alpha_H-alpha_L)))*A)\n",
    "            DFT.append(complex(np.sqrt(POW[-1]),np.sqrt(POW[-1])))\n",
    "            s1=np.random.normal(loc=0.0, scale=1.0, size=None)\n",
    "            s2=np.random.normal(loc=0.0, scale=1.0, size=None)\n",
    "            fr.append((DFT[-1].real)*s1)\n",
    "            fi.append((DFT[-1].imag)*s2)\n",
    "            f1.append(complex(fr[-1],fi[-1]))\n",
    "        counts = ifft(f1)\n",
    "        counts_list[a]=counts\n",
    "    \n",
    "    \n",
    "    #周期图\n",
    "    per_list=[None for i in range(500)]\n",
    "    for a in range(500):\n",
    "        nf = N/2 \n",
    "        df = 1/(dt*N)\n",
    "        F_a = np.arange(1,nf+1)\n",
    "        F = [i*df for i in F_a]\n",
    "        F1 = F[0:int(nf)]\n",
    "        mean_x = np.mean(counts_list[a])\n",
    "        x_new  = [i-mean_x for i in counts_list[a]]\n",
    "        dft   = fft(counts_list[a])\n",
    "        dft_1 = dft[1:int(nf)+1]\n",
    "        per = (abs(dft_1)**2)\n",
    "        per_list[a] = per\n",
    "    \n",
    "    \n",
    "    \n",
    "    # 500条周期图取 mean,std\n",
    "    per_everypoint_list=[]\n",
    "    for i in range(int(nf)):\n",
    "        per_everypoint_list.append([])\n",
    "    ADM=[]\n",
    "    ADM_std=[]\n",
    "    for m in range(int(nf)):\n",
    "        for n in range(100):\n",
    "            per_everypoint_list[m].append(per_list[n][m])\n",
    "        \n",
    "    for m in range(int(nf)):\n",
    "        ADM.append(np.mean(per_everypoint_list[m]))\n",
    "        ADM_std.append(np.std(per_everypoint_list[m]))    \n",
    "        \n",
    "        \n",
    "    POW1=POW[0:int(nf)]\n",
    "    P_TIMES_F = np.multiply(np.array(F1),np.array(POW1))\n",
    "    F1_log = [math.log(i,10) for i in F1]\n",
    "    PTF_log = [math.log(i,10) for i in P_TIMES_F]\n",
    "    \n",
    "\n",
    "    \n",
    "    \n",
    "    #加上泊松项并分bin\n",
    "    ADM_with_poisson = [i+2/mean_x_data for i in ADM]\n",
    "    ADM_binned_ps = databin_20(ADM_with_poisson)\n",
    "    F1_binned = databin_20(F1)\n",
    "    ADM_times_f_b_ps = np.array(F1_binned)+np.array(ADM_binned_ps)\n",
    "    \n",
    "    \n",
    "    # 从数据得到参考周期图\n",
    "    pnum = np.arange(len(counts_data))\n",
    "    t = [i*dt for i in pnum]\n",
    "    \n",
    "    nf = N/2\n",
    "    df = 1/(dt*N)\n",
    "    F_num = np.arange(1,nf)\n",
    "    F = [i*df for i in F_num]\n",
    "    mean_x = np.mean(counts_data)\n",
    "    dft = fft(counts_data)\n",
    "    dft1= dft[1:int(nf)+1]\n",
    "    per_data = (abs(dft1)**2)*2*dt/((mean_x**2)*N)\n",
    "    \n",
    "    \n",
    "    # 数据分bin\n",
    "    per_data_binned = databin_20(per_data)\n",
    "    per_data_b_std = databin_20_std(per_data)\n",
    "    p_times_f_data_b = np.array(F1_binned)+np.array(per_data_binned)\n",
    "    \n",
    "    \n",
    "    chi2=0\n",
    "    for i in range(len(ADM_binned_ps)):\n",
    "        chi2 = chi2+(((ADM_binned_ps[i]-per_data_binned[i])/per_data_b_std[i])**2)    \n",
    "    \n",
    "    print('chi2 of this time = ',chi2)\n",
    "    \n",
    "    return (chi2)"
   ]
  },
  {
   "cell_type": "code",
   "execution_count": 9,
   "metadata": {},
   "outputs": [
    {
     "name": "stdout",
     "output_type": "stream",
     "text": [
      "chi2 of this time =  5.313012629867919\n",
      "5.313012629867919\n"
     ]
    }
   ],
   "source": [
    "print(chi2_of_model(0.005))"
   ]
  },
  {
   "cell_type": "code",
   "execution_count": 10,
   "metadata": {},
   "outputs": [
    {
     "name": "stdout",
     "output_type": "stream",
     "text": [
      "chi2 of this time =  5.333352856015158\n",
      "5.333352856015158\n"
     ]
    }
   ],
   "source": [
    "print(chi2_of_model(0.005))"
   ]
  },
  {
   "cell_type": "code",
   "execution_count": 11,
   "metadata": {},
   "outputs": [
    {
     "name": "stdout",
     "output_type": "stream",
     "text": [
      "chi2 of this time =  5.346717869368092\n",
      "5.346717869368092\n"
     ]
    }
   ],
   "source": [
    "print(chi2_of_model(0.005))"
   ]
  },
  {
   "cell_type": "code",
   "execution_count": 12,
   "metadata": {},
   "outputs": [
    {
     "name": "stdout",
     "output_type": "stream",
     "text": [
      "chi2 of this time =  5.340267674000583\n",
      "5.340267674000583\n"
     ]
    }
   ],
   "source": [
    "print(chi2_of_model(0.005))"
   ]
  },
  {
   "cell_type": "code",
   "execution_count": null,
   "metadata": {},
   "outputs": [],
   "source": []
  },
  {
   "cell_type": "code",
   "execution_count": null,
   "metadata": {},
   "outputs": [],
   "source": [
    "5.298\n",
    "5.313\n",
    "5.333\n",
    "5.346\n",
    "5.340"
   ]
  }
 ],
 "metadata": {
  "kernelspec": {
   "display_name": "Python 3",
   "language": "python",
   "name": "python3"
  },
  "language_info": {
   "codemirror_mode": {
    "name": "ipython",
    "version": 3
   },
   "file_extension": ".py",
   "mimetype": "text/x-python",
   "name": "python",
   "nbconvert_exporter": "python",
   "pygments_lexer": "ipython3",
   "version": "3.7.0"
  }
 },
 "nbformat": 4,
 "nbformat_minor": 2
}
