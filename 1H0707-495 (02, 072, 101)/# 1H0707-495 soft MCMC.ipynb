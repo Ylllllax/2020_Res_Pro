{
 "cells": [
  {
   "cell_type": "code",
   "execution_count": 1,
   "metadata": {},
   "outputs": [],
   "source": [
    "import numpy as np\n",
    "import math\n",
    "import matplotlib.pyplot as plt\n",
    "from scipy.fftpack import fft,ifft\n",
    "import pandas as pd\n",
    "from scipy.optimize import minimize\n",
    "from scipy.optimize import basinhopping\n",
    "from iminuit import Minuit\n",
    "\n",
    "import emcee\n",
    "from pprint import pprint\n",
    "import time\n",
    "from multiprocessing import Pool\n",
    "\n",
    "import random"
   ]
  },
  {
   "cell_type": "markdown",
   "metadata": {},
   "source": [
    "## 2002 MCMC"
   ]
  },
  {
   "cell_type": "code",
   "execution_count": 2,
   "metadata": {},
   "outputs": [],
   "source": [
    "# 似然函数 p; D = -2 ln p\n",
    "\n",
    "def twi_minus_loglikelihood_02(log_A,log_f_b,alpha_H,log_poisson):\n",
    "    alpha_L = 1.0\n",
    "    \n",
    "    perdata02 = pd.read_csv(\"perlist02_s.csv\")\n",
    "    f = perdata02['f']\n",
    "    per = perdata02['per']\n",
    "            \n",
    "    model = []\n",
    "    f_length = len(f)\n",
    "    for i in range(f_length):\n",
    "        model.append(((f[i]**(-alpha_L))/(1+(f[i]/(10**log_f_b))**(alpha_H-alpha_L)))*(10**log_A)+(10**log_poisson))\n",
    "     \n",
    "    \n",
    "    length = len(perdata02)\n",
    "    minus_log_p = 0\n",
    "    for i in range(length):\n",
    "        minus_log_p += (per[i]/model[i]+math.log(model[i]))\n",
    "    \n",
    "    \n",
    "    D = 2*minus_log_p\n",
    "    # print (D)\n",
    "    return D"
   ]
  },
  {
   "cell_type": "code",
   "execution_count": 3,
   "metadata": {},
   "outputs": [
    {
     "data": {
      "text/html": [
       "<hr>"
      ]
     },
     "metadata": {},
     "output_type": "display_data"
    },
    {
     "data": {
      "text/html": [
       "<table>\n",
       "    <tr>\n",
       "        <td title=\"Minimum value of function\">FCN = -1236.9677578079807</td>\n",
       "        <td title=\"Total number of call to FCN so far\">TOTAL NCALL = 159</td>\n",
       "        <td title=\"Number of call in last migrad\">NCALLS = 159</td>\n",
       "    </tr>\n",
       "    <tr>\n",
       "        <td title=\"Estimated distance to minimum\">EDM = 1.989476009735364e-06</td>\n",
       "        <td title=\"Maximum EDM definition of convergence\">GOAL EDM = 1e-05</td>\n",
       "        <td title=\"Error def. Amount of increase in FCN to be defined as 1 standard deviation\">\n",
       "        UP = 1.0</td>\n",
       "    </tr>\n",
       "</table>\n",
       "<table>\n",
       "    <tr>\n",
       "        <td align=\"center\" title=\"Validity of the migrad call\">Valid</td>\n",
       "        <td align=\"center\" title=\"Validity of parameters\">Valid Param</td>\n",
       "        <td align=\"center\" title=\"Is Covariance matrix accurate?\">Accurate Covar</td>\n",
       "        <td align=\"center\" title=\"Positive definiteness of covariance matrix\">PosDef</td>\n",
       "        <td align=\"center\" title=\"Was covariance matrix made posdef by adding diagonal element\">Made PosDef</td>\n",
       "    </tr>\n",
       "    <tr>\n",
       "        <td align=\"center\" style=\"background-color:#92CCA6\">True</td>\n",
       "        <td align=\"center\" style=\"background-color:#92CCA6\">True</td>\n",
       "        <td align=\"center\" style=\"background-color:#92CCA6\">True</td>\n",
       "        <td align=\"center\" style=\"background-color:#92CCA6\">True</td>\n",
       "        <td align=\"center\" style=\"background-color:#92CCA6\">False</td>\n",
       "    </tr>\n",
       "    <tr>\n",
       "        <td align=\"center\" title=\"Was last hesse call fail?\">Hesse Fail</td>\n",
       "        <td align=\"center\" title=\"Validity of covariance\">HasCov</td>\n",
       "        <td align=\"center\" title=\"Is EDM above goal EDM?\">Above EDM</td>\n",
       "        <td align=\"center\"></td>\n",
       "        <td align=\"center\" title=\"Did last migrad call reach max call limit?\">Reach calllim</td>\n",
       "    </tr>\n",
       "    <tr>\n",
       "        <td align=\"center\" style=\"background-color:#92CCA6\">False</td>\n",
       "        <td align=\"center\" style=\"background-color:#92CCA6\">True</td>\n",
       "        <td align=\"center\" style=\"background-color:#92CCA6\">False</td>\n",
       "        <td align=\"center\"></td>\n",
       "        <td align=\"center\" style=\"background-color:#92CCA6\">False</td>\n",
       "    </tr>\n",
       "</table>"
      ]
     },
     "metadata": {},
     "output_type": "display_data"
    },
    {
     "data": {
      "text/html": [
       "<table>\n",
       "    <tr>\n",
       "        <td><a href=\"#\" onclick=\"$('#ctUYpEfIPd').toggle()\">+</a></td>\n",
       "        <td title=\"Variable name\">Name</td>\n",
       "        <td title=\"Value of parameter\">Value</td>\n",
       "        <td title=\"Hesse error\">Hesse Error</td>\n",
       "        <td title=\"Minos lower error\">Minos Error-</td>\n",
       "        <td title=\"Minos upper error\">Minos Error+</td>\n",
       "        <td title=\"Lower limit of the parameter\">Limit-</td>\n",
       "        <td title=\"Upper limit of the parameter\">Limit+</td>\n",
       "        <td title=\"Is the parameter fixed in the fit\">Fixed?</td>\n",
       "    </tr>\n",
       "    <tr>\n",
       "        <td>0</td>\n",
       "        <td>log_A</td>\n",
       "        <td>-2.29215</td>\n",
       "        <td>0.158339</td>\n",
       "        <td></td>\n",
       "        <td></td>\n",
       "        <td>-3</td>\n",
       "        <td>-1</td>\n",
       "        <td>No</td>\n",
       "    </tr>\n",
       "    <tr>\n",
       "        <td>1</td>\n",
       "        <td>log_f_b</td>\n",
       "        <td>-3.86704</td>\n",
       "        <td>0.136486</td>\n",
       "        <td></td>\n",
       "        <td></td>\n",
       "        <td>-5</td>\n",
       "        <td>-2</td>\n",
       "        <td>No</td>\n",
       "    </tr>\n",
       "    <tr>\n",
       "        <td>2</td>\n",
       "        <td>alpha_H</td>\n",
       "        <td>3.3068</td>\n",
       "        <td>0.348349</td>\n",
       "        <td></td>\n",
       "        <td></td>\n",
       "        <td>1</td>\n",
       "        <td>5</td>\n",
       "        <td>No</td>\n",
       "    </tr>\n",
       "    <tr>\n",
       "        <td>3</td>\n",
       "        <td>poisson</td>\n",
       "        <td>0.168015</td>\n",
       "        <td>0.00554297</td>\n",
       "        <td></td>\n",
       "        <td></td>\n",
       "        <td>0</td>\n",
       "        <td>2</td>\n",
       "        <td>No</td>\n",
       "    </tr>\n",
       "</table>\n",
       "<pre id=\"ctUYpEfIPd\" style=\"display:none;\">\n",
       "<textarea rows=\"14\" cols=\"50\" onclick=\"this.select()\" readonly>\n",
       "\\begin{tabular}{|c|r|r|r|r|r|r|r|c|}\n",
       "\\hline\n",
       " & Name & Value & Hesse Error & Minos Error- & Minos Error+ & Limit- & Limit+ & Fixed?\\\\\n",
       "\\hline\n",
       "0 & $log_{A}$ & -2.29215 & 0.158339 &  &  & -3.0 & -1 & No\\\\\n",
       "\\hline\n",
       "1 & log $f_{b}$ & -3.86704 & 0.136486 &  &  & -5.0 & -2 & No\\\\\n",
       "\\hline\n",
       "2 & $\\alpha_{H}$ & 3.3068 & 0.348349 &  &  & 1.0 & 5 & No\\\\\n",
       "\\hline\n",
       "3 & poisson & 0.168015 & 0.00554297 &  &  & 0.0 & 2 & No\\\\\n",
       "\\hline\n",
       "\\end{tabular}\n",
       "</textarea>\n",
       "</pre>"
      ]
     },
     "metadata": {},
     "output_type": "display_data"
    },
    {
     "data": {
      "text/html": [
       "<hr>"
      ]
     },
     "metadata": {},
     "output_type": "display_data"
    },
    {
     "name": "stdout",
     "output_type": "stream",
     "text": [
      "-1236.9677578079807\n"
     ]
    }
   ],
   "source": [
    "m02=Minuit(twi_minus_loglikelihood_02,log_A=math.log(0.005,10),log_f_b=math.log(1.7E-4,10),alpha_H=3.8,log_poisson=0.0,\n",
    "         error_log_A=0.1,error_log_f_b=0.1,error_alpha_H=0.02,error_log_poisson=0.1,\n",
    "         limit_log_A=(-3,-1), limit_log_f_b=(-7,-2),limit_alpha_H=(1.0,5.0),limit_log_poisson=(0,5),\n",
    "         errordef=1)\n",
    "\n",
    "m02.migrad()\n",
    "\n",
    "pprint(m02.fval)"
   ]
  },
  {
   "cell_type": "code",
   "execution_count": 4,
   "metadata": {},
   "outputs": [],
   "source": [
    "# 均匀先验\n",
    "\n",
    "def lnprior_02(theta):\n",
    "    log_A,log_f_b,alpha_H,log_poisson = theta\n",
    "    alpha_L = 1.0\n",
    "    if -3 < log_A < 0 and -5 < log_f_b < -2 and 1.0 < alpha_H < 5.0 and 0.0 < log_poisson < 5.0:\n",
    "        return 0.0\n",
    "    return -np.inf\n",
    "\n",
    "# 后验概率？\n",
    "\n",
    "def lnprob_02(theta):\n",
    "    log_A,log_f_b,alpha_H,log_poisson = theta\n",
    "    lp = lnprior_02(theta)\n",
    "    if not np.isfinite(lp):\n",
    "        return -np.inf\n",
    "    return (lp - 0.5* twi_minus_loglikelihood_02(log_A,log_f_b,alpha_H,log_poisson))"
   ]
  },
  {
   "cell_type": "code",
   "execution_count": null,
   "metadata": {},
   "outputs": [
    {
     "name": "stdout",
     "output_type": "stream",
     "text": [
      "[##########################    ]"
     ]
    }
   ],
   "source": [
    "# emcee\n",
    "\n",
    "ndim, nwalkers = 4, 100\n",
    "pos = [[m02.values[0],m02.values[1],m02.values[2],m02.values[3]] + 1e-4*np.random.randn(ndim) for i in range(nwalkers)]\n",
    "sampler = emcee.EnsembleSampler(nwalkers, ndim, lnprob_02)\n",
    "\n",
    "\n",
    "# 显示进度并记录时间\n",
    "import sys\n",
    "\n",
    "nsteps = 500\n",
    "width = 30\n",
    "start = time.time()\n",
    "for i, result in enumerate(sampler.sample(pos, iterations=nsteps)):\n",
    "    z = int((width+1) * float(i) / nsteps)\n",
    "    sys.stdout.write(\"\\r[{0}{1}]\".format('#' * z, ' ' * (width - z)))\n",
    "sys.stdout.write(\"\\n\")\n",
    "end = time.time()\n",
    "multi_time = end - start\n",
    "print(\"Serial took {0:.1f} seconds\".format(multi_time))"
   ]
  },
  {
   "cell_type": "code",
   "execution_count": null,
   "metadata": {},
   "outputs": [],
   "source": [
    "fig, axes = plt.subplots(4, figsize=(10, 7), sharex=True)\n",
    "samples = sampler.chain\n",
    "labels = [\"log_A\", \"log_f_b\", \"alpha_H\",\"log_poisson\"]\n",
    "for i in range(ndim):\n",
    "    ax = axes[i]\n",
    "    ax.plot(np.transpose(samples[:,:,i]), \"k\", alpha=0.3)\n",
    "    ax.set_xlim(0, len(samples[1]))\n",
    "    ax.set_ylabel(labels[i])\n",
    "    ax.yaxis.set_label_coords(-0.1, 0.5)\n",
    "\n",
    "axes[-1].set_xlabel(\"step number\");"
   ]
  },
  {
   "cell_type": "code",
   "execution_count": null,
   "metadata": {},
   "outputs": [],
   "source": [
    "print (\"Parameters (2002)\")\n",
    "\n",
    "samples = sampler.chain[:, 100:, :].reshape((-1, ndim))\n",
    "\n",
    "labels = [\"log A\", \"log f_b\", \"alpha_H\",\"log poisson\"]\n",
    "\n",
    "from IPython.display import display, Math\n",
    "\n",
    "for i in range(ndim):\n",
    "    mcmc = np.percentile(samples[:, i], [16, 50, 84])\n",
    "    q = np.diff(mcmc)\n",
    "    txt = \"\\mathrm{{{3}}} = {0:.5f}_{{-{1:.5f}}} ^{{+{2:.5f}}}\"\n",
    "    txt = txt.format(mcmc[1], q[0], q[1], labels[i])\n",
    "    display(Math(txt))"
   ]
  },
  {
   "cell_type": "code",
   "execution_count": null,
   "metadata": {},
   "outputs": [],
   "source": [
    "import corner\n",
    "fig = corner.corner(samples, labels=[\"$log A$\", \"$log f_b$\", \"$alpha_H$\", \"$log poisson$\"],\n",
    "                      truths=[m02.values[0], m02.values[1], m02.values[2], m02.values[3]])"
   ]
  },
  {
   "cell_type": "markdown",
   "metadata": {},
   "source": [
    "## 2010(1) MCMC"
   ]
  },
  {
   "cell_type": "code",
   "execution_count": null,
   "metadata": {},
   "outputs": [],
   "source": [
    "# 似然函数 p; D = -2 ln p\n",
    "\n",
    "def twi_minus_loglikelihood_101(log_A,log_f_b,alpha_H,log_poisson):\n",
    "    alpha_L = 1.0\n",
    "    \n",
    "    perdata101 = pd.read_csv(\"perlist101_s.csv\")\n",
    "    f = perdata101['f']\n",
    "    per = perdata101['per']\n",
    "            \n",
    "    model = []\n",
    "    f_length = len(f)\n",
    "    for i in range(f_length):\n",
    "        model.append(((f[i]**(-alpha_L))/(1+(f[i]/(10**log_f_b))**(alpha_H-alpha_L)))*(10**log_A)+(10**log_poisson))\n",
    "     \n",
    "    \n",
    "    length = len(perdata101)\n",
    "    minus_log_p = 0\n",
    "    for i in range(length):\n",
    "        minus_log_p += (per[i]/model[i]+math.log(model[i]))\n",
    "    \n",
    "    \n",
    "    D = 2*minus_log_p\n",
    "    # print (D)\n",
    "    return D"
   ]
  },
  {
   "cell_type": "code",
   "execution_count": null,
   "metadata": {},
   "outputs": [],
   "source": [
    "m101=Minuit(twi_minus_loglikelihood_101,log_A=math.log(0.005,10),log_f_b=math.log(1.7E-4,10),alpha_H=3.8,log_poisson=0.0,\n",
    "         error_log_A=0.1,error_log_f_b=0.1,error_alpha_H=0.02,error_log_poisson=0.1,\n",
    "         limit_log_A=(-3,0), limit_log_f_b=(-5,-2),limit_alpha_H=(1.0,5.0),limit_log_poisson=(0,3),\n",
    "         errordef=1)\n",
    "\n",
    "m101.migrad()\n",
    "\n",
    "pprint(m101.fval)"
   ]
  },
  {
   "cell_type": "code",
   "execution_count": null,
   "metadata": {},
   "outputs": [],
   "source": [
    "# 均匀先验\n",
    "\n",
    "def lnprior_101(theta):\n",
    "    log_A,log_f_b,alpha_H,log_poisson = theta\n",
    "    alpha_L = 1.0\n",
    "    if -3 < log_A < 0 and -5 < log_f_b < 0 and 1.0 < alpha_H < 5.0 and 0.0 < log_poisson < 5.0:\n",
    "        return 0.0\n",
    "    return -np.inf\n",
    "\n",
    "# 后验概率？\n",
    "\n",
    "def lnprob_101(theta):\n",
    "    log_A,log_f_b,alpha_H,log_poisson = theta\n",
    "    lp = lnprior_101(theta)\n",
    "    if not np.isfinite(lp):\n",
    "        return -np.inf\n",
    "    return (lp - 0.5* twi_minus_loglikelihood_101(log_A,log_f_b,alpha_H,log_poisson))"
   ]
  },
  {
   "cell_type": "code",
   "execution_count": null,
   "metadata": {},
   "outputs": [],
   "source": [
    "# emcee\n",
    "\n",
    "ndim, nwalkers = 4, 100\n",
    "pos = [[m101.values[0],m101.values[1],m101.values[2],m101.values[3]] + 1e-4*np.random.randn(ndim) for i in range(nwalkers)]\n",
    "sampler = emcee.EnsembleSampler(nwalkers, ndim, lnprob_101)\n",
    "\n",
    "\n",
    "# 显示进度并记录时间\n",
    "import sys\n",
    "\n",
    "nsteps = 500\n",
    "width = 30\n",
    "start = time.time()\n",
    "for i, result in enumerate(sampler.sample(pos, iterations=nsteps)):\n",
    "    z = int((width+1) * float(i) / nsteps)\n",
    "    sys.stdout.write(\"\\r[{0}{1}]\".format('#' * z, ' ' * (width - z)))\n",
    "sys.stdout.write(\"\\n\")\n",
    "end = time.time()\n",
    "multi_time = end - start\n",
    "print(\"Serial took {0:.1f} seconds\".format(multi_time))"
   ]
  },
  {
   "cell_type": "code",
   "execution_count": null,
   "metadata": {},
   "outputs": [],
   "source": [
    "fig, axes = plt.subplots(4, figsize=(10, 7), sharex=True)\n",
    "samples = sampler.chain\n",
    "labels = [\"log_A\", \"log_f_b\", \"alpha_H\",\"log_poisson\"]\n",
    "for i in range(ndim):\n",
    "    ax = axes[i]\n",
    "    ax.plot(np.transpose(samples[:,:,i]), \"k\", alpha=0.3)\n",
    "    ax.set_xlim(0, len(samples[1]))\n",
    "    ax.set_ylabel(labels[i])\n",
    "    ax.yaxis.set_label_coords(-0.1, 0.5)\n",
    "\n",
    "axes[-1].set_xlabel(\"step number\");"
   ]
  },
  {
   "cell_type": "code",
   "execution_count": null,
   "metadata": {},
   "outputs": [],
   "source": [
    "print (\"Parameters (2010)\")\n",
    "\n",
    "samples = sampler.chain[:, 100:, :].reshape((-1, ndim))\n",
    "\n",
    "labels = [\"log A\", \"log f_b\", \"alpha_H\",\"log poisson\"]\n",
    "\n",
    "from IPython.display import display, Math\n",
    "\n",
    "for i in range(ndim):\n",
    "    mcmc = np.percentile(samples[:, i], [16, 50, 84])\n",
    "    q = np.diff(mcmc)\n",
    "    txt = \"\\mathrm{{{3}}} = {0:.5f}_{{-{1:.5f}}} ^{{+{2:.5f}}}\"\n",
    "    txt = txt.format(mcmc[1], q[0], q[1], labels[i])\n",
    "    display(Math(txt))"
   ]
  },
  {
   "cell_type": "code",
   "execution_count": null,
   "metadata": {},
   "outputs": [],
   "source": [
    "import corner\n",
    "fig = corner.corner(samples, labels=[\"$log A$\", \"$log f_b$\", \"$alpha_H$\", \"$log poisson$\"],\n",
    "                      truths=[m101.values[0], m101.values[1], m101.values[2], m101.values[3]])"
   ]
  },
  {
   "cell_type": "markdown",
   "metadata": {},
   "source": [
    "## 2007(2) MCMC"
   ]
  },
  {
   "cell_type": "code",
   "execution_count": null,
   "metadata": {},
   "outputs": [],
   "source": [
    "# 似然函数 p; D = -2 ln p\n",
    "\n",
    "def twi_minus_loglikelihood_072(log_A,log_f_b,alpha_H,log_poisson):\n",
    "    alpha_L = 1.0\n",
    "    \n",
    "    perdata072 = pd.read_csv(\"perlist072_s.csv\")\n",
    "    f = perdata072['f']\n",
    "    per = perdata072['per']\n",
    "            \n",
    "    model = []\n",
    "    f_length = len(f)\n",
    "    for i in range(f_length):\n",
    "        model.append(((f[i]**(-alpha_L))/(1+(f[i]/(10**log_f_b))**(alpha_H-alpha_L)))*(10**log_A)+(10**log_poisson))\n",
    "     \n",
    "    \n",
    "    length = len(perdata072)\n",
    "    minus_log_p = 0\n",
    "    for i in range(length):\n",
    "        minus_log_p += (per[i]/model[i]+math.log(model[i]))\n",
    "    \n",
    "    \n",
    "    D = 2*minus_log_p\n",
    "    # print (D)\n",
    "    return D"
   ]
  },
  {
   "cell_type": "code",
   "execution_count": null,
   "metadata": {},
   "outputs": [],
   "source": [
    "m072=Minuit(twi_minus_loglikelihood_072,log_A=math.log(0.005,10),log_f_b=math.log(1.7E-4,10),alpha_H=3.8,log_poisson=0.0,\n",
    "         error_log_A=0.1,error_log_f_b=0.1,error_alpha_H=0.06,error_log_poisson=0.1,\n",
    "         limit_log_A=(-3,0), limit_log_f_b=(-8,-2),limit_alpha_H=(1.0,5.0),limit_log_poisson=(0,3),\n",
    "         errordef=1)\n",
    "\n",
    "m072.migrad()\n",
    "\n",
    "pprint(m072.fval)"
   ]
  },
  {
   "cell_type": "code",
   "execution_count": null,
   "metadata": {},
   "outputs": [],
   "source": [
    "# 均匀先验\n",
    "\n",
    "def lnprior_072(theta):\n",
    "    log_A,log_f_b,alpha_H,log_poisson = theta\n",
    "    alpha_L = 1.0\n",
    "    if -10 < log_A < 20 and -35 < log_f_b < -2 and 1.0 < alpha_H < 4.0 and 0.0 < log_poisson < 5.0:\n",
    "        return 0.0\n",
    "    return -np.inf\n",
    "\n",
    "# 后验概率？\n",
    "\n",
    "def lnprob_072(theta):\n",
    "    log_A,log_f_b,alpha_H,log_poisson = theta\n",
    "    lp = lnprior_072(theta)\n",
    "    if not np.isfinite(lp):\n",
    "        return -np.inf\n",
    "    return (lp - 0.5* twi_minus_loglikelihood_072(log_A,log_f_b,alpha_H,log_poisson))"
   ]
  },
  {
   "cell_type": "code",
   "execution_count": null,
   "metadata": {},
   "outputs": [],
   "source": [
    "# emcee\n",
    "\n",
    "ndim, nwalkers = 4, 100\n",
    "pos = [[m072.values[0],m072.values[1],m072.values[2],m072.values[3]] + 1e-4*np.random.randn(ndim) for i in range(nwalkers)]\n",
    "sampler = emcee.EnsembleSampler(nwalkers, ndim, lnprob_072)\n",
    "\n",
    "\n",
    "# 显示进度并记录时间\n",
    "import sys\n",
    "\n",
    "nsteps = 500\n",
    "width = 30\n",
    "start = time.time()\n",
    "for i, result in enumerate(sampler.sample(pos, iterations=nsteps)):\n",
    "    z = int((width+1) * float(i) / nsteps)\n",
    "    sys.stdout.write(\"\\r[{0}{1}]\".format('#' * z, ' ' * (width - z)))\n",
    "sys.stdout.write(\"\\n\")\n",
    "end = time.time()\n",
    "multi_time = end - start\n",
    "print(\"Serial took {0:.1f} seconds\".format(multi_time))"
   ]
  },
  {
   "cell_type": "code",
   "execution_count": null,
   "metadata": {},
   "outputs": [],
   "source": [
    "fig, axes = plt.subplots(4, figsize=(10, 7), sharex=True)\n",
    "samples = sampler.chain\n",
    "labels = [\"log_A\", \"log_f_b\", \"alpha_H\",\"log_poisson\"]\n",
    "for i in range(ndim):\n",
    "    ax = axes[i]\n",
    "    ax.plot(np.transpose(samples[:,:,i]), \"k\", alpha=0.3)\n",
    "    ax.set_xlim(0, len(samples[1]))\n",
    "    ax.set_ylabel(labels[i])\n",
    "    ax.yaxis.set_label_coords(-0.1, 0.5)\n",
    "\n",
    "axes[-1].set_xlabel(\"step number\");"
   ]
  },
  {
   "cell_type": "code",
   "execution_count": null,
   "metadata": {},
   "outputs": [],
   "source": [
    "print (\"Parameters (2007)\")\n",
    "\n",
    "samples = sampler.chain[:, 100:, :].reshape((-1, ndim))\n",
    "\n",
    "labels = [\"log A\", \"log f_b\", \"alpha_H\",\"log poisson\"]\n",
    "\n",
    "from IPython.display import display, Math\n",
    "\n",
    "for i in range(ndim):\n",
    "    mcmc = np.percentile(samples[:, i], [16, 50, 84])\n",
    "    q = np.diff(mcmc)\n",
    "    txt = \"\\mathrm{{{3}}} = {0:.5f}_{{-{1:.5f}}} ^{{+{2:.5f}}}\"\n",
    "    txt = txt.format(mcmc[1], q[0], q[1], labels[i])\n",
    "    display(Math(txt))"
   ]
  },
  {
   "cell_type": "code",
   "execution_count": null,
   "metadata": {},
   "outputs": [],
   "source": [
    "import corner\n",
    "fig = corner.corner(samples, labels=[\"$log A$\", \"$log f_b$\", \"$alpha_H$\", \"$log poisson$\"],\n",
    "                      truths=[m072.values[0], m072.values[1], m072.values[2], m072.values[3]])"
   ]
  },
  {
   "cell_type": "code",
   "execution_count": null,
   "metadata": {},
   "outputs": [],
   "source": []
  }
 ],
 "metadata": {
  "kernelspec": {
   "display_name": "Python 3",
   "language": "python",
   "name": "python3"
  },
  "language_info": {
   "codemirror_mode": {
    "name": "ipython",
    "version": 3
   },
   "file_extension": ".py",
   "mimetype": "text/x-python",
   "name": "python",
   "nbconvert_exporter": "python",
   "pygments_lexer": "ipython3",
   "version": "3.7.0"
  }
 },
 "nbformat": 4,
 "nbformat_minor": 2
}
