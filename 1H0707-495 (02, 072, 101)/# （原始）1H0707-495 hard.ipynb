{
 "cells": [
  {
   "cell_type": "code",
   "execution_count": 1,
   "metadata": {},
   "outputs": [],
   "source": [
    "import numpy as np\n",
    "import math\n",
    "import matplotlib.pyplot as plt\n",
    "from scipy.fftpack import fft,ifft\n",
    "import pandas as pd\n",
    "from scipy.optimize import minimize\n",
    "from scipy.optimize import basinhopping\n",
    "from iminuit import Minuit\n",
    "\n",
    "import emcee\n",
    "from pprint import pprint\n",
    "import time\n",
    "from multiprocessing import Pool\n",
    "\n",
    "import random"
   ]
  },
  {
   "cell_type": "markdown",
   "metadata": {},
   "source": [
    "## 2002 统计分析"
   ]
  },
  {
   "cell_type": "code",
   "execution_count": 2,
   "metadata": {},
   "outputs": [],
   "source": [
    "# 似然函数 p; D = -2 ln p\n",
    "\n",
    "def twi_minus_loglikelihood_02(log_A,log_f_b,alpha_H,poisson):\n",
    "    alpha_L = 1.0\n",
    "    \n",
    "    perdata02 = pd.read_csv(\"perlist02_h.csv\")\n",
    "    f = perdata02['f']\n",
    "    per = perdata02['per']\n",
    "            \n",
    "    model = []\n",
    "    f_length = len(f)\n",
    "    for i in range(f_length):\n",
    "        model.append(((f[i]**(-alpha_L))/(1+(f[i]/(10**log_f_b))**(alpha_H-alpha_L)))*(10**log_A)+poisson)\n",
    "     \n",
    "    \n",
    "    length = len(perdata02)\n",
    "    minus_log_p = 0\n",
    "    for i in range(length):\n",
    "        minus_log_p += (per[i]/model[i]+math.log(model[i]))\n",
    "    \n",
    "    \n",
    "    D = 2*minus_log_p\n",
    "    # print (D)\n",
    "    return D"
   ]
  },
  {
   "cell_type": "code",
   "execution_count": 3,
   "metadata": {},
   "outputs": [
    {
     "data": {
      "text/html": [
       "<hr>"
      ]
     },
     "metadata": {},
     "output_type": "display_data"
    },
    {
     "data": {
      "text/html": [
       "<table>\n",
       "    <tr>\n",
       "        <td title=\"Minimum value of function\">FCN = 7870.458956781781</td>\n",
       "        <td title=\"Total number of call to FCN so far\">TOTAL NCALL = 247</td>\n",
       "        <td title=\"Number of call in last migrad\">NCALLS = 247</td>\n",
       "    </tr>\n",
       "    <tr>\n",
       "        <td title=\"Estimated distance to minimum\">EDM = 3.8773167826769475e-07</td>\n",
       "        <td title=\"Maximum EDM definition of convergence\">GOAL EDM = 1e-05</td>\n",
       "        <td title=\"Error def. Amount of increase in FCN to be defined as 1 standard deviation\">\n",
       "        UP = 1.0</td>\n",
       "    </tr>\n",
       "</table>\n",
       "<table>\n",
       "    <tr>\n",
       "        <td align=\"center\" title=\"Validity of the migrad call\">Valid</td>\n",
       "        <td align=\"center\" title=\"Validity of parameters\">Valid Param</td>\n",
       "        <td align=\"center\" title=\"Is Covariance matrix accurate?\">Accurate Covar</td>\n",
       "        <td align=\"center\" title=\"Positive definiteness of covariance matrix\">PosDef</td>\n",
       "        <td align=\"center\" title=\"Was covariance matrix made posdef by adding diagonal element\">Made PosDef</td>\n",
       "    </tr>\n",
       "    <tr>\n",
       "        <td align=\"center\" style=\"background-color:#92CCA6\">True</td>\n",
       "        <td align=\"center\" style=\"background-color:#92CCA6\">True</td>\n",
       "        <td align=\"center\" style=\"background-color:#92CCA6\">True</td>\n",
       "        <td align=\"center\" style=\"background-color:#92CCA6\">True</td>\n",
       "        <td align=\"center\" style=\"background-color:#92CCA6\">False</td>\n",
       "    </tr>\n",
       "    <tr>\n",
       "        <td align=\"center\" title=\"Was last hesse call fail?\">Hesse Fail</td>\n",
       "        <td align=\"center\" title=\"Validity of covariance\">HasCov</td>\n",
       "        <td align=\"center\" title=\"Is EDM above goal EDM?\">Above EDM</td>\n",
       "        <td align=\"center\"></td>\n",
       "        <td align=\"center\" title=\"Did last migrad call reach max call limit?\">Reach calllim</td>\n",
       "    </tr>\n",
       "    <tr>\n",
       "        <td align=\"center\" style=\"background-color:#92CCA6\">False</td>\n",
       "        <td align=\"center\" style=\"background-color:#92CCA6\">True</td>\n",
       "        <td align=\"center\" style=\"background-color:#92CCA6\">False</td>\n",
       "        <td align=\"center\"></td>\n",
       "        <td align=\"center\" style=\"background-color:#92CCA6\">False</td>\n",
       "    </tr>\n",
       "</table>"
      ]
     },
     "metadata": {},
     "output_type": "display_data"
    },
    {
     "data": {
      "text/html": [
       "<table>\n",
       "    <tr>\n",
       "        <td><a href=\"#\" onclick=\"$('#DmvUtYlBBv').toggle()\">+</a></td>\n",
       "        <td title=\"Variable name\">Name</td>\n",
       "        <td title=\"Value of parameter\">Value</td>\n",
       "        <td title=\"Hesse error\">Hesse Error</td>\n",
       "        <td title=\"Minos lower error\">Minos Error-</td>\n",
       "        <td title=\"Minos upper error\">Minos Error+</td>\n",
       "        <td title=\"Lower limit of the parameter\">Limit-</td>\n",
       "        <td title=\"Upper limit of the parameter\">Limit+</td>\n",
       "        <td title=\"Is the parameter fixed in the fit\">Fixed?</td>\n",
       "    </tr>\n",
       "    <tr>\n",
       "        <td>0</td>\n",
       "        <td>log_A</td>\n",
       "        <td>-1.40365</td>\n",
       "        <td>0.101894</td>\n",
       "        <td></td>\n",
       "        <td></td>\n",
       "        <td>-3</td>\n",
       "        <td>0</td>\n",
       "        <td>No</td>\n",
       "    </tr>\n",
       "    <tr>\n",
       "        <td>1</td>\n",
       "        <td>log_f_b</td>\n",
       "        <td>-3.29969</td>\n",
       "        <td>0.0109779</td>\n",
       "        <td></td>\n",
       "        <td></td>\n",
       "        <td>-7</td>\n",
       "        <td>-2</td>\n",
       "        <td>No</td>\n",
       "    </tr>\n",
       "    <tr>\n",
       "        <td>2</td>\n",
       "        <td>alpha_H</td>\n",
       "        <td>100</td>\n",
       "        <td>90.6666</td>\n",
       "        <td></td>\n",
       "        <td></td>\n",
       "        <td>1</td>\n",
       "        <td>100</td>\n",
       "        <td>No</td>\n",
       "    </tr>\n",
       "    <tr>\n",
       "        <td>3</td>\n",
       "        <td>poisson</td>\n",
       "        <td>74.8644</td>\n",
       "        <td>2.83596</td>\n",
       "        <td></td>\n",
       "        <td></td>\n",
       "        <td>0</td>\n",
       "        <td>100</td>\n",
       "        <td>No</td>\n",
       "    </tr>\n",
       "</table>\n",
       "<pre id=\"DmvUtYlBBv\" style=\"display:none;\">\n",
       "<textarea rows=\"14\" cols=\"50\" onclick=\"this.select()\" readonly>\n",
       "\\begin{tabular}{|c|r|r|r|r|r|r|r|c|}\n",
       "\\hline\n",
       " & Name & Value & Hesse Error & Minos Error- & Minos Error+ & Limit- & Limit+ & Fixed?\\\\\n",
       "\\hline\n",
       "0 & $log_{A}$ & -1.40365 & 0.101894 &  &  & -3.0 & 0 & No\\\\\n",
       "\\hline\n",
       "1 & log $f_{b}$ & -3.29969 & 0.0109779 &  &  & -7.0 & -2 & No\\\\\n",
       "\\hline\n",
       "2 & $\\alpha_{H}$ & 100 & 90.6666 &  &  & 1.0 & 100 & No\\\\\n",
       "\\hline\n",
       "3 & poisson & 74.8644 & 2.83596 &  &  & 0.0 & 100 & No\\\\\n",
       "\\hline\n",
       "\\end{tabular}\n",
       "</textarea>\n",
       "</pre>"
      ]
     },
     "metadata": {},
     "output_type": "display_data"
    },
    {
     "data": {
      "text/html": [
       "<hr>"
      ]
     },
     "metadata": {},
     "output_type": "display_data"
    },
    {
     "name": "stdout",
     "output_type": "stream",
     "text": [
      "7870.458956781781\n"
     ]
    }
   ],
   "source": [
    "m02=Minuit(twi_minus_loglikelihood_02,log_A=math.log(0.005,10),log_f_b=math.log(1.7E-4,10),alpha_H=10,poisson=50,\n",
    "         error_log_A=0.1,error_log_f_b=0.1,error_alpha_H=0.02,error_poisson=0.02,\n",
    "         limit_log_A=(-3,0), limit_log_f_b=(-7,-2),limit_alpha_H=(1.0,100.0),limit_poisson=(0,100),\n",
    "         errordef=1)\n",
    "\n",
    "m02.migrad()\n",
    "\n",
    "pprint(m02.fval)"
   ]
  },
  {
   "cell_type": "code",
   "execution_count": 4,
   "metadata": {},
   "outputs": [
    {
     "name": "stdout",
     "output_type": "stream",
     "text": [
      "T_R = 12.507866537904874\n",
      "T_SSE = 715.9399155917444\n"
     ]
    }
   ],
   "source": [
    "perdata02 = pd.read_csv(\"perlist02_h.csv\")\n",
    "f_02 = perdata02['f']\n",
    "per_02 = perdata02['per']\n",
    "\n",
    "alpha_L = 1.0\n",
    "log_A,log_f_b,alpha_H,poisson = m02.values[0],m02.values[1],m02.values[2],m02.values[3]\n",
    "\n",
    "model_02 = []\n",
    "R_obs_02 = []\n",
    "T_SSE_obs_02 = 0\n",
    "f_length_02 = len(f_02)\n",
    "for i in range(f_length_02):\n",
    "    model_02.append(((f_02[i]**(-alpha_L))/(1+(f_02[i]/(10**log_f_b))**(alpha_H-alpha_L)))*(10**log_A)+poisson)\n",
    "    R_obs_02.append(2*per_02[i]/model_02[i])\n",
    "    T_SSE_obs_02 += (((per_02[i]-model_02[i])/model_02[i])**2)\n",
    "    \n",
    "# 两个统计量\n",
    "T_R_obs_02 = max(R_obs_02)\n",
    "print (\"T_R =\", T_R_obs_02)\n",
    "print (\"T_SSE =\", T_SSE_obs_02)"
   ]
  },
  {
   "cell_type": "code",
   "execution_count": 5,
   "metadata": {},
   "outputs": [],
   "source": [
    "# 5000条光变曲线\n",
    "\n",
    "df = 0.01/f_length_02\n",
    "N = 2*f_length_02\n",
    "counts_list=[None for i in range(5000)]\n",
    "for a in range(5000): \n",
    "    omega = []\n",
    "    POW = []\n",
    "    DFT = []\n",
    "    fr = []\n",
    "    fi = []\n",
    "    f1 = []\n",
    "    for j in range(1,N+1):\n",
    "        omega.append(j*df)\n",
    "        POW.append(((omega[-1]**(-alpha_L))/(1+(omega[-1]/(10**log_f_b))**(alpha_H-alpha_L)))*(10**log_A)+poisson)\n",
    "        DFT.append(complex(np.sqrt(POW[-1]*0.5),np.sqrt(POW[-1]*0.5)))\n",
    "        s1=np.random.normal(loc=0.0, scale=1.0, size=None)\n",
    "        s2=np.random.normal(loc=0.0, scale=1.0, size=None)\n",
    "        fr.append((DFT[-1].real)*s1)\n",
    "        fi.append((DFT[-1].imag)*s2)\n",
    "        f1.append(complex(fr[-1],fi[-1]))\n",
    "    counts = ifft(f1)\n",
    "    counts_list[a] = counts\n",
    "    \n",
    "    \n",
    "#周期图\n",
    "per_list=[None for i in range(5000)]\n",
    "TR_list=[]\n",
    "TSSE_list=[]\n",
    "n_TR = 0\n",
    "n_TSSE = 0\n",
    "\n",
    "for a in range(5000):\n",
    "    dft = fft(counts_list[a])\n",
    "    dft1 = dft[0:f_length_02]\n",
    "    per_simu = (abs(dft1)**2)\n",
    "    per_list[a] = per_simu\n",
    "    R_simu = []\n",
    "    T_SSE_simu = 0\n",
    "    for i in range(f_length_02):\n",
    "        R_simu.append(2*per_simu[i]/model_02[i])\n",
    "        T_SSE_simu += (((per_simu[i]-model_02[i])/model_02[i])**2)\n",
    "    TR_list.append(max(R_simu))\n",
    "    TSSE_list.append(T_SSE_simu)\n",
    "    if TR_list[-1]>T_R_obs_02:\n",
    "        n_TR += 1\n",
    "    if TSSE_list[-1]>T_SSE_obs_02:\n",
    "        n_TSSE += 1"
   ]
  },
  {
   "cell_type": "code",
   "execution_count": 6,
   "metadata": {},
   "outputs": [
    {
     "data": {
      "image/png": "[encoded data removed]",
      "text/plain": [
       "<Figure size 720x576 with 1 Axes>"
      ]
     },
     "metadata": {
      "needs_background": "light"
     },
     "output_type": "display_data"
    }
   ],
   "source": [
    "pc = n_TR/5000\n",
    "p_TR = (\"%.2f\" % pc)\n",
    "fig = plt.figure(figsize=(10,8))\n",
    "ax = fig.add_subplot(111)\n",
    "plt.hist(TR_list, bins=20, density=True, color=\"b\", edgecolor='k')\n",
    "plt.axvline(T_R_obs_02, color=\"r\", linewidth=2)\n",
    "plt.text(0.9, 0.9,'p=%s'%p_TR, color='red', ha='center', transform=ax.transAxes, fontsize=20)\n",
    "ax.set_xlabel(\"$T_R\\ statistic$\",fontsize=15)\n",
    "ax.set_ylabel(\"Density\",fontsize=15)\n",
    "plt.show()"
   ]
  },
  {
   "cell_type": "code",
   "execution_count": 7,
   "metadata": {},
   "outputs": [
    {
     "data": {
      "image/png": "[encoded data removed]",
      "text/plain": [
       "<Figure size 720x576 with 1 Axes>"
      ]
     },
     "metadata": {
      "needs_background": "light"
     },
     "output_type": "display_data"
    }
   ],
   "source": [
    "pc = n_TSSE/5000\n",
    "p_TSSE = (\"%.2f\" % pc)\n",
    "fig = plt.figure(figsize=(10,8))\n",
    "ax = fig.add_subplot(111)\n",
    "plt.hist(TSSE_list, bins=20, density=True, color=\"b\", edgecolor='k')\n",
    "plt.axvline(T_SSE_obs_02, color=\"r\", linewidth=2)\n",
    "plt.text(0.9, 0.9,'p=%s'%p_TSSE, color='red', ha='center', transform=ax.transAxes, fontsize=20)\n",
    "ax.set_xlabel(\"$T_{SSE}\\ statistic$\",fontsize=15)\n",
    "ax.set_ylabel(\"Density\",fontsize=15)\n",
    "plt.show()"
   ]
  },
  {
   "cell_type": "markdown",
   "metadata": {},
   "source": [
    "## 2008(1) 统计分析"
   ]
  },
  {
   "cell_type": "code",
   "execution_count": 8,
   "metadata": {},
   "outputs": [],
   "source": [
    "# 似然函数 p; D = -2 ln p\n",
    "\n",
    "def twi_minus_loglikelihood_081(log_A,log_f_b,alpha_H,poisson):\n",
    "    alpha_L = 1.0\n",
    "    \n",
    "    perdata081 = pd.read_csv(\"perlist081_h.csv\")\n",
    "    f = perdata081['f']\n",
    "    per = perdata081['per']\n",
    "            \n",
    "    model = []\n",
    "    f_length = len(f)\n",
    "    for i in range(f_length):\n",
    "        model.append(((f[i]**(-alpha_L))/(1+(f[i]/(10**log_f_b))**(alpha_H-alpha_L)))*(10**log_A)+poisson)\n",
    "     \n",
    "    \n",
    "    length = len(perdata081)\n",
    "    minus_log_p = 0\n",
    "    for i in range(length):\n",
    "        minus_log_p += (per[i]/model[i]+math.log(model[i]))\n",
    "    \n",
    "    \n",
    "    D = 2*minus_log_p\n",
    "    # print (D)\n",
    "    return D"
   ]
  },
  {
   "cell_type": "code",
   "execution_count": 9,
   "metadata": {},
   "outputs": [
    {
     "data": {
      "text/html": [
       "<hr>"
      ]
     },
     "metadata": {},
     "output_type": "display_data"
    },
    {
     "data": {
      "text/html": [
       "<table>\n",
       "    <tr>\n",
       "        <td title=\"Minimum value of function\">FCN = 8873.095538201815</td>\n",
       "        <td title=\"Total number of call to FCN so far\">TOTAL NCALL = 270</td>\n",
       "        <td title=\"Number of call in last migrad\">NCALLS = 270</td>\n",
       "    </tr>\n",
       "    <tr>\n",
       "        <td title=\"Estimated distance to minimum\">EDM = 1.3725634822725776e-06</td>\n",
       "        <td title=\"Maximum EDM definition of convergence\">GOAL EDM = 1e-05</td>\n",
       "        <td title=\"Error def. Amount of increase in FCN to be defined as 1 standard deviation\">\n",
       "        UP = 1.0</td>\n",
       "    </tr>\n",
       "</table>\n",
       "<table>\n",
       "    <tr>\n",
       "        <td align=\"center\" title=\"Validity of the migrad call\">Valid</td>\n",
       "        <td align=\"center\" title=\"Validity of parameters\">Valid Param</td>\n",
       "        <td align=\"center\" title=\"Is Covariance matrix accurate?\">Accurate Covar</td>\n",
       "        <td align=\"center\" title=\"Positive definiteness of covariance matrix\">PosDef</td>\n",
       "        <td align=\"center\" title=\"Was covariance matrix made posdef by adding diagonal element\">Made PosDef</td>\n",
       "    </tr>\n",
       "    <tr>\n",
       "        <td align=\"center\" style=\"background-color:#92CCA6\">True</td>\n",
       "        <td align=\"center\" style=\"background-color:#92CCA6\">True</td>\n",
       "        <td align=\"center\" style=\"background-color:#92CCA6\">True</td>\n",
       "        <td align=\"center\" style=\"background-color:#92CCA6\">True</td>\n",
       "        <td align=\"center\" style=\"background-color:#92CCA6\">False</td>\n",
       "    </tr>\n",
       "    <tr>\n",
       "        <td align=\"center\" title=\"Was last hesse call fail?\">Hesse Fail</td>\n",
       "        <td align=\"center\" title=\"Validity of covariance\">HasCov</td>\n",
       "        <td align=\"center\" title=\"Is EDM above goal EDM?\">Above EDM</td>\n",
       "        <td align=\"center\"></td>\n",
       "        <td align=\"center\" title=\"Did last migrad call reach max call limit?\">Reach calllim</td>\n",
       "    </tr>\n",
       "    <tr>\n",
       "        <td align=\"center\" style=\"background-color:#92CCA6\">False</td>\n",
       "        <td align=\"center\" style=\"background-color:#92CCA6\">True</td>\n",
       "        <td align=\"center\" style=\"background-color:#92CCA6\">False</td>\n",
       "        <td align=\"center\"></td>\n",
       "        <td align=\"center\" style=\"background-color:#92CCA6\">False</td>\n",
       "    </tr>\n",
       "</table>"
      ]
     },
     "metadata": {},
     "output_type": "display_data"
    },
    {
     "data": {
      "text/html": [
       "<table>\n",
       "    <tr>\n",
       "        <td><a href=\"#\" onclick=\"$('#nNgnKzGcNi').toggle()\">+</a></td>\n",
       "        <td title=\"Variable name\">Name</td>\n",
       "        <td title=\"Value of parameter\">Value</td>\n",
       "        <td title=\"Hesse error\">Hesse Error</td>\n",
       "        <td title=\"Minos lower error\">Minos Error-</td>\n",
       "        <td title=\"Minos upper error\">Minos Error+</td>\n",
       "        <td title=\"Lower limit of the parameter\">Limit-</td>\n",
       "        <td title=\"Upper limit of the parameter\">Limit+</td>\n",
       "        <td title=\"Is the parameter fixed in the fit\">Fixed?</td>\n",
       "    </tr>\n",
       "    <tr>\n",
       "        <td>0</td>\n",
       "        <td>log_A</td>\n",
       "        <td>-1</td>\n",
       "        <td>0.000257848</td>\n",
       "        <td></td>\n",
       "        <td></td>\n",
       "        <td>-3</td>\n",
       "        <td>-1</td>\n",
       "        <td>No</td>\n",
       "    </tr>\n",
       "    <tr>\n",
       "        <td>1</td>\n",
       "        <td>log_f_b</td>\n",
       "        <td>-2</td>\n",
       "        <td>0.000245765</td>\n",
       "        <td></td>\n",
       "        <td></td>\n",
       "        <td>-5</td>\n",
       "        <td>-2</td>\n",
       "        <td>No</td>\n",
       "    </tr>\n",
       "    <tr>\n",
       "        <td>2</td>\n",
       "        <td>alpha_H</td>\n",
       "        <td>5</td>\n",
       "        <td>0.0125969</td>\n",
       "        <td></td>\n",
       "        <td></td>\n",
       "        <td>1</td>\n",
       "        <td>5</td>\n",
       "        <td>No</td>\n",
       "    </tr>\n",
       "    <tr>\n",
       "        <td>3</td>\n",
       "        <td>poisson</td>\n",
       "        <td>2</td>\n",
       "        <td>0.00529517</td>\n",
       "        <td></td>\n",
       "        <td></td>\n",
       "        <td>0</td>\n",
       "        <td>2</td>\n",
       "        <td>No</td>\n",
       "    </tr>\n",
       "</table>\n",
       "<pre id=\"nNgnKzGcNi\" style=\"display:none;\">\n",
       "<textarea rows=\"14\" cols=\"50\" onclick=\"this.select()\" readonly>\n",
       "\\begin{tabular}{|c|r|r|r|r|r|r|r|c|}\n",
       "\\hline\n",
       " & Name & Value & Hesse Error & Minos Error- & Minos Error+ & Limit- & Limit+ & Fixed?\\\\\n",
       "\\hline\n",
       "0 & $log_{A}$ & -1 & 0.000257848 &  &  & -3.0 & -1 & No\\\\\n",
       "\\hline\n",
       "1 & log $f_{b}$ & -2 & 0.000245765 &  &  & -5.0 & -2 & No\\\\\n",
       "\\hline\n",
       "2 & $\\alpha_{H}$ & 5 & 0.0125969 &  &  & 1.0 & 5 & No\\\\\n",
       "\\hline\n",
       "3 & poisson & 2 & 0.00529517 &  &  & 0.0 & 2 & No\\\\\n",
       "\\hline\n",
       "\\end{tabular}\n",
       "</textarea>\n",
       "</pre>"
      ]
     },
     "metadata": {},
     "output_type": "display_data"
    },
    {
     "data": {
      "text/html": [
       "<hr>"
      ]
     },
     "metadata": {},
     "output_type": "display_data"
    },
    {
     "name": "stdout",
     "output_type": "stream",
     "text": [
      "8873.095538201815\n"
     ]
    }
   ],
   "source": [
    "m081=Minuit(twi_minus_loglikelihood_081,log_A=math.log(0.005,10),log_f_b=math.log(1.7E-4,10),alpha_H=3.8,poisson=0.8,\n",
    "         error_log_A=0.1,error_log_f_b=0.1,error_alpha_H=0.02,error_poisson=0.02,\n",
    "         limit_log_A=(-3,-1), limit_log_f_b=(-5,-2),limit_alpha_H=(1.0,5.0),limit_poisson=(0,2),\n",
    "         errordef=1)\n",
    "\n",
    "m081.migrad()\n",
    "\n",
    "pprint(m081.fval)"
   ]
  },
  {
   "cell_type": "code",
   "execution_count": 10,
   "metadata": {},
   "outputs": [
    {
     "name": "stdout",
     "output_type": "stream",
     "text": [
      "T_R = 50.26934415181013\n",
      "T_SSE = 7618.0307696425325\n"
     ]
    }
   ],
   "source": [
    "perdata081 = pd.read_csv(\"perlist081_h.csv\")\n",
    "f_081 = perdata081['f']\n",
    "per_081 = perdata081['per']\n",
    "\n",
    "alpha_L = 1.0\n",
    "log_A,log_f_b,alpha_H,poisson = m081.values[0],m081.values[1],m081.values[2],m081.values[3]\n",
    "\n",
    "model_081 = []\n",
    "R_obs_081 = []\n",
    "T_SSE_obs_081 = 0\n",
    "f_length_081 = len(f_081)\n",
    "for i in range(f_length_081):\n",
    "    model_081.append(((f_081[i]**(-alpha_L))/(1+(f_081[i]/(10**log_f_b))**(alpha_H-alpha_L)))*(10**log_A)+poisson)\n",
    "    R_obs_081.append(2*per_081[i]/model_081[i])\n",
    "    T_SSE_obs_081 += (((per_081[i]-model_081[i])/model_081[i])**2)\n",
    "    \n",
    "# 两个统计量\n",
    "T_R_obs_081 = max(R_obs_081)\n",
    "print (\"T_R =\", T_R_obs_081)\n",
    "print (\"T_SSE =\", T_SSE_obs_081)"
   ]
  },
  {
   "cell_type": "code",
   "execution_count": 11,
   "metadata": {},
   "outputs": [],
   "source": [
    "# 5000条光变曲线\n",
    "\n",
    "df = 0.01/f_length_081\n",
    "N = 2*f_length_081\n",
    "counts_list=[None for i in range(5000)]\n",
    "for a in range(5000): \n",
    "    omega = []\n",
    "    POW = []\n",
    "    DFT = []\n",
    "    fr = []\n",
    "    fi = []\n",
    "    f1 = []\n",
    "    for j in range(1,N+1):\n",
    "        omega.append(j*df)\n",
    "        POW.append(((omega[-1]**(-alpha_L))/(1+(omega[-1]/(10**log_f_b))**(alpha_H-alpha_L)))*(10**log_A)+poisson)\n",
    "        DFT.append(complex(np.sqrt(POW[-1]*0.5),np.sqrt(POW[-1]*0.5)))\n",
    "        s1=np.random.normal(loc=0.0, scale=1.0, size=None)\n",
    "        s2=np.random.normal(loc=0.0, scale=1.0, size=None)\n",
    "        fr.append((DFT[-1].real)*s1)\n",
    "        fi.append((DFT[-1].imag)*s2)\n",
    "        f1.append(complex(fr[-1],fi[-1]))\n",
    "    counts = ifft(f1)\n",
    "    counts_list[a] = counts\n",
    "    \n",
    "    \n",
    "#周期图\n",
    "per_list=[None for i in range(5000)]\n",
    "TR_list=[]\n",
    "TSSE_list=[]\n",
    "n_TR = 0\n",
    "n_TSSE = 0\n",
    "\n",
    "for a in range(5000):\n",
    "    dft = fft(counts_list[a])\n",
    "    dft1 = dft[0:f_length_081]\n",
    "    per_simu = (abs(dft1)**2)\n",
    "    per_list[a] = per_simu\n",
    "    R_simu = []\n",
    "    T_SSE_simu = 0\n",
    "    for i in range(f_length_081):\n",
    "        R_simu.append(2*per_simu[i]/model_081[i])\n",
    "        T_SSE_simu += (((per_simu[i]-model_081[i])/model_081[i])**2)\n",
    "    TR_list.append(max(R_simu))\n",
    "    TSSE_list.append(T_SSE_simu)\n",
    "    if TR_list[-1]>T_R_obs_081:\n",
    "        n_TR += 1\n",
    "    if TSSE_list[-1]>T_SSE_obs_081:\n",
    "        n_TSSE += 1"
   ]
  },
  {
   "cell_type": "code",
   "execution_count": 12,
   "metadata": {},
   "outputs": [
    {
     "data": {
      "image/png": "[encoded data removed]",
      "text/plain": [
       "<Figure size 720x576 with 1 Axes>"
      ]
     },
     "metadata": {
      "needs_background": "light"
     },
     "output_type": "display_data"
    }
   ],
   "source": [
    "pc = n_TR/5000\n",
    "p_TR = (\"%.2f\" % pc)\n",
    "fig = plt.figure(figsize=(10,8))\n",
    "ax = fig.add_subplot(111)\n",
    "plt.hist(TR_list, bins=20, density=True, color=\"b\", edgecolor='k')\n",
    "plt.axvline(T_R_obs_081, color=\"r\", linewidth=2)\n",
    "plt.text(0.9, 0.9,'p=%s'%p_TR, color='red', ha='center', transform=ax.transAxes, fontsize=20)\n",
    "ax.set_xlabel(\"$T_R\\ statistic$\",fontsize=15)\n",
    "ax.set_ylabel(\"Density\",fontsize=15)\n",
    "plt.show()"
   ]
  },
  {
   "cell_type": "code",
   "execution_count": 13,
   "metadata": {},
   "outputs": [
    {
     "data": {
      "image/png": "[encoded data removed]",
      "text/plain": [
       "<Figure size 720x576 with 1 Axes>"
      ]
     },
     "metadata": {
      "needs_background": "light"
     },
     "output_type": "display_data"
    }
   ],
   "source": [
    "pc = n_TSSE/5000\n",
    "p_TSSE = (\"%.2f\" % pc)\n",
    "fig = plt.figure(figsize=(10,8))\n",
    "ax = fig.add_subplot(111)\n",
    "plt.hist(TSSE_list, bins=20, density=True, color=\"b\", edgecolor='k')\n",
    "plt.axvline(T_SSE_obs_081, color=\"r\", linewidth=2)\n",
    "plt.text(0.9, 0.9,'p=%s'%p_TSSE, color='red', ha='center', transform=ax.transAxes, fontsize=20)\n",
    "ax.set_xlabel(\"$T_{SSE}\\ statistic$\",fontsize=15)\n",
    "ax.set_ylabel(\"Density\",fontsize=15)\n",
    "plt.show()"
   ]
  },
  {
   "cell_type": "markdown",
   "metadata": {},
   "source": [
    "## 2010(1) 统计分析"
   ]
  },
  {
   "cell_type": "code",
   "execution_count": 14,
   "metadata": {},
   "outputs": [],
   "source": [
    "# 似然函数 p; D = -2 ln p\n",
    "\n",
    "def twi_minus_loglikelihood_101(log_A,log_f_b,alpha_H,poisson):\n",
    "    alpha_L = 1.0\n",
    "    \n",
    "    perdata101 = pd.read_csv(\"perlist101_h.csv\")\n",
    "    f = perdata101['f']\n",
    "    per = perdata101['per']\n",
    "            \n",
    "    model = []\n",
    "    f_length = len(f)\n",
    "    for i in range(f_length):\n",
    "        model.append(((f[i]**(-alpha_L))/(1+(f[i]/(10**log_f_b))**(alpha_H-alpha_L)))*(10**log_A)+poisson)\n",
    "     \n",
    "    \n",
    "    length = len(perdata101)\n",
    "    minus_log_p = 0\n",
    "    for i in range(length):\n",
    "        minus_log_p += (per[i]/model[i]+math.log(model[i]))\n",
    "    \n",
    "    \n",
    "    D = 2*minus_log_p\n",
    "    # print (D)\n",
    "    return D"
   ]
  },
  {
   "cell_type": "code",
   "execution_count": 15,
   "metadata": {},
   "outputs": [
    {
     "data": {
      "text/html": [
       "<hr>"
      ]
     },
     "metadata": {},
     "output_type": "display_data"
    },
    {
     "data": {
      "text/html": [
       "<table>\n",
       "    <tr>\n",
       "        <td title=\"Minimum value of function\">FCN = 11733.93897559632</td>\n",
       "        <td title=\"Total number of call to FCN so far\">TOTAL NCALL = 275</td>\n",
       "        <td title=\"Number of call in last migrad\">NCALLS = 275</td>\n",
       "    </tr>\n",
       "    <tr>\n",
       "        <td title=\"Estimated distance to minimum\">EDM = 4.730987538991465e-06</td>\n",
       "        <td title=\"Maximum EDM definition of convergence\">GOAL EDM = 1e-05</td>\n",
       "        <td title=\"Error def. Amount of increase in FCN to be defined as 1 standard deviation\">\n",
       "        UP = 1.0</td>\n",
       "    </tr>\n",
       "</table>\n",
       "<table>\n",
       "    <tr>\n",
       "        <td align=\"center\" title=\"Validity of the migrad call\">Valid</td>\n",
       "        <td align=\"center\" title=\"Validity of parameters\">Valid Param</td>\n",
       "        <td align=\"center\" title=\"Is Covariance matrix accurate?\">Accurate Covar</td>\n",
       "        <td align=\"center\" title=\"Positive definiteness of covariance matrix\">PosDef</td>\n",
       "        <td align=\"center\" title=\"Was covariance matrix made posdef by adding diagonal element\">Made PosDef</td>\n",
       "    </tr>\n",
       "    <tr>\n",
       "        <td align=\"center\" style=\"background-color:#92CCA6\">True</td>\n",
       "        <td align=\"center\" style=\"background-color:#92CCA6\">True</td>\n",
       "        <td align=\"center\" style=\"background-color:#92CCA6\">True</td>\n",
       "        <td align=\"center\" style=\"background-color:#92CCA6\">True</td>\n",
       "        <td align=\"center\" style=\"background-color:#92CCA6\">False</td>\n",
       "    </tr>\n",
       "    <tr>\n",
       "        <td align=\"center\" title=\"Was last hesse call fail?\">Hesse Fail</td>\n",
       "        <td align=\"center\" title=\"Validity of covariance\">HasCov</td>\n",
       "        <td align=\"center\" title=\"Is EDM above goal EDM?\">Above EDM</td>\n",
       "        <td align=\"center\"></td>\n",
       "        <td align=\"center\" title=\"Did last migrad call reach max call limit?\">Reach calllim</td>\n",
       "    </tr>\n",
       "    <tr>\n",
       "        <td align=\"center\" style=\"background-color:#92CCA6\">False</td>\n",
       "        <td align=\"center\" style=\"background-color:#92CCA6\">True</td>\n",
       "        <td align=\"center\" style=\"background-color:#92CCA6\">False</td>\n",
       "        <td align=\"center\"></td>\n",
       "        <td align=\"center\" style=\"background-color:#92CCA6\">False</td>\n",
       "    </tr>\n",
       "</table>"
      ]
     },
     "metadata": {},
     "output_type": "display_data"
    },
    {
     "data": {
      "text/html": [
       "<table>\n",
       "    <tr>\n",
       "        <td><a href=\"#\" onclick=\"$('#GGndWpigJf').toggle()\">+</a></td>\n",
       "        <td title=\"Variable name\">Name</td>\n",
       "        <td title=\"Value of parameter\">Value</td>\n",
       "        <td title=\"Hesse error\">Hesse Error</td>\n",
       "        <td title=\"Minos lower error\">Minos Error-</td>\n",
       "        <td title=\"Minos upper error\">Minos Error+</td>\n",
       "        <td title=\"Lower limit of the parameter\">Limit-</td>\n",
       "        <td title=\"Upper limit of the parameter\">Limit+</td>\n",
       "        <td title=\"Is the parameter fixed in the fit\">Fixed?</td>\n",
       "    </tr>\n",
       "    <tr>\n",
       "        <td>0</td>\n",
       "        <td>log_A</td>\n",
       "        <td>-0.0481894</td>\n",
       "        <td>0.0147208</td>\n",
       "        <td></td>\n",
       "        <td></td>\n",
       "        <td>-3</td>\n",
       "        <td>0</td>\n",
       "        <td>No</td>\n",
       "    </tr>\n",
       "    <tr>\n",
       "        <td>1</td>\n",
       "        <td>log_f_b</td>\n",
       "        <td>-2.24734</td>\n",
       "        <td>2.76212</td>\n",
       "        <td></td>\n",
       "        <td></td>\n",
       "        <td>-5</td>\n",
       "        <td>-2</td>\n",
       "        <td>No</td>\n",
       "    </tr>\n",
       "    <tr>\n",
       "        <td>2</td>\n",
       "        <td>alpha_H</td>\n",
       "        <td>1</td>\n",
       "        <td>0.00231339</td>\n",
       "        <td></td>\n",
       "        <td></td>\n",
       "        <td>1</td>\n",
       "        <td>5</td>\n",
       "        <td>No</td>\n",
       "    </tr>\n",
       "    <tr>\n",
       "        <td>3</td>\n",
       "        <td>poisson</td>\n",
       "        <td>5</td>\n",
       "        <td>0.146546</td>\n",
       "        <td></td>\n",
       "        <td></td>\n",
       "        <td>0</td>\n",
       "        <td>5</td>\n",
       "        <td>No</td>\n",
       "    </tr>\n",
       "</table>\n",
       "<pre id=\"GGndWpigJf\" style=\"display:none;\">\n",
       "<textarea rows=\"14\" cols=\"50\" onclick=\"this.select()\" readonly>\n",
       "\\begin{tabular}{|c|r|r|r|r|r|r|r|c|}\n",
       "\\hline\n",
       " & Name & Value & Hesse Error & Minos Error- & Minos Error+ & Limit- & Limit+ & Fixed?\\\\\n",
       "\\hline\n",
       "0 & $log_{A}$ & -0.0481894 & 0.0147208 &  &  & -3.0 & 0 & No\\\\\n",
       "\\hline\n",
       "1 & log $f_{b}$ & -2.24734 & 2.76212 &  &  & -5.0 & -2 & No\\\\\n",
       "\\hline\n",
       "2 & $\\alpha_{H}$ & 1 & 0.00231339 &  &  & 1.0 & 5 & No\\\\\n",
       "\\hline\n",
       "3 & poisson & 5 & 0.146546 &  &  & 0.0 & 5 & No\\\\\n",
       "\\hline\n",
       "\\end{tabular}\n",
       "</textarea>\n",
       "</pre>"
      ]
     },
     "metadata": {},
     "output_type": "display_data"
    },
    {
     "data": {
      "text/html": [
       "<hr>"
      ]
     },
     "metadata": {},
     "output_type": "display_data"
    },
    {
     "name": "stdout",
     "output_type": "stream",
     "text": [
      "11733.93897559632\n"
     ]
    }
   ],
   "source": [
    "m101=Minuit(twi_minus_loglikelihood_101,log_A=math.log(0.005,10),log_f_b=math.log(1.7E-4,10),alpha_H=3.8,poisson=0.8,\n",
    "         error_log_A=0.1,error_log_f_b=0.1,error_alpha_H=0.02,error_poisson=0.02,\n",
    "         limit_log_A=(-3,0), limit_log_f_b=(-5,-2),limit_alpha_H=(1.0,5.0),limit_poisson=(0,5),\n",
    "         errordef=1)\n",
    "\n",
    "m101.migrad()\n",
    "\n",
    "pprint(m101.fval)"
   ]
  },
  {
   "cell_type": "code",
   "execution_count": 16,
   "metadata": {},
   "outputs": [
    {
     "name": "stdout",
     "output_type": "stream",
     "text": [
      "T_R = 34.06508370598787\n",
      "T_SSE = 1835.7588157887778\n"
     ]
    }
   ],
   "source": [
    "perdata101 = pd.read_csv(\"perlist101_h.csv\")\n",
    "f_101 = perdata101['f']\n",
    "per_101 = perdata101['per']\n",
    "\n",
    "alpha_L = 1.0\n",
    "log_A,log_f_b,alpha_H,poisson = m101.values[0],m101.values[1],m101.values[2],m101.values[3]\n",
    "\n",
    "model_101 = []\n",
    "R_obs_101 = []\n",
    "T_SSE_obs_101 = 0\n",
    "f_length_101 = len(f_101)\n",
    "for i in range(f_length_101):\n",
    "    model_101.append(((f_101[i]**(-alpha_L))/(1+(f_101[i]/(10**log_f_b))**(alpha_H-alpha_L)))*(10**log_A)+poisson)\n",
    "    R_obs_101.append(2*per_101[i]/model_101[i])\n",
    "    T_SSE_obs_101 += (((per_101[i]-model_101[i])/model_101[i])**2)\n",
    "    \n",
    "# 两个统计量\n",
    "T_R_obs_101 = max(R_obs_101)\n",
    "print (\"T_R =\", T_R_obs_101)\n",
    "print (\"T_SSE =\", T_SSE_obs_101)"
   ]
  },
  {
   "cell_type": "code",
   "execution_count": 17,
   "metadata": {},
   "outputs": [],
   "source": [
    "# 5000条光变曲线\n",
    "\n",
    "df = 0.01/f_length_101\n",
    "N = 2*f_length_101\n",
    "counts_list=[None for i in range(5000)]\n",
    "for a in range(5000): \n",
    "    omega = []\n",
    "    POW = []\n",
    "    DFT = []\n",
    "    fr = []\n",
    "    fi = []\n",
    "    f1 = []\n",
    "    for j in range(1,N+1):\n",
    "        omega.append(j*df)\n",
    "        POW.append(((omega[-1]**(-alpha_L))/(1+(omega[-1]/(10**log_f_b))**(alpha_H-alpha_L)))*(10**log_A)+poisson)\n",
    "        DFT.append(complex(np.sqrt(POW[-1]*0.5),np.sqrt(POW[-1]*0.5)))\n",
    "        s1=np.random.normal(loc=0.0, scale=1.0, size=None)\n",
    "        s2=np.random.normal(loc=0.0, scale=1.0, size=None)\n",
    "        fr.append((DFT[-1].real)*s1)\n",
    "        fi.append((DFT[-1].imag)*s2)\n",
    "        f1.append(complex(fr[-1],fi[-1]))\n",
    "    counts = ifft(f1)\n",
    "    counts_list[a] = counts\n",
    "    \n",
    "    \n",
    "#周期图\n",
    "per_list=[None for i in range(5000)]\n",
    "TR_list=[]\n",
    "TSSE_list=[]\n",
    "n_TR = 0\n",
    "n_TSSE = 0\n",
    "\n",
    "for a in range(5000):\n",
    "    dft = fft(counts_list[a])\n",
    "    dft1 = dft[0:f_length_101]\n",
    "    per_simu = (abs(dft1)**2)\n",
    "    per_list[a] = per_simu\n",
    "    R_simu = []\n",
    "    T_SSE_simu = 0\n",
    "    for i in range(f_length_101):\n",
    "        R_simu.append(2*per_simu[i]/model_101[i])\n",
    "        T_SSE_simu += (((per_simu[i]-model_101[i])/model_101[i])**2)\n",
    "    TR_list.append(max(R_simu))\n",
    "    TSSE_list.append(T_SSE_simu)\n",
    "    if TR_list[-1]>T_R_obs_101:\n",
    "        n_TR += 1\n",
    "    if TSSE_list[-1]>T_SSE_obs_101:\n",
    "        n_TSSE += 1"
   ]
  },
  {
   "cell_type": "code",
   "execution_count": 18,
   "metadata": {},
   "outputs": [
    {
     "data": {
      "image/png": "[encoded data removed]",
      "text/plain": [
       "<Figure size 720x576 with 1 Axes>"
      ]
     },
     "metadata": {
      "needs_background": "light"
     },
     "output_type": "display_data"
    }
   ],
   "source": [
    "pc = n_TR/5000\n",
    "p_TR = (\"%.2f\" % pc)\n",
    "fig = plt.figure(figsize=(10,8))\n",
    "ax = fig.add_subplot(111)\n",
    "plt.hist(TR_list, bins=20, density=True, color=\"b\", edgecolor='k')\n",
    "plt.axvline(T_R_obs_101, color=\"r\", linewidth=2)\n",
    "plt.text(0.9, 0.9,'p=%s'%p_TR, color='red', ha='center', transform=ax.transAxes, fontsize=20)\n",
    "ax.set_xlabel(\"$T_R\\ statistic$\",fontsize=15)\n",
    "ax.set_ylabel(\"Density\",fontsize=15)\n",
    "plt.show()"
   ]
  },
  {
   "cell_type": "code",
   "execution_count": 19,
   "metadata": {},
   "outputs": [
    {
     "data": {
      "image/png": "[encoded data removed]",
      "text/plain": [
       "<Figure size 720x576 with 1 Axes>"
      ]
     },
     "metadata": {
      "needs_background": "light"
     },
     "output_type": "display_data"
    }
   ],
   "source": [
    "pc = n_TSSE/5000\n",
    "p_TSSE = (\"%.2f\" % pc)\n",
    "fig = plt.figure(figsize=(10,8))\n",
    "ax = fig.add_subplot(111)\n",
    "plt.hist(TSSE_list, bins=20, density=True, color=\"b\", edgecolor='k')\n",
    "plt.axvline(T_SSE_obs_101, color=\"r\", linewidth=2)\n",
    "plt.text(0.9, 0.9,'p=%s'%p_TSSE, color='red', ha='center', transform=ax.transAxes, fontsize=20)\n",
    "ax.set_xlabel(\"$T_{SSE}\\ statistic$\",fontsize=15)\n",
    "ax.set_ylabel(\"Density\",fontsize=15)\n",
    "plt.show()"
   ]
  },
  {
   "cell_type": "markdown",
   "metadata": {},
   "source": [
    "## 2007(2) 统计分析"
   ]
  },
  {
   "cell_type": "code",
   "execution_count": 20,
   "metadata": {},
   "outputs": [],
   "source": [
    "# 似然函数 p; D = -2 ln p\n",
    "\n",
    "def twi_minus_loglikelihood_072(log_A,log_f_b,alpha_H,poisson):\n",
    "    alpha_L = 1.0\n",
    "    \n",
    "    perdata072 = pd.read_csv(\"perlist072_h.csv\")\n",
    "    f = perdata072['f']\n",
    "    per = perdata072['per']\n",
    "            \n",
    "    model = []\n",
    "    f_length = len(f)\n",
    "    for i in range(f_length):\n",
    "        model.append(((f[i]**(-alpha_L))/(1+(f[i]/(10**log_f_b))**(alpha_H-alpha_L)))*(10**log_A)+poisson)\n",
    "     \n",
    "    \n",
    "    length = len(perdata072)\n",
    "    minus_log_p = 0\n",
    "    for i in range(length):\n",
    "        minus_log_p += (per[i]/model[i]+math.log(model[i]))\n",
    "    \n",
    "    \n",
    "    D = 2*minus_log_p\n",
    "    # print (D)\n",
    "    return D"
   ]
  },
  {
   "cell_type": "code",
   "execution_count": 21,
   "metadata": {},
   "outputs": [
    {
     "data": {
      "text/html": [
       "<hr>"
      ]
     },
     "metadata": {},
     "output_type": "display_data"
    },
    {
     "data": {
      "text/html": [
       "<table>\n",
       "    <tr>\n",
       "        <td title=\"Minimum value of function\">FCN = 4442.574578678197</td>\n",
       "        <td title=\"Total number of call to FCN so far\">TOTAL NCALL = 203</td>\n",
       "        <td title=\"Number of call in last migrad\">NCALLS = 203</td>\n",
       "    </tr>\n",
       "    <tr>\n",
       "        <td title=\"Estimated distance to minimum\">EDM = 0.0001384038477495913</td>\n",
       "        <td title=\"Maximum EDM definition of convergence\">GOAL EDM = 1e-05</td>\n",
       "        <td title=\"Error def. Amount of increase in FCN to be defined as 1 standard deviation\">\n",
       "        UP = 1.0</td>\n",
       "    </tr>\n",
       "</table>\n",
       "<table>\n",
       "    <tr>\n",
       "        <td align=\"center\" title=\"Validity of the migrad call\">Valid</td>\n",
       "        <td align=\"center\" title=\"Validity of parameters\">Valid Param</td>\n",
       "        <td align=\"center\" title=\"Is Covariance matrix accurate?\">Accurate Covar</td>\n",
       "        <td align=\"center\" title=\"Positive definiteness of covariance matrix\">PosDef</td>\n",
       "        <td align=\"center\" title=\"Was covariance matrix made posdef by adding diagonal element\">Made PosDef</td>\n",
       "    </tr>\n",
       "    <tr>\n",
       "        <td align=\"center\" style=\"background-color:#92CCA6\">True</td>\n",
       "        <td align=\"center\" style=\"background-color:#92CCA6\">True</td>\n",
       "        <td align=\"center\" style=\"background-color:#92CCA6\">True</td>\n",
       "        <td align=\"center\" style=\"background-color:#92CCA6\">True</td>\n",
       "        <td align=\"center\" style=\"background-color:#92CCA6\">False</td>\n",
       "    </tr>\n",
       "    <tr>\n",
       "        <td align=\"center\" title=\"Was last hesse call fail?\">Hesse Fail</td>\n",
       "        <td align=\"center\" title=\"Validity of covariance\">HasCov</td>\n",
       "        <td align=\"center\" title=\"Is EDM above goal EDM?\">Above EDM</td>\n",
       "        <td align=\"center\"></td>\n",
       "        <td align=\"center\" title=\"Did last migrad call reach max call limit?\">Reach calllim</td>\n",
       "    </tr>\n",
       "    <tr>\n",
       "        <td align=\"center\" style=\"background-color:#92CCA6\">False</td>\n",
       "        <td align=\"center\" style=\"background-color:#92CCA6\">True</td>\n",
       "        <td align=\"center\" style=\"background-color:#92CCA6\">False</td>\n",
       "        <td align=\"center\"></td>\n",
       "        <td align=\"center\" style=\"background-color:#92CCA6\">False</td>\n",
       "    </tr>\n",
       "</table>"
      ]
     },
     "metadata": {},
     "output_type": "display_data"
    },
    {
     "data": {
      "text/html": [
       "<table>\n",
       "    <tr>\n",
       "        <td><a href=\"#\" onclick=\"$('#dformKmzwy').toggle()\">+</a></td>\n",
       "        <td title=\"Variable name\">Name</td>\n",
       "        <td title=\"Value of parameter\">Value</td>\n",
       "        <td title=\"Hesse error\">Hesse Error</td>\n",
       "        <td title=\"Minos lower error\">Minos Error-</td>\n",
       "        <td title=\"Minos upper error\">Minos Error+</td>\n",
       "        <td title=\"Lower limit of the parameter\">Limit-</td>\n",
       "        <td title=\"Upper limit of the parameter\">Limit+</td>\n",
       "        <td title=\"Is the parameter fixed in the fit\">Fixed?</td>\n",
       "    </tr>\n",
       "    <tr>\n",
       "        <td>0</td>\n",
       "        <td>log_A</td>\n",
       "        <td>-0.104059</td>\n",
       "        <td>0.0238224</td>\n",
       "        <td></td>\n",
       "        <td></td>\n",
       "        <td>-3</td>\n",
       "        <td>0</td>\n",
       "        <td>No</td>\n",
       "    </tr>\n",
       "    <tr>\n",
       "        <td>1</td>\n",
       "        <td>log_f_b</td>\n",
       "        <td>-2.0494</td>\n",
       "        <td>2.48809</td>\n",
       "        <td></td>\n",
       "        <td></td>\n",
       "        <td>-5</td>\n",
       "        <td>-2</td>\n",
       "        <td>No</td>\n",
       "    </tr>\n",
       "    <tr>\n",
       "        <td>2</td>\n",
       "        <td>alpha_H</td>\n",
       "        <td>1</td>\n",
       "        <td>0.00658777</td>\n",
       "        <td></td>\n",
       "        <td></td>\n",
       "        <td>1</td>\n",
       "        <td>5</td>\n",
       "        <td>No</td>\n",
       "    </tr>\n",
       "    <tr>\n",
       "        <td>3</td>\n",
       "        <td>poisson</td>\n",
       "        <td>4.99996</td>\n",
       "        <td>0.388057</td>\n",
       "        <td></td>\n",
       "        <td></td>\n",
       "        <td>0</td>\n",
       "        <td>5</td>\n",
       "        <td>No</td>\n",
       "    </tr>\n",
       "</table>\n",
       "<pre id=\"dformKmzwy\" style=\"display:none;\">\n",
       "<textarea rows=\"14\" cols=\"50\" onclick=\"this.select()\" readonly>\n",
       "\\begin{tabular}{|c|r|r|r|r|r|r|r|c|}\n",
       "\\hline\n",
       " & Name & Value & Hesse Error & Minos Error- & Minos Error+ & Limit- & Limit+ & Fixed?\\\\\n",
       "\\hline\n",
       "0 & $log_{A}$ & -0.104059 & 0.0238224 &  &  & -3.0 & 0 & No\\\\\n",
       "\\hline\n",
       "1 & log $f_{b}$ & -2.0494 & 2.48809 &  &  & -5.0 & -2 & No\\\\\n",
       "\\hline\n",
       "2 & $\\alpha_{H}$ & 1 & 0.00658777 &  &  & 1.0 & 5 & No\\\\\n",
       "\\hline\n",
       "3 & poisson & 4.99996 & 0.388057 &  &  & 0.0 & 5 & No\\\\\n",
       "\\hline\n",
       "\\end{tabular}\n",
       "</textarea>\n",
       "</pre>"
      ]
     },
     "metadata": {},
     "output_type": "display_data"
    },
    {
     "data": {
      "text/html": [
       "<hr>"
      ]
     },
     "metadata": {},
     "output_type": "display_data"
    },
    {
     "name": "stdout",
     "output_type": "stream",
     "text": [
      "4442.574578678197\n"
     ]
    }
   ],
   "source": [
    "m072=Minuit(twi_minus_loglikelihood_072,log_A=math.log(0.005,10),log_f_b=math.log(1.7E-4,10),alpha_H=3.8,poisson=0.8,\n",
    "         error_log_A=0.1,error_log_f_b=0.1,error_alpha_H=0.02,error_poisson=0.02,\n",
    "         limit_log_A=(-3,0), limit_log_f_b=(-5,-2),limit_alpha_H=(1.0,5.0),limit_poisson=(0,5),\n",
    "         errordef=1)\n",
    "\n",
    "m072.migrad()\n",
    "\n",
    "pprint(m072.fval)"
   ]
  },
  {
   "cell_type": "code",
   "execution_count": 22,
   "metadata": {},
   "outputs": [
    {
     "name": "stdout",
     "output_type": "stream",
     "text": [
      "T_R = 1.6049236803429647\n",
      "T_SSE = 347.8729224990584\n"
     ]
    }
   ],
   "source": [
    "perdata072 = pd.read_csv(\"perlist072_s.csv\")\n",
    "f_072 = perdata072['f']\n",
    "per_072 = perdata072['per']\n",
    "\n",
    "alpha_L = 1.0\n",
    "log_A,log_f_b,alpha_H,poisson = m072.values[0],m072.values[1],m072.values[2],m072.values[3]\n",
    "\n",
    "model_072 = []\n",
    "R_obs_072 = []\n",
    "T_SSE_obs_072 = 0\n",
    "f_length_072 = len(f_072)\n",
    "for i in range(f_length_072):\n",
    "    model_072.append(((f_072[i]**(-alpha_L))/(1+(f_072[i]/(10**log_f_b))**(alpha_H-alpha_L)))*(10**log_A)+poisson)\n",
    "    R_obs_072.append(2*per_072[i]/model_072[i])\n",
    "    T_SSE_obs_072 += (((per_072[i]-model_072[i])/model_072[i])**2)\n",
    "    \n",
    "# 两个统计量\n",
    "T_R_obs_072 = max(R_obs_072)\n",
    "print (\"T_R =\", T_R_obs_072)\n",
    "print (\"T_SSE =\", T_SSE_obs_072)"
   ]
  },
  {
   "cell_type": "code",
   "execution_count": 23,
   "metadata": {},
   "outputs": [],
   "source": [
    "# 5000条光变曲线\n",
    "\n",
    "df = 0.01/f_length_072\n",
    "N = 2*f_length_072\n",
    "counts_list=[None for i in range(5000)]\n",
    "for a in range(5000): \n",
    "    omega = []\n",
    "    POW = []\n",
    "    DFT = []\n",
    "    fr = []\n",
    "    fi = []\n",
    "    f1 = []\n",
    "    for j in range(1,N+1):\n",
    "        omega.append(j*df)\n",
    "        POW.append(((omega[-1]**(-alpha_L))/(1+(omega[-1]/(10**log_f_b))**(alpha_H-alpha_L)))*(10**log_A)+poisson)\n",
    "        DFT.append(complex(np.sqrt(POW[-1]*0.5),np.sqrt(POW[-1]*0.5)))\n",
    "        s1=np.random.normal(loc=0.0, scale=1.0, size=None)\n",
    "        s2=np.random.normal(loc=0.0, scale=1.0, size=None)\n",
    "        fr.append((DFT[-1].real)*s1)\n",
    "        fi.append((DFT[-1].imag)*s2)\n",
    "        f1.append(complex(fr[-1],fi[-1]))\n",
    "    counts = ifft(f1)\n",
    "    counts_list[a] = counts\n",
    "    \n",
    "    \n",
    "#周期图\n",
    "per_list=[None for i in range(5000)]\n",
    "TR_list=[]\n",
    "TSSE_list=[]\n",
    "n_TR = 0\n",
    "n_TSSE = 0\n",
    "\n",
    "for a in range(5000):\n",
    "    dft = fft(counts_list[a])\n",
    "    dft1 = dft[0:f_length_072]\n",
    "    per_simu = (abs(dft1)**2)\n",
    "    per_list[a] = per_simu\n",
    "    R_simu = []\n",
    "    T_SSE_simu = 0\n",
    "    for i in range(f_length_072):\n",
    "        R_simu.append(2*per_simu[i]/model_072[i])\n",
    "        T_SSE_simu += (((per_simu[i]-model_072[i])/model_072[i])**2)\n",
    "    TR_list.append(max(R_simu))\n",
    "    TSSE_list.append(T_SSE_simu)\n",
    "    if TR_list[-1]>T_R_obs_072:\n",
    "        n_TR += 1\n",
    "    if TSSE_list[-1]>T_SSE_obs_072:\n",
    "        n_TSSE += 1"
   ]
  },
  {
   "cell_type": "code",
   "execution_count": 24,
   "metadata": {},
   "outputs": [
    {
     "data": {
      "image/png": "[encoded data removed]",
      "text/plain": [
       "<Figure size 720x576 with 1 Axes>"
      ]
     },
     "metadata": {
      "needs_background": "light"
     },
     "output_type": "display_data"
    }
   ],
   "source": [
    "pc = n_TR/5000\n",
    "p_TR = (\"%.2f\" % pc)\n",
    "fig = plt.figure(figsize=(10,8))\n",
    "ax = fig.add_subplot(111)\n",
    "plt.hist(TR_list, bins=20, density=True, color=\"b\", edgecolor='k')\n",
    "plt.axvline(T_R_obs_072, color=\"r\", linewidth=2)\n",
    "plt.text(0.9, 0.9,'p=%s'%p_TR, color='red', ha='center', transform=ax.transAxes, fontsize=20)\n",
    "ax.set_xlabel(\"$T_R\\ statistic$\",fontsize=15)\n",
    "ax.set_ylabel(\"Density\",fontsize=15)\n",
    "plt.show()"
   ]
  },
  {
   "cell_type": "code",
   "execution_count": 25,
   "metadata": {},
   "outputs": [
    {
     "data": {
      "image/png": "[encoded data removed]",
      "text/plain": [
       "<Figure size 720x576 with 1 Axes>"
      ]
     },
     "metadata": {
      "needs_background": "light"
     },
     "output_type": "display_data"
    }
   ],
   "source": [
    "pc = n_TSSE/5000\n",
    "p_TSSE = (\"%.2f\" % pc)\n",
    "fig = plt.figure(figsize=(10,8))\n",
    "ax = fig.add_subplot(111)\n",
    "plt.hist(TSSE_list, bins=20, density=True, color=\"b\", edgecolor='k')\n",
    "plt.axvline(T_SSE_obs_072, color=\"r\", linewidth=2)\n",
    "plt.text(0.9, 0.9,'p=%s'%p_TSSE, color='red', ha='center', transform=ax.transAxes, fontsize=20)\n",
    "ax.set_xlabel(\"$T_{SSE}\\ statistic$\",fontsize=15)\n",
    "ax.set_ylabel(\"Density\",fontsize=15)\n",
    "plt.show()"
   ]
  },
  {
   "cell_type": "markdown",
   "metadata": {},
   "source": [
    "## 综合结果"
   ]
  },
  {
   "cell_type": "code",
   "execution_count": 26,
   "metadata": {},
   "outputs": [],
   "source": [
    "data02 = pd.read_csv(\"energy_1h0707_02.csv\")  \n",
    "x02 = data02['x']\n",
    "y02 = data02['y']\n",
    "xerr02 = data02['xerr']\n",
    "yerr02 = data02['yerr']\n",
    "\n",
    "data081 = pd.read_csv(\"energy_1h0707_081.csv\")  \n",
    "x081 = data081['x']\n",
    "y081 = data081['y']\n",
    "xerr081 = data081['xerr']\n",
    "yerr081 = data081['yerr']\n",
    "\n",
    "data101 = pd.read_csv(\"energy_1h0707_101.csv\")  \n",
    "x101 = data101['x']\n",
    "y101 = data101['y']\n",
    "xerr101 = data101['xerr']\n",
    "yerr101 = data101['yerr']\n",
    "\n",
    "data072 = pd.read_csv(\"energy_1h0707_072.csv\")  \n",
    "x072 = data072['x']\n",
    "y072 = data072['y']\n",
    "xerr072 = data072['xerr']\n",
    "yerr072 = data072['yerr']"
   ]
  },
  {
   "cell_type": "code",
   "execution_count": 27,
   "metadata": {},
   "outputs": [
    {
     "data": {
      "image/png": "[encoded data removed]",
      "text/plain": [
       "<Figure size 1440x1440 with 6 Axes>"
      ]
     },
     "metadata": {
      "needs_background": "light"
     },
     "output_type": "display_data"
    }
   ],
   "source": [
    "fig= plt.figure(figsize=(20,20))\n",
    "ax1 = plt.subplot(321)\n",
    "ax2 = plt.subplot(322)\n",
    "ax3 = plt.subplot(323)\n",
    "ax4 = plt.subplot(324)\n",
    "ax5 = plt.subplot(325)\n",
    "ax6 = plt.subplot(326)\n",
    "\n",
    "\n",
    "\n",
    "ax1.loglog()\n",
    "ax1.errorbar(x02, y02, yerr=yerr02, xerr=xerr02, fmt=',r', label='2002')\n",
    "ax1.errorbar(x072, y072, yerr=yerr072, xerr=xerr072, fmt=',b', alpha=0.3, label='2007')\n",
    "ax1.errorbar(x101, y101, yerr=yerr101, xerr=xerr101, fmt=',g', alpha=0.3, label='2010')\n",
    "#ax1.set_xlabel(\"Energy (keV)\",fontsize=20)\n",
    "ax1.set_ylabel(r\"$keV^2 (Photons{\\ }cm^{-2}{\\ } s^{-1}{\\ } keV^{-1})$\",fontsize=17)\n",
    "ax1.legend(fontsize=15)\n",
    "ax1.tick_params(labelsize=15)\n",
    "\n",
    "ax3.loglog()\n",
    "ax3.errorbar(x02, y02, yerr=yerr02, xerr=xerr02, fmt=',r', alpha=0.3, label='2002')\n",
    "ax3.errorbar(x072, y072, yerr=yerr072, xerr=xerr072, fmt=',b', label='2007')\n",
    "ax3.errorbar(x101, y101, yerr=yerr101, xerr=xerr101, fmt=',g', alpha=0.3, label='2010')\n",
    "#ax3.set_xlabel(\"Energy (keV)\",fontsize=20)\n",
    "ax3.set_ylabel(r\"$keV^2 (Photons{\\ }cm^{-2}{\\ } s^{-1}{\\ } keV^{-1})$\",fontsize=17)\n",
    "ax3.legend(fontsize=15)\n",
    "ax3.tick_params(labelsize=15)\n",
    "\n",
    "ax5.loglog()\n",
    "ax5.errorbar(x02, y02, yerr=yerr02, xerr=xerr02, fmt=',r', alpha=0.3, label='2002')\n",
    "ax5.errorbar(x072, y072, yerr=yerr072, xerr=xerr072, fmt=',b', alpha=0.3, label='2007')\n",
    "ax5.errorbar(x101, y101, yerr=yerr101, xerr=xerr101, fmt=',g', label='2010')\n",
    "ax5.set_xlabel(\"Energy (keV)\",fontsize=20)\n",
    "ax5.set_ylabel(r\"$keV^2 (Photons{\\ }cm^{-2}{\\ } s^{-1}{\\ } keV^{-1})$\",fontsize=17)\n",
    "ax5.legend(fontsize=15)\n",
    "ax5.tick_params(labelsize=15)\n",
    "\n",
    "\n",
    "ax2.loglog()\n",
    "ax2.step(f_02, per_02, color=\"r\", alpha=0.5, linewidth=1)\n",
    "#ax2.plot(f_02, model_02, color=\"r\", linewidth=1)\n",
    "#ax2.set_xlabel(\"frequency\",fontsize=20)\n",
    "ax2.set_ylabel(\"power\",fontsize=20)\n",
    "ax2.text(0.75,0.9,\"2-10 keV (2002)\",color='r',ha='center',transform=ax2.transAxes,fontsize=20)\n",
    "ax2.tick_params(labelsize=15)\n",
    "\n",
    "ax4.loglog()\n",
    "ax4.step(f_072, per_072, color=\"b\", alpha=0.5, linewidth=1)\n",
    "#ax4.plot(f_081, model_081, color=\"b\", linewidth=1)\n",
    "#ax4.set_xlabel(\"frequency\",fontsize=20)\n",
    "ax4.set_ylabel(\"power\",fontsize=20)\n",
    "ax4.text(0.75,-0.3,\"2-10 keV (2007)\",color='b',ha='center',transform=ax2.transAxes,fontsize=20)\n",
    "ax4.tick_params(labelsize=15)\n",
    "\n",
    "ax6.loglog()\n",
    "ax6.step(f_101, per_101, color=\"g\", alpha=0.5, linewidth=1)\n",
    "#ax6.plot(f_101, model_101, color=\"g\", linewidth=1)\n",
    "ax6.set_xlabel(\"frequency\",fontsize=20)\n",
    "ax6.set_ylabel(\"power\",fontsize=20)\n",
    "ax6.text(0.75,-1.5,\"2-10 keV (2010)\",color='g',ha='center',transform=ax2.transAxes,fontsize=20)\n",
    "ax6.tick_params(labelsize=15)\n",
    "\n",
    "plt.suptitle(\"Spectra & PSD - hard (1H0707-495)\", x=0.5, y=0.92, fontsize=30)\n",
    "plt.show()"
   ]
  },
  {
   "cell_type": "code",
   "execution_count": null,
   "metadata": {},
   "outputs": [],
   "source": []
  }
 ],
 "metadata": {
  "kernelspec": {
   "display_name": "Python 3",
   "language": "python",
   "name": "python3"
  },
  "language_info": {
   "codemirror_mode": {
    "name": "ipython",
    "version": 3
   },
   "file_extension": ".py",
   "mimetype": "text/x-python",
   "name": "python",
   "nbconvert_exporter": "python",
   "pygments_lexer": "ipython3",
   "version": "3.7.0"
  }
 },
 "nbformat": 4,
 "nbformat_minor": 2
}
