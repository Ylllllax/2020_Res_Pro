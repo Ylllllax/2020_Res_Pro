{
 "cells": [
  {
   "cell_type": "code",
   "execution_count": 1,
   "metadata": {},
   "outputs": [],
   "source": [
    "import numpy as np\n",
    "import math\n",
    "import matplotlib.pyplot as plt\n",
    "from scipy.fftpack import fft,ifft\n",
    "import pandas as pd\n",
    "from scipy.optimize import minimize\n",
    "from scipy.optimize import basinhopping\n",
    "from iminuit import Minuit\n",
    "\n",
    "import emcee\n",
    "from pprint import pprint\n",
    "import time\n",
    "from multiprocessing import Pool\n",
    "\n",
    "import random"
   ]
  },
  {
   "cell_type": "markdown",
   "metadata": {},
   "source": [
    "## 2002 统计分析"
   ]
  },
  {
   "cell_type": "code",
   "execution_count": 2,
   "metadata": {},
   "outputs": [],
   "source": [
    "# 似然函数 p; D = -2 ln p\n",
    "\n",
    "def twi_minus_loglikelihood_02(log_A,log_f_b,alpha_H,log_poisson):\n",
    "    alpha_L = 1.0\n",
    "    \n",
    "    perdata02 = pd.read_csv(\"perlist02_s.csv\")\n",
    "    f = perdata02['f']\n",
    "    per = perdata02['per']\n",
    "            \n",
    "    model = []\n",
    "    f_length = len(f)\n",
    "    for i in range(f_length):\n",
    "        model.append(((f[i]**(-alpha_L))/(1+(f[i]/(10**log_f_b))**(alpha_H-alpha_L)))*(10**log_A)+(10**log_poisson))\n",
    "     \n",
    "    \n",
    "    length = len(perdata02)\n",
    "    minus_log_p = 0\n",
    "    for i in range(length):\n",
    "        minus_log_p += (per[i]/model[i]+math.log(model[i]))\n",
    "    \n",
    "    \n",
    "    D = 2*minus_log_p\n",
    "    # print (D)\n",
    "    return D"
   ]
  },
  {
   "cell_type": "code",
   "execution_count": 3,
   "metadata": {},
   "outputs": [
    {
     "data": {
      "text/html": [
       "<hr>"
      ]
     },
     "metadata": {},
     "output_type": "display_data"
    },
    {
     "data": {
      "text/html": [
       "<table>\n",
       "    <tr>\n",
       "        <td title=\"Minimum value of function\">FCN = 3214.7020175078787</td>\n",
       "        <td title=\"Total number of call to FCN so far\">TOTAL NCALL = 415</td>\n",
       "        <td title=\"Number of call in last migrad\">NCALLS = 415</td>\n",
       "    </tr>\n",
       "    <tr>\n",
       "        <td title=\"Estimated distance to minimum\">EDM = 8.12705216436873e-06</td>\n",
       "        <td title=\"Maximum EDM definition of convergence\">GOAL EDM = 1e-05</td>\n",
       "        <td title=\"Error def. Amount of increase in FCN to be defined as 1 standard deviation\">\n",
       "        UP = 1.0</td>\n",
       "    </tr>\n",
       "</table>\n",
       "<table>\n",
       "    <tr>\n",
       "        <td align=\"center\" title=\"Validity of the migrad call\">Valid</td>\n",
       "        <td align=\"center\" title=\"Validity of parameters\">Valid Param</td>\n",
       "        <td align=\"center\" title=\"Is Covariance matrix accurate?\">Accurate Covar</td>\n",
       "        <td align=\"center\" title=\"Positive definiteness of covariance matrix\">PosDef</td>\n",
       "        <td align=\"center\" title=\"Was covariance matrix made posdef by adding diagonal element\">Made PosDef</td>\n",
       "    </tr>\n",
       "    <tr>\n",
       "        <td align=\"center\" style=\"background-color:#92CCA6\">True</td>\n",
       "        <td align=\"center\" style=\"background-color:#92CCA6\">True</td>\n",
       "        <td align=\"center\" style=\"background-color:#92CCA6\">True</td>\n",
       "        <td align=\"center\" style=\"background-color:#92CCA6\">True</td>\n",
       "        <td align=\"center\" style=\"background-color:#92CCA6\">False</td>\n",
       "    </tr>\n",
       "    <tr>\n",
       "        <td align=\"center\" title=\"Was last hesse call fail?\">Hesse Fail</td>\n",
       "        <td align=\"center\" title=\"Validity of covariance\">HasCov</td>\n",
       "        <td align=\"center\" title=\"Is EDM above goal EDM?\">Above EDM</td>\n",
       "        <td align=\"center\"></td>\n",
       "        <td align=\"center\" title=\"Did last migrad call reach max call limit?\">Reach calllim</td>\n",
       "    </tr>\n",
       "    <tr>\n",
       "        <td align=\"center\" style=\"background-color:#92CCA6\">False</td>\n",
       "        <td align=\"center\" style=\"background-color:#92CCA6\">True</td>\n",
       "        <td align=\"center\" style=\"background-color:#92CCA6\">False</td>\n",
       "        <td align=\"center\"></td>\n",
       "        <td align=\"center\" style=\"background-color:#92CCA6\">False</td>\n",
       "    </tr>\n",
       "</table>"
      ]
     },
     "metadata": {},
     "output_type": "display_data"
    },
    {
     "data": {
      "text/html": [
       "<table>\n",
       "    <tr>\n",
       "        <td><a href=\"#\" onclick=\"$('#HMKVhFfOZl').toggle()\">+</a></td>\n",
       "        <td title=\"Variable name\">Name</td>\n",
       "        <td title=\"Value of parameter\">Value</td>\n",
       "        <td title=\"Hesse error\">Hesse Error</td>\n",
       "        <td title=\"Minos lower error\">Minos Error-</td>\n",
       "        <td title=\"Minos upper error\">Minos Error+</td>\n",
       "        <td title=\"Lower limit of the parameter\">Limit-</td>\n",
       "        <td title=\"Upper limit of the parameter\">Limit+</td>\n",
       "        <td title=\"Is the parameter fixed in the fit\">Fixed?</td>\n",
       "    </tr>\n",
       "    <tr>\n",
       "        <td>0</td>\n",
       "        <td>log_A</td>\n",
       "        <td>-1.5873</td>\n",
       "        <td>0.177496</td>\n",
       "        <td></td>\n",
       "        <td></td>\n",
       "        <td>-3</td>\n",
       "        <td>-1</td>\n",
       "        <td>No</td>\n",
       "    </tr>\n",
       "    <tr>\n",
       "        <td>1</td>\n",
       "        <td>log_f_b</td>\n",
       "        <td>-3.63843</td>\n",
       "        <td>0.226468</td>\n",
       "        <td></td>\n",
       "        <td></td>\n",
       "        <td>-7</td>\n",
       "        <td>-2</td>\n",
       "        <td>No</td>\n",
       "    </tr>\n",
       "    <tr>\n",
       "        <td>2</td>\n",
       "        <td>alpha_H</td>\n",
       "        <td>2.65453</td>\n",
       "        <td>0.476155</td>\n",
       "        <td></td>\n",
       "        <td></td>\n",
       "        <td>1</td>\n",
       "        <td>5</td>\n",
       "        <td>No</td>\n",
       "    </tr>\n",
       "    <tr>\n",
       "        <td>3</td>\n",
       "        <td>poisson</td>\n",
       "        <td>2.57541</td>\n",
       "        <td>0.127694</td>\n",
       "        <td></td>\n",
       "        <td></td>\n",
       "        <td>0</td>\n",
       "        <td>5</td>\n",
       "        <td>No</td>\n",
       "    </tr>\n",
       "</table>\n",
       "<pre id=\"HMKVhFfOZl\" style=\"display:none;\">\n",
       "<textarea rows=\"14\" cols=\"50\" onclick=\"this.select()\" readonly>\n",
       "\\begin{tabular}{|c|r|r|r|r|r|r|r|c|}\n",
       "\\hline\n",
       " & Name & Value & Hesse Error & Minos Error- & Minos Error+ & Limit- & Limit+ & Fixed?\\\\\n",
       "\\hline\n",
       "0 & $log_{A}$ & -1.5873 & 0.177496 &  &  & -3.0 & -1 & No\\\\\n",
       "\\hline\n",
       "1 & log $f_{b}$ & -3.63843 & 0.226468 &  &  & -7.0 & -2 & No\\\\\n",
       "\\hline\n",
       "2 & $\\alpha_{H}$ & 2.65453 & 0.476155 &  &  & 1.0 & 5 & No\\\\\n",
       "\\hline\n",
       "3 & poisson & 2.57541 & 0.127694 &  &  & 0.0 & 5 & No\\\\\n",
       "\\hline\n",
       "\\end{tabular}\n",
       "</textarea>\n",
       "</pre>"
      ]
     },
     "metadata": {},
     "output_type": "display_data"
    },
    {
     "data": {
      "text/html": [
       "<hr>"
      ]
     },
     "metadata": {},
     "output_type": "display_data"
    },
    {
     "name": "stdout",
     "output_type": "stream",
     "text": [
      "3214.7020175078787\n"
     ]
    }
   ],
   "source": [
    "m02=Minuit(twi_minus_loglikelihood_02,log_A=math.log(0.005,10),log_f_b=math.log(1.7E-4,10),alpha_H=3.8,log_poisson=0.0,\n",
    "         error_log_A=0.1,error_log_f_b=0.1,error_alpha_H=0.02,error_log_poisson=0.1,\n",
    "         limit_log_A=(-3,-1), limit_log_f_b=(-7,-2),limit_alpha_H=(1.0,5.0),limit_log_poisson=(0,3),\n",
    "         errordef=1)\n",
    "\n",
    "m02.migrad()\n",
    "\n",
    "pprint(m02.fval)"
   ]
  },
  {
   "cell_type": "code",
   "execution_count": 4,
   "metadata": {},
   "outputs": [
    {
     "name": "stdout",
     "output_type": "stream",
     "text": [
      "T_R = 27.998941964049518\n",
      "T_SSE = 767.8039011355497\n"
     ]
    }
   ],
   "source": [
    "perdata02 = pd.read_csv(\"perlist02_s.csv\")\n",
    "f_02 = perdata02['f']\n",
    "per_02 = perdata02['per']\n",
    "\n",
    "alpha_L = 1.0\n",
    "log_A,log_f_b,alpha_H,log_poisson = m02.values[0],m02.values[1],m02.values[2],m02.values[3]\n",
    "\n",
    "model_02 = []\n",
    "R_obs_02 = []\n",
    "T_SSE_obs_02 = 0\n",
    "f_length_02 = len(f_02)\n",
    "for i in range(f_length_02):\n",
    "    model_02.append(((f_02[i]**(-alpha_L))/(1+(f_02[i]/(10**log_f_b))**(alpha_H-alpha_L)))*(10**log_A)+(10**log_poisson))\n",
    "    R_obs_02.append(2*per_02[i]/model_02[i])\n",
    "    T_SSE_obs_02 += (((per_02[i]-model_02[i])/model_02[i])**2)\n",
    "\n",
    "# 两个统计量\n",
    "T_R_obs_02 = max(R_obs_02)\n",
    "print (\"T_R =\", T_R_obs_02)\n",
    "print (\"T_SSE =\", T_SSE_obs_02)"
   ]
  },
  {
   "cell_type": "code",
   "execution_count": 5,
   "metadata": {},
   "outputs": [],
   "source": [
    "# 5000条光变曲线\n",
    "\n",
    "df = 0.01/f_length_02\n",
    "N = 2*f_length_02\n",
    "counts_list=[None for i in range(5000)]\n",
    "for a in range(5000): \n",
    "    omega = []\n",
    "    POW = []\n",
    "    DFT = []\n",
    "    fr = []\n",
    "    fi = []\n",
    "    f1 = []\n",
    "    for j in range(1,N+1):\n",
    "        omega.append(j*df)\n",
    "        POW.append(((omega[-1]**(-alpha_L))/(1+(omega[-1]/(10**log_f_b))**(alpha_H-alpha_L)))*(10**log_A)+(10**log_poisson))\n",
    "        DFT.append(complex(np.sqrt(POW[-1]*0.5),np.sqrt(POW[-1]*0.5)))\n",
    "        s1=np.random.normal(loc=0.0, scale=1.0, size=None)\n",
    "        s2=np.random.normal(loc=0.0, scale=1.0, size=None)\n",
    "        fr.append((DFT[-1].real)*s1)\n",
    "        fi.append((DFT[-1].imag)*s2)\n",
    "        f1.append(complex(fr[-1],fi[-1]))\n",
    "    counts = ifft(f1)\n",
    "    counts_list[a] = counts\n",
    "    \n",
    "    \n",
    "#周期图\n",
    "per_list=[None for i in range(5000)]\n",
    "TR_list=[]\n",
    "TSSE_list=[]\n",
    "n_TR = 0\n",
    "n_TSSE = 0\n",
    "\n",
    "for a in range(5000):\n",
    "    dft = fft(counts_list[a])\n",
    "    dft1 = dft[0:f_length_02]\n",
    "    per_simu = (abs(dft1)**2)\n",
    "    per_list[a] = per_simu\n",
    "    R_simu = []\n",
    "    T_SSE_simu = 0\n",
    "    for i in range(f_length_02):\n",
    "        R_simu.append(2*per_simu[i]/model_02[i])\n",
    "        T_SSE_simu += (((per_simu[i]-model_02[i])/model_02[i])**2)\n",
    "    TR_list.append(max(R_simu))\n",
    "    TSSE_list.append(T_SSE_simu)\n",
    "    if TR_list[-1]>T_R_obs_02:\n",
    "        n_TR += 1\n",
    "    if TSSE_list[-1]>T_SSE_obs_02:\n",
    "        n_TSSE += 1"
   ]
  },
  {
   "cell_type": "code",
   "execution_count": 6,
   "metadata": {},
   "outputs": [
    {
     "data": {
      "image/png": "[encoded data removed]",
      "text/plain": [
       "<Figure size 720x576 with 1 Axes>"
      ]
     },
     "metadata": {
      "needs_background": "light"
     },
     "output_type": "display_data"
    }
   ],
   "source": [
    "pc = n_TR/5000\n",
    "p_TR = (\"%.2f\" % pc)\n",
    "fig = plt.figure(figsize=(10,8))\n",
    "ax = fig.add_subplot(111)\n",
    "plt.hist(TR_list, bins=20, density=True, color=\"b\", edgecolor='k')\n",
    "plt.axvline(T_R_obs_02, color=\"r\", linewidth=2)\n",
    "plt.text(0.9, 0.9,'p=%s'%p_TR, color='red', ha='center', transform=ax.transAxes, fontsize=20)\n",
    "ax.set_xlabel(\"$T_R\\ statistic$\",fontsize=15)\n",
    "ax.set_ylabel(\"Density\",fontsize=15)\n",
    "plt.show()"
   ]
  },
  {
   "cell_type": "code",
   "execution_count": 7,
   "metadata": {},
   "outputs": [
    {
     "data": {
      "image/png": "[encoded data removed]",
      "text/plain": [
       "<Figure size 720x576 with 1 Axes>"
      ]
     },
     "metadata": {
      "needs_background": "light"
     },
     "output_type": "display_data"
    }
   ],
   "source": [
    "pc = n_TSSE/5000\n",
    "p_TSSE = (\"%.2f\" % pc)\n",
    "fig = plt.figure(figsize=(10,8))\n",
    "ax = fig.add_subplot(111)\n",
    "plt.hist(TSSE_list, bins=20, density=True, color=\"b\", edgecolor='k')\n",
    "plt.axvline(T_SSE_obs_02, color=\"r\", linewidth=2)\n",
    "plt.text(0.9, 0.9,'p=%s'%p_TSSE, color='red', ha='center', transform=ax.transAxes, fontsize=20)\n",
    "ax.set_xlabel(\"$T_{SSE}\\ statistic$\",fontsize=15)\n",
    "ax.set_ylabel(\"Density\",fontsize=15)\n",
    "plt.show()"
   ]
  },
  {
   "cell_type": "markdown",
   "metadata": {},
   "source": [
    "## 2010(1) 统计分析"
   ]
  },
  {
   "cell_type": "code",
   "execution_count": 8,
   "metadata": {},
   "outputs": [],
   "source": [
    "# 似然函数 p; D = -2 ln p\n",
    "\n",
    "def twi_minus_loglikelihood_101(log_A,log_f_b,alpha_H,log_poisson):\n",
    "    alpha_L = 1.0\n",
    "    \n",
    "    perdata101 = pd.read_csv(\"perlist101_s.csv\")\n",
    "    f = perdata101['f']\n",
    "    per = perdata101['per']\n",
    "            \n",
    "    model = []\n",
    "    f_length = len(f)\n",
    "    for i in range(f_length):\n",
    "        model.append(((f[i]**(-alpha_L))/(1+(f[i]/(10**log_f_b))**(alpha_H-alpha_L)))*(10**log_A)+(10**log_poisson))\n",
    "     \n",
    "    \n",
    "    length = len(perdata101)\n",
    "    minus_log_p = 0\n",
    "    for i in range(length):\n",
    "        minus_log_p += (per[i]/model[i]+math.log(model[i]))\n",
    "    \n",
    "    \n",
    "    D = 2*minus_log_p\n",
    "    # print (D)\n",
    "    return D"
   ]
  },
  {
   "cell_type": "code",
   "execution_count": 9,
   "metadata": {},
   "outputs": [
    {
     "data": {
      "text/html": [
       "<hr>"
      ]
     },
     "metadata": {},
     "output_type": "display_data"
    },
    {
     "data": {
      "text/html": [
       "<table>\n",
       "    <tr>\n",
       "        <td title=\"Minimum value of function\">FCN = 4341.438041706932</td>\n",
       "        <td title=\"Total number of call to FCN so far\">TOTAL NCALL = 445</td>\n",
       "        <td title=\"Number of call in last migrad\">NCALLS = 445</td>\n",
       "    </tr>\n",
       "    <tr>\n",
       "        <td title=\"Estimated distance to minimum\">EDM = 5.157836451727809e-06</td>\n",
       "        <td title=\"Maximum EDM definition of convergence\">GOAL EDM = 1e-05</td>\n",
       "        <td title=\"Error def. Amount of increase in FCN to be defined as 1 standard deviation\">\n",
       "        UP = 1.0</td>\n",
       "    </tr>\n",
       "</table>\n",
       "<table>\n",
       "    <tr>\n",
       "        <td align=\"center\" title=\"Validity of the migrad call\">Valid</td>\n",
       "        <td align=\"center\" title=\"Validity of parameters\">Valid Param</td>\n",
       "        <td align=\"center\" title=\"Is Covariance matrix accurate?\">Accurate Covar</td>\n",
       "        <td align=\"center\" title=\"Positive definiteness of covariance matrix\">PosDef</td>\n",
       "        <td align=\"center\" title=\"Was covariance matrix made posdef by adding diagonal element\">Made PosDef</td>\n",
       "    </tr>\n",
       "    <tr>\n",
       "        <td align=\"center\" style=\"background-color:#92CCA6\">True</td>\n",
       "        <td align=\"center\" style=\"background-color:#92CCA6\">True</td>\n",
       "        <td align=\"center\" style=\"background-color:#92CCA6\">True</td>\n",
       "        <td align=\"center\" style=\"background-color:#92CCA6\">True</td>\n",
       "        <td align=\"center\" style=\"background-color:#92CCA6\">False</td>\n",
       "    </tr>\n",
       "    <tr>\n",
       "        <td align=\"center\" title=\"Was last hesse call fail?\">Hesse Fail</td>\n",
       "        <td align=\"center\" title=\"Validity of covariance\">HasCov</td>\n",
       "        <td align=\"center\" title=\"Is EDM above goal EDM?\">Above EDM</td>\n",
       "        <td align=\"center\"></td>\n",
       "        <td align=\"center\" title=\"Did last migrad call reach max call limit?\">Reach calllim</td>\n",
       "    </tr>\n",
       "    <tr>\n",
       "        <td align=\"center\" style=\"background-color:#92CCA6\">False</td>\n",
       "        <td align=\"center\" style=\"background-color:#92CCA6\">True</td>\n",
       "        <td align=\"center\" style=\"background-color:#92CCA6\">False</td>\n",
       "        <td align=\"center\"></td>\n",
       "        <td align=\"center\" style=\"background-color:#92CCA6\">False</td>\n",
       "    </tr>\n",
       "</table>"
      ]
     },
     "metadata": {},
     "output_type": "display_data"
    },
    {
     "data": {
      "text/html": [
       "<table>\n",
       "    <tr>\n",
       "        <td><a href=\"#\" onclick=\"$('#iTZWjxstje').toggle()\">+</a></td>\n",
       "        <td title=\"Variable name\">Name</td>\n",
       "        <td title=\"Value of parameter\">Value</td>\n",
       "        <td title=\"Hesse error\">Hesse Error</td>\n",
       "        <td title=\"Minos lower error\">Minos Error-</td>\n",
       "        <td title=\"Minos upper error\">Minos Error+</td>\n",
       "        <td title=\"Lower limit of the parameter\">Limit-</td>\n",
       "        <td title=\"Upper limit of the parameter\">Limit+</td>\n",
       "        <td title=\"Is the parameter fixed in the fit\">Fixed?</td>\n",
       "    </tr>\n",
       "    <tr>\n",
       "        <td>0</td>\n",
       "        <td>log_A</td>\n",
       "        <td>-1.07044</td>\n",
       "        <td>0.194175</td>\n",
       "        <td></td>\n",
       "        <td></td>\n",
       "        <td>-3</td>\n",
       "        <td>0</td>\n",
       "        <td>No</td>\n",
       "    </tr>\n",
       "    <tr>\n",
       "        <td>1</td>\n",
       "        <td>log_f_b</td>\n",
       "        <td>-3.92451</td>\n",
       "        <td>0.219184</td>\n",
       "        <td></td>\n",
       "        <td></td>\n",
       "        <td>-5</td>\n",
       "        <td>-2</td>\n",
       "        <td>No</td>\n",
       "    </tr>\n",
       "    <tr>\n",
       "        <td>2</td>\n",
       "        <td>alpha_H</td>\n",
       "        <td>2.60276</td>\n",
       "        <td>0.285884</td>\n",
       "        <td></td>\n",
       "        <td></td>\n",
       "        <td>1</td>\n",
       "        <td>5</td>\n",
       "        <td>No</td>\n",
       "    </tr>\n",
       "    <tr>\n",
       "        <td>3</td>\n",
       "        <td>poisson</td>\n",
       "        <td>2.34979</td>\n",
       "        <td>0.104247</td>\n",
       "        <td></td>\n",
       "        <td></td>\n",
       "        <td>0</td>\n",
       "        <td>5</td>\n",
       "        <td>No</td>\n",
       "    </tr>\n",
       "</table>\n",
       "<pre id=\"iTZWjxstje\" style=\"display:none;\">\n",
       "<textarea rows=\"14\" cols=\"50\" onclick=\"this.select()\" readonly>\n",
       "\\begin{tabular}{|c|r|r|r|r|r|r|r|c|}\n",
       "\\hline\n",
       " & Name & Value & Hesse Error & Minos Error- & Minos Error+ & Limit- & Limit+ & Fixed?\\\\\n",
       "\\hline\n",
       "0 & $log_{A}$ & -1.07044 & 0.194175 &  &  & -3.0 & 0 & No\\\\\n",
       "\\hline\n",
       "1 & log $f_{b}$ & -3.92451 & 0.219184 &  &  & -5.0 & -2 & No\\\\\n",
       "\\hline\n",
       "2 & $\\alpha_{H}$ & 2.60276 & 0.285884 &  &  & 1.0 & 5 & No\\\\\n",
       "\\hline\n",
       "3 & poisson & 2.34979 & 0.104247 &  &  & 0.0 & 5 & No\\\\\n",
       "\\hline\n",
       "\\end{tabular}\n",
       "</textarea>\n",
       "</pre>"
      ]
     },
     "metadata": {},
     "output_type": "display_data"
    },
    {
     "data": {
      "text/html": [
       "<hr>"
      ]
     },
     "metadata": {},
     "output_type": "display_data"
    },
    {
     "name": "stdout",
     "output_type": "stream",
     "text": [
      "4341.438041706932\n"
     ]
    }
   ],
   "source": [
    "m101=Minuit(twi_minus_loglikelihood_101,log_A=math.log(0.005,10),log_f_b=math.log(1.7E-4,10),alpha_H=3.8,log_poisson=0.0,\n",
    "         error_log_A=0.1,error_log_f_b=0.1,error_alpha_H=0.02,error_log_poisson=0.1,\n",
    "         limit_log_A=(-3,0), limit_log_f_b=(-5,-2),limit_alpha_H=(1.0,5.0),limit_log_poisson=(0,3),\n",
    "         errordef=1)\n",
    "\n",
    "m101.migrad()\n",
    "\n",
    "pprint(m101.fval)"
   ]
  },
  {
   "cell_type": "code",
   "execution_count": 10,
   "metadata": {},
   "outputs": [
    {
     "name": "stdout",
     "output_type": "stream",
     "text": [
      "T_R = 20.852675749321904\n",
      "T_SSE = 1093.2520426304668\n"
     ]
    }
   ],
   "source": [
    "perdata101 = pd.read_csv(\"perlist101_s.csv\")\n",
    "f_101 = perdata101['f']\n",
    "per_101 = perdata101['per']\n",
    "\n",
    "alpha_L = 1.0\n",
    "log_A,log_f_b,alpha_H,log_poisson = m101.values[0],m101.values[1],m101.values[2],m101.values[3]\n",
    "\n",
    "model_101 = []\n",
    "R_obs_101 = []\n",
    "T_SSE_obs_101 = 0\n",
    "f_length_101 = len(f_101)\n",
    "for i in range(f_length_101):\n",
    "    model_101.append(((f_101[i]**(-alpha_L))/(1+(f_101[i]/(10**log_f_b))**(alpha_H-alpha_L)))*(10**log_A)+(10**log_poisson))\n",
    "    R_obs_101.append(2*per_101[i]/model_101[i])\n",
    "    T_SSE_obs_101 += (((per_101[i]-model_101[i])/model_101[i])**2)\n",
    "    \n",
    "# 两个统计量\n",
    "T_R_obs_101 = max(R_obs_101)\n",
    "print (\"T_R =\", T_R_obs_101)\n",
    "print (\"T_SSE =\", T_SSE_obs_101)"
   ]
  },
  {
   "cell_type": "code",
   "execution_count": 11,
   "metadata": {},
   "outputs": [],
   "source": [
    "# 5000条光变曲线\n",
    "\n",
    "df = 0.01/f_length_101\n",
    "N = 2*f_length_101\n",
    "counts_list=[None for i in range(5000)]\n",
    "for a in range(5000): \n",
    "    omega = []\n",
    "    POW = []\n",
    "    DFT = []\n",
    "    fr = []\n",
    "    fi = []\n",
    "    f1 = []\n",
    "    for j in range(1,N+1):\n",
    "        omega.append(j*df)\n",
    "        POW.append(((omega[-1]**(-alpha_L))/(1+(omega[-1]/(10**log_f_b))**(alpha_H-alpha_L)))*(10**log_A)+(10**log_poisson))\n",
    "        DFT.append(complex(np.sqrt(POW[-1]*0.5),np.sqrt(POW[-1]*0.5)))\n",
    "        s1=np.random.normal(loc=0.0, scale=1.0, size=None)\n",
    "        s2=np.random.normal(loc=0.0, scale=1.0, size=None)\n",
    "        fr.append((DFT[-1].real)*s1)\n",
    "        fi.append((DFT[-1].imag)*s2)\n",
    "        f1.append(complex(fr[-1],fi[-1]))\n",
    "    counts = ifft(f1)\n",
    "    counts_list[a] = counts\n",
    "    \n",
    "    \n",
    "#周期图\n",
    "per_list=[None for i in range(5000)]\n",
    "TR_list=[]\n",
    "TSSE_list=[]\n",
    "n_TR = 0\n",
    "n_TSSE = 0\n",
    "\n",
    "for a in range(5000):\n",
    "    dft = fft(counts_list[a])\n",
    "    dft1 = dft[0:f_length_101]\n",
    "    per_simu = (abs(dft1)**2)\n",
    "    per_list[a] = per_simu\n",
    "    R_simu = []\n",
    "    T_SSE_simu = 0\n",
    "    for i in range(f_length_101):\n",
    "        R_simu.append(2*per_simu[i]/model_101[i])\n",
    "        T_SSE_simu += (((per_simu[i]-model_101[i])/model_101[i])**2)\n",
    "    TR_list.append(max(R_simu))\n",
    "    TSSE_list.append(T_SSE_simu)\n",
    "    if TR_list[-1]>T_R_obs_101:\n",
    "        n_TR += 1\n",
    "    if TSSE_list[-1]>T_SSE_obs_101:\n",
    "        n_TSSE += 1"
   ]
  },
  {
   "cell_type": "code",
   "execution_count": 12,
   "metadata": {},
   "outputs": [
    {
     "data": {
      "image/png": "[encoded data removed]",
      "text/plain": [
       "<Figure size 720x576 with 1 Axes>"
      ]
     },
     "metadata": {
      "needs_background": "light"
     },
     "output_type": "display_data"
    }
   ],
   "source": [
    "pc = n_TR/5000\n",
    "p_TR = (\"%.2f\" % pc)\n",
    "fig = plt.figure(figsize=(10,8))\n",
    "ax = fig.add_subplot(111)\n",
    "plt.hist(TR_list, bins=20, density=True, color=\"b\", edgecolor='k')\n",
    "plt.axvline(T_R_obs_101, color=\"r\", linewidth=2)\n",
    "plt.text(0.9, 0.9,'p=%s'%p_TR, color='red', ha='center', transform=ax.transAxes, fontsize=20)\n",
    "ax.set_xlabel(\"$T_R\\ statistic$\",fontsize=15)\n",
    "ax.set_ylabel(\"Density\",fontsize=15)\n",
    "plt.show()"
   ]
  },
  {
   "cell_type": "code",
   "execution_count": 13,
   "metadata": {},
   "outputs": [
    {
     "data": {
      "image/png": "[encoded data removed]",
      "text/plain": [
       "<Figure size 720x576 with 1 Axes>"
      ]
     },
     "metadata": {
      "needs_background": "light"
     },
     "output_type": "display_data"
    }
   ],
   "source": [
    "pc = n_TSSE/5000\n",
    "p_TSSE = (\"%.2f\" % pc)\n",
    "fig = plt.figure(figsize=(10,8))\n",
    "ax = fig.add_subplot(111)\n",
    "plt.hist(TSSE_list, bins=20, density=True, color=\"b\", edgecolor='k')\n",
    "plt.axvline(T_SSE_obs_101, color=\"r\", linewidth=2)\n",
    "plt.text(0.9, 0.9,'p=%s'%p_TSSE, color='red', ha='center', transform=ax.transAxes, fontsize=20)\n",
    "ax.set_xlabel(\"$T_{SSE}\\ statistic$\",fontsize=15)\n",
    "ax.set_ylabel(\"Density\",fontsize=15)\n",
    "plt.show()"
   ]
  },
  {
   "cell_type": "markdown",
   "metadata": {},
   "source": [
    "## 2007(2) 统计分析"
   ]
  },
  {
   "cell_type": "code",
   "execution_count": 14,
   "metadata": {},
   "outputs": [],
   "source": [
    "# 似然函数 p; D = -2 ln p\n",
    "\n",
    "def twi_minus_loglikelihood_072(log_A,log_f_b,alpha_H,log_poisson):\n",
    "    alpha_L = 1.0\n",
    "    \n",
    "    perdata072 = pd.read_csv(\"perlist072_s.csv\")\n",
    "    f = perdata072['f']\n",
    "    per = perdata072['per']\n",
    "            \n",
    "    model = []\n",
    "    f_length = len(f)\n",
    "    for i in range(f_length):\n",
    "        model.append(((f[i]**(-alpha_L))/(1+(f[i]/(10**log_f_b))**(alpha_H-alpha_L)))*(10**log_A)+(10**log_poisson))\n",
    "     \n",
    "    \n",
    "    length = len(perdata072)\n",
    "    minus_log_p = 0\n",
    "    for i in range(length):\n",
    "        minus_log_p += (per[i]/model[i]+math.log(model[i]))\n",
    "    \n",
    "    \n",
    "    D = 2*minus_log_p\n",
    "    # print (D)\n",
    "    return D"
   ]
  },
  {
   "cell_type": "code",
   "execution_count": 15,
   "metadata": {},
   "outputs": [
    {
     "data": {
      "text/html": [
       "<hr>"
      ]
     },
     "metadata": {},
     "output_type": "display_data"
    },
    {
     "data": {
      "text/html": [
       "<table>\n",
       "    <tr>\n",
       "        <td title=\"Minimum value of function\">FCN = 2066.337254667657</td>\n",
       "        <td title=\"Total number of call to FCN so far\">TOTAL NCALL = 337</td>\n",
       "        <td title=\"Number of call in last migrad\">NCALLS = 337</td>\n",
       "    </tr>\n",
       "    <tr>\n",
       "        <td title=\"Estimated distance to minimum\">EDM = 1.0408703449696677e-05</td>\n",
       "        <td title=\"Maximum EDM definition of convergence\">GOAL EDM = 1e-05</td>\n",
       "        <td title=\"Error def. Amount of increase in FCN to be defined as 1 standard deviation\">\n",
       "        UP = 1.0</td>\n",
       "    </tr>\n",
       "</table>\n",
       "<table>\n",
       "    <tr>\n",
       "        <td align=\"center\" title=\"Validity of the migrad call\">Valid</td>\n",
       "        <td align=\"center\" title=\"Validity of parameters\">Valid Param</td>\n",
       "        <td align=\"center\" title=\"Is Covariance matrix accurate?\">Accurate Covar</td>\n",
       "        <td align=\"center\" title=\"Positive definiteness of covariance matrix\">PosDef</td>\n",
       "        <td align=\"center\" title=\"Was covariance matrix made posdef by adding diagonal element\">Made PosDef</td>\n",
       "    </tr>\n",
       "    <tr>\n",
       "        <td align=\"center\" style=\"background-color:#92CCA6\">True</td>\n",
       "        <td align=\"center\" style=\"background-color:#92CCA6\">True</td>\n",
       "        <td align=\"center\" style=\"background-color:#92CCA6\">True</td>\n",
       "        <td align=\"center\" style=\"background-color:#92CCA6\">True</td>\n",
       "        <td align=\"center\" style=\"background-color:#92CCA6\">False</td>\n",
       "    </tr>\n",
       "    <tr>\n",
       "        <td align=\"center\" title=\"Was last hesse call fail?\">Hesse Fail</td>\n",
       "        <td align=\"center\" title=\"Validity of covariance\">HasCov</td>\n",
       "        <td align=\"center\" title=\"Is EDM above goal EDM?\">Above EDM</td>\n",
       "        <td align=\"center\"></td>\n",
       "        <td align=\"center\" title=\"Did last migrad call reach max call limit?\">Reach calllim</td>\n",
       "    </tr>\n",
       "    <tr>\n",
       "        <td align=\"center\" style=\"background-color:#92CCA6\">False</td>\n",
       "        <td align=\"center\" style=\"background-color:#92CCA6\">True</td>\n",
       "        <td align=\"center\" style=\"background-color:#92CCA6\">False</td>\n",
       "        <td align=\"center\"></td>\n",
       "        <td align=\"center\" style=\"background-color:#92CCA6\">False</td>\n",
       "    </tr>\n",
       "</table>"
      ]
     },
     "metadata": {},
     "output_type": "display_data"
    },
    {
     "data": {
      "text/html": [
       "<table>\n",
       "    <tr>\n",
       "        <td><a href=\"#\" onclick=\"$('#wKzVUZkSzZ').toggle()\">+</a></td>\n",
       "        <td title=\"Variable name\">Name</td>\n",
       "        <td title=\"Value of parameter\">Value</td>\n",
       "        <td title=\"Hesse error\">Hesse Error</td>\n",
       "        <td title=\"Minos lower error\">Minos Error-</td>\n",
       "        <td title=\"Minos upper error\">Minos Error+</td>\n",
       "        <td title=\"Lower limit of the parameter\">Limit-</td>\n",
       "        <td title=\"Upper limit of the parameter\">Limit+</td>\n",
       "        <td title=\"Is the parameter fixed in the fit\">Fixed?</td>\n",
       "    </tr>\n",
       "    <tr>\n",
       "        <td>0</td>\n",
       "        <td>log_A</td>\n",
       "        <td>-0.886146</td>\n",
       "        <td>0.270705</td>\n",
       "        <td></td>\n",
       "        <td></td>\n",
       "        <td>-3</td>\n",
       "        <td>0</td>\n",
       "        <td>No</td>\n",
       "    </tr>\n",
       "    <tr>\n",
       "        <td>1</td>\n",
       "        <td>log_f_b</td>\n",
       "        <td>-3.74142</td>\n",
       "        <td>0.290546</td>\n",
       "        <td></td>\n",
       "        <td></td>\n",
       "        <td>-5</td>\n",
       "        <td>-2</td>\n",
       "        <td>No</td>\n",
       "    </tr>\n",
       "    <tr>\n",
       "        <td>2</td>\n",
       "        <td>alpha_H</td>\n",
       "        <td>2.93358</td>\n",
       "        <td>0.575775</td>\n",
       "        <td></td>\n",
       "        <td></td>\n",
       "        <td>1</td>\n",
       "        <td>5</td>\n",
       "        <td>No</td>\n",
       "    </tr>\n",
       "    <tr>\n",
       "        <td>3</td>\n",
       "        <td>poisson</td>\n",
       "        <td>3.88198</td>\n",
       "        <td>0.248174</td>\n",
       "        <td></td>\n",
       "        <td></td>\n",
       "        <td>0</td>\n",
       "        <td>5</td>\n",
       "        <td>No</td>\n",
       "    </tr>\n",
       "</table>\n",
       "<pre id=\"wKzVUZkSzZ\" style=\"display:none;\">\n",
       "<textarea rows=\"14\" cols=\"50\" onclick=\"this.select()\" readonly>\n",
       "\\begin{tabular}{|c|r|r|r|r|r|r|r|c|}\n",
       "\\hline\n",
       " & Name & Value & Hesse Error & Minos Error- & Minos Error+ & Limit- & Limit+ & Fixed?\\\\\n",
       "\\hline\n",
       "0 & $log_{A}$ & -0.886146 & 0.270705 &  &  & -3.0 & 0 & No\\\\\n",
       "\\hline\n",
       "1 & log $f_{b}$ & -3.74142 & 0.290546 &  &  & -5.0 & -2 & No\\\\\n",
       "\\hline\n",
       "2 & $\\alpha_{H}$ & 2.93358 & 0.575775 &  &  & 1.0 & 5 & No\\\\\n",
       "\\hline\n",
       "3 & poisson & 3.88198 & 0.248174 &  &  & 0.0 & 5 & No\\\\\n",
       "\\hline\n",
       "\\end{tabular}\n",
       "</textarea>\n",
       "</pre>"
      ]
     },
     "metadata": {},
     "output_type": "display_data"
    },
    {
     "data": {
      "text/html": [
       "<hr>"
      ]
     },
     "metadata": {},
     "output_type": "display_data"
    },
    {
     "name": "stdout",
     "output_type": "stream",
     "text": [
      "2066.337254667657\n"
     ]
    }
   ],
   "source": [
    "m072=Minuit(twi_minus_loglikelihood_072,log_A=math.log(0.005,10),log_f_b=math.log(1.7E-4,10),alpha_H=3.8,log_poisson=0.0,\n",
    "         error_log_A=0.1,error_log_f_b=0.1,error_alpha_H=0.02,error_log_poisson=0.1,\n",
    "         limit_log_A=(-3,0), limit_log_f_b=(-5,-2),limit_alpha_H=(1.0,5.0),limit_log_poisson=(0,3),\n",
    "         errordef=1)\n",
    "\n",
    "m072.migrad()\n",
    "\n",
    "pprint(m072.fval)"
   ]
  },
  {
   "cell_type": "code",
   "execution_count": 16,
   "metadata": {},
   "outputs": [
    {
     "name": "stdout",
     "output_type": "stream",
     "text": [
      "T_R = 10.029627820257598\n",
      "T_SSE = 346.6831492023602\n"
     ]
    }
   ],
   "source": [
    "perdata072 = pd.read_csv(\"perlist072_s.csv\")\n",
    "f_072 = perdata072['f']\n",
    "per_072 = perdata072['per']\n",
    "\n",
    "alpha_L = 1.0\n",
    "log_A,log_f_b,alpha_H,log_poisson = m072.values[0],m072.values[1],m072.values[2],m072.values[3]\n",
    "\n",
    "model_072 = []\n",
    "R_obs_072 = []\n",
    "T_SSE_obs_072 = 0\n",
    "f_length_072 = len(f_072)\n",
    "for i in range(f_length_072):\n",
    "    model_072.append(((f_072[i]**(-alpha_L))/(1+(f_072[i]/(10**log_f_b))**(alpha_H-alpha_L)))*(10**log_A)+(10**log_poisson))\n",
    "    R_obs_072.append(2*per_072[i]/model_072[i])\n",
    "    T_SSE_obs_072 += (((per_072[i]-model_072[i])/model_072[i])**2)\n",
    "    \n",
    "# 两个统计量\n",
    "T_R_obs_072 = max(R_obs_072)\n",
    "print (\"T_R =\", T_R_obs_072)\n",
    "print (\"T_SSE =\", T_SSE_obs_072)"
   ]
  },
  {
   "cell_type": "code",
   "execution_count": 17,
   "metadata": {},
   "outputs": [],
   "source": [
    "# 5000条光变曲线\n",
    "\n",
    "df = 0.01/f_length_072\n",
    "N = 2*f_length_072\n",
    "counts_list=[None for i in range(5000)]\n",
    "for a in range(5000): \n",
    "    omega = []\n",
    "    POW = []\n",
    "    DFT = []\n",
    "    fr = []\n",
    "    fi = []\n",
    "    f1 = []\n",
    "    for j in range(1,N+1):\n",
    "        omega.append(j*df)\n",
    "        POW.append(((omega[-1]**(-alpha_L))/(1+(omega[-1]/(10**log_f_b))**(alpha_H-alpha_L)))*(10**log_A)+(10**log_poisson))\n",
    "        DFT.append(complex(np.sqrt(POW[-1]*0.5),np.sqrt(POW[-1]*0.5)))\n",
    "        s1=np.random.normal(loc=0.0, scale=1.0, size=None)\n",
    "        s2=np.random.normal(loc=0.0, scale=1.0, size=None)\n",
    "        fr.append((DFT[-1].real)*s1)\n",
    "        fi.append((DFT[-1].imag)*s2)\n",
    "        f1.append(complex(fr[-1],fi[-1]))\n",
    "    counts = ifft(f1)\n",
    "    counts_list[a] = counts\n",
    "    \n",
    "    \n",
    "#周期图\n",
    "per_list=[None for i in range(5000)]\n",
    "TR_list=[]\n",
    "TSSE_list=[]\n",
    "n_TR = 0\n",
    "n_TSSE = 0\n",
    "\n",
    "for a in range(5000):\n",
    "    dft = fft(counts_list[a])\n",
    "    dft1 = dft[0:f_length_072]\n",
    "    per_simu = (abs(dft1)**2)\n",
    "    per_list[a] = per_simu\n",
    "    R_simu = []\n",
    "    T_SSE_simu = 0\n",
    "    for i in range(f_length_072):\n",
    "        R_simu.append(2*per_simu[i]/model_072[i])\n",
    "        T_SSE_simu += (((per_simu[i]-model_072[i])/model_072[i])**2)\n",
    "    TR_list.append(max(R_simu))\n",
    "    TSSE_list.append(T_SSE_simu)\n",
    "    if TR_list[-1]>T_R_obs_072:\n",
    "        n_TR += 1\n",
    "    if TSSE_list[-1]>T_SSE_obs_072:\n",
    "        n_TSSE += 1"
   ]
  },
  {
   "cell_type": "code",
   "execution_count": 18,
   "metadata": {},
   "outputs": [
    {
     "data": {
      "image/png": "[encoded data removed]",
      "text/plain": [
       "<Figure size 720x576 with 1 Axes>"
      ]
     },
     "metadata": {
      "needs_background": "light"
     },
     "output_type": "display_data"
    }
   ],
   "source": [
    "pc = n_TR/5000\n",
    "p_TR = (\"%.2f\" % pc)\n",
    "fig = plt.figure(figsize=(10,8))\n",
    "ax = fig.add_subplot(111)\n",
    "plt.hist(TR_list, bins=20, density=True, color=\"b\", edgecolor='k')\n",
    "plt.axvline(T_R_obs_072, color=\"r\", linewidth=2)\n",
    "plt.text(0.9, 0.9,'p=%s'%p_TR, color='red', ha='center', transform=ax.transAxes, fontsize=20)\n",
    "ax.set_xlabel(\"$T_R\\ statistic$\",fontsize=15)\n",
    "ax.set_ylabel(\"Density\",fontsize=15)\n",
    "plt.show()"
   ]
  },
  {
   "cell_type": "code",
   "execution_count": 19,
   "metadata": {},
   "outputs": [
    {
     "data": {
      "image/png": "[encoded data removed]",
      "text/plain": [
       "<Figure size 720x576 with 1 Axes>"
      ]
     },
     "metadata": {
      "needs_background": "light"
     },
     "output_type": "display_data"
    }
   ],
   "source": [
    "pc = n_TSSE/5000\n",
    "p_TSSE = (\"%.2f\" % pc)\n",
    "fig = plt.figure(figsize=(10,8))\n",
    "ax = fig.add_subplot(111)\n",
    "plt.hist(TSSE_list, bins=20, density=True, color=\"b\", edgecolor='k')\n",
    "plt.axvline(T_SSE_obs_072, color=\"r\", linewidth=2)\n",
    "plt.text(0.9, 0.9,'p=%s'%p_TSSE, color='red', ha='center', transform=ax.transAxes, fontsize=20)\n",
    "ax.set_xlabel(\"$T_{SSE}\\ statistic$\",fontsize=15)\n",
    "ax.set_ylabel(\"Density\",fontsize=15)\n",
    "plt.show()"
   ]
  },
  {
   "cell_type": "code",
   "execution_count": null,
   "metadata": {},
   "outputs": [],
   "source": []
  }
 ],
 "metadata": {
  "kernelspec": {
   "display_name": "Python 3",
   "language": "python",
   "name": "python3"
  },
  "language_info": {
   "codemirror_mode": {
    "name": "ipython",
    "version": 3
   },
   "file_extension": ".py",
   "mimetype": "text/x-python",
   "name": "python",
   "nbconvert_exporter": "python",
   "pygments_lexer": "ipython3",
   "version": "3.7.0"
  }
 },
 "nbformat": 4,
 "nbformat_minor": 2
}
